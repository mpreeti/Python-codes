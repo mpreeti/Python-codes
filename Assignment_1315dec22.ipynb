{
 "cells": [
  {
   "cell_type": "markdown",
   "id": "d24b1a01-6526-4a47-bbfd-74b7ae9eba5d",
   "metadata": {},
   "source": [
    "●\tWAP to accept two numbers from the user and display their sum"
   ]
  },
  {
   "cell_type": "code",
   "execution_count": 1,
   "id": "fefd6810-b8ac-498c-9595-91a2679ffd40",
   "metadata": {},
   "outputs": [
    {
     "name": "stdin",
     "output_type": "stream",
     "text": [
      "Enter n1: 10\n",
      "Enter n2: 20\n"
     ]
    },
    {
     "name": "stdout",
     "output_type": "stream",
     "text": [
      "Sum of two numbers is: 30\n"
     ]
    }
   ],
   "source": [
    "n1=int(input(\"Enter n1:\"))\n",
    "n2=int(input(\"Enter n2:\"))\n",
    "n3=n1+n2\n",
    "print(\"Sum of two numbers is:\",n3)"
   ]
  },
  {
   "cell_type": "markdown",
   "id": "261aeaf8-11e2-4f9e-80d1-0b84ed4158c0",
   "metadata": {},
   "source": [
    "●\tWAP to accept radius of a Circle from the user and calculate area and circumference"
   ]
  },
  {
   "cell_type": "code",
   "execution_count": 5,
   "id": "93ab2698-1c78-4dbe-8c37-60f7e13cf4d6",
   "metadata": {},
   "outputs": [
    {
     "name": "stdin",
     "output_type": "stream",
     "text": [
      "enter radius: 5\n"
     ]
    },
    {
     "name": "stdout",
     "output_type": "stream",
     "text": [
      "Area of circle: 78.54\n",
      "Circumference of circle: 31.416\n"
     ]
    }
   ],
   "source": [
    "from math import pi\n",
    "r=int(input(\"enter radius:\"))\n",
    "Area_of_circle = round(pi*r* r,3)\n",
    "Circumference_of_circle  =round(2 * pi * r , 3)\n",
    "print(\"Area of circle:\",Area_of_circle)\n",
    "print(\"Circumference of circle:\",Circumference_of_circle)"
   ]
  },
  {
   "cell_type": "markdown",
   "id": "04223507-956e-42f6-8f0b-58583bbc6c6a",
   "metadata": {},
   "source": [
    "●\tWAP to accept roll number , grade and percentage as input from the user and display it back"
   ]
  },
  {
   "cell_type": "code",
   "execution_count": 18,
   "id": "88680b36-164d-4af1-9730-95d3904f6024",
   "metadata": {},
   "outputs": [
    {
     "name": "stdin",
     "output_type": "stream",
     "text": [
      "enter roll.no: 3\n",
      "enter grade: A\n",
      "enter percentage: 67.89\n"
     ]
    },
    {
     "name": "stdout",
     "output_type": "stream",
     "text": [
      "Roll_number: 3\n",
      "Grade: A\n",
      "Percentage:67.89%\n"
     ]
    }
   ],
   "source": [
    "roll=int(input(\"enter roll.no:\"))\n",
    "grade=input(\"enter grade:\")\n",
    "percentage=float(input(\"enter percentage:\"))\n",
    "print(\"Roll_number:\",roll)\n",
    "print(\"Grade:\",grade)\n",
    "print(\"Percentage:{0}%\" .format(percentage))"
   ]
  },
  {
   "cell_type": "markdown",
   "id": "e8926f92-013b-4265-9580-7230fc0e1711",
   "metadata": {},
   "source": [
    "●\tWrite a program that asks the user to enter his/her name and age. Print out a message , displaying the user’s name along with the year in which they will turn 100 years old."
   ]
  },
  {
   "cell_type": "code",
   "execution_count": 24,
   "id": "c4d92e21-c43c-42d2-90b0-5f73b58e297d",
   "metadata": {},
   "outputs": [
    {
     "name": "stdin",
     "output_type": "stream",
     "text": [
      "Please enter name: Preeti\n",
      "How old are you? 34\n"
     ]
    },
    {
     "name": "stdout",
     "output_type": "stream",
     "text": [
      "Preeti would turn 100 years old in: 2088\n"
     ]
    }
   ],
   "source": [
    "name=input(\"Please enter name:\")\n",
    "age=int(input(\"How old are you?\"))\n",
    "age100=(2022-age) + 100\n",
    "print(name,\"would turn 100 years old in:\",age100)"
   ]
  },
  {
   "cell_type": "markdown",
   "id": "9c951462-e708-4a7e-a258-faf52dfcf7d3",
   "metadata": {},
   "source": [
    "●\tWrite a program that asks the user to input 2 integers and adds them . Accept both the numbers in a single line only"
   ]
  },
  {
   "cell_type": "code",
   "execution_count": 35,
   "id": "747084c4-3072-48d8-b995-ceeaa956c55a",
   "metadata": {},
   "outputs": [
    {
     "name": "stdin",
     "output_type": "stream",
     "text": [
      "Enter 2 numbers: 23 56\n"
     ]
    },
    {
     "name": "stdout",
     "output_type": "stream",
     "text": [
      "First num is: 23\n",
      "Second number is: 56\n",
      "Addition of 2 numbers: 79\n"
     ]
    }
   ],
   "source": [
    "num=input(\"Enter 2 numbers:\")\n",
    "n1,n2=num.split()\n",
    "print(\"First num is:\",n1)\n",
    "print(\"Second number is:\",n2)\n",
    "n3= int(n1) + int(n2)\n",
    "print(\"Addition of 2 numbers:\",n3)"
   ]
  },
  {
   "cell_type": "markdown",
   "id": "83437fb2-cfd9-4f89-b82b-3f13276fd01b",
   "metadata": {},
   "source": [
    "●\tWrite a Python program which accepts the user's first and last name and print them in reverse order with a space between them."
   ]
  },
  {
   "cell_type": "code",
   "execution_count": 40,
   "id": "f97a5442-8387-43b2-b9c7-0ab23c702702",
   "metadata": {},
   "outputs": [
    {
     "name": "stdin",
     "output_type": "stream",
     "text": [
      "enter firstname: Preeti\n",
      "enter lastname Motwani\n"
     ]
    },
    {
     "name": "stdout",
     "output_type": "stream",
     "text": [
      "Firstname and Lasttname in reverse order: inawtoM iteerP\n"
     ]
    }
   ],
   "source": [
    "firstname=input(\"enter firstname:\")\n",
    "lastname=input(\"enter lastname\")\n",
    "name=firstname + ' ' + lastname\n",
    "fullname_in_reverse=name[::-1]\n",
    "print(\"Firstname and Lasttname in reverse order:\",fullname_in_reverse)"
   ]
  },
  {
   "cell_type": "markdown",
   "id": "30aea725-0eed-41c6-b5cd-0af92148a974",
   "metadata": {},
   "source": [
    "●\tWAP to accept an integer from the user and check whether it is an even or odd "
   ]
  },
  {
   "cell_type": "code",
   "execution_count": 43,
   "id": "141667e5-a1a1-439d-be67-4e6f4085b54f",
   "metadata": {},
   "outputs": [
    {
     "name": "stdin",
     "output_type": "stream",
     "text": [
      "Enter integer: 6\n"
     ]
    },
    {
     "name": "stdout",
     "output_type": "stream",
     "text": [
      "Number 6 is an even num\n"
     ]
    }
   ],
   "source": [
    "num=int(input(\"Enter integer:\"))\n",
    "if num %2 ==0:\n",
    "        print(\"Number {} is an even number\".format(num))\n",
    "else:\n",
    "      print(\"Number {} is an odd number\".format(num)) "
   ]
  },
  {
   "cell_type": "markdown",
   "id": "8b93a03e-77f8-41f9-93a7-ad66876a1cd6",
   "metadata": {},
   "source": [
    "●\tWAP to accept a character from the user and check whether it is a capital letter or small letter. Assume user will input only alphabets"
   ]
  },
  {
   "cell_type": "code",
   "execution_count": 46,
   "id": "0d425346-7949-46af-945d-a687f268a309",
   "metadata": {},
   "outputs": [
    {
     "name": "stdin",
     "output_type": "stream",
     "text": [
      "Enter a letter: r\n"
     ]
    },
    {
     "name": "stdout",
     "output_type": "stream",
     "text": [
      "char r is small letter\n"
     ]
    }
   ],
   "source": [
    "char=input(\"Enter a letter:\")\n",
    "if char in ('A-Z'):\n",
    "    print(\"char {} is capital letter\".format(char))\n",
    "else:\n",
    "    print(\"char {} is small letter\".format(char))"
   ]
  },
  {
   "cell_type": "markdown",
   "id": "fdffba05-51d5-41e9-8edf-bb0754c3dbb7",
   "metadata": {},
   "source": [
    "WAP to accept a character from the user and check whether it is a capital letter or small letter or a digit or some special symbol"
   ]
  },
  {
   "cell_type": "code",
   "execution_count": 58,
   "id": "45fc4af3-8a21-463d-9227-5c7da9ec3f13",
   "metadata": {},
   "outputs": [
    {
     "name": "stdin",
     "output_type": "stream",
     "text": [
      "Enter Character: 5\n"
     ]
    },
    {
     "name": "stdout",
     "output_type": "stream",
     "text": [
      "char 5 is a digit\n"
     ]
    }
   ],
   "source": [
    "ch=input(\"Enter Character:\")\n",
    "if ch in ('A-Z'):\n",
    "    print(\"char {} is capital letter\".format(ch))\n",
    "elif ch in ('a-z'):\n",
    "    print(\"char {} is small letter\".format(ch))\n",
    "elif ch.isdigit():\n",
    "    print(\"char {} is a digit\".format(ch))\n",
    "else:\n",
    "    print(\"char {} is special symbol\".format(ch))\n",
    "    "
   ]
  },
  {
   "cell_type": "markdown",
   "id": "09c102fd-f318-4ccd-9379-3eb7c9d0fa40",
   "metadata": {},
   "source": [
    "●\tWAP to accept 3 integers from the user and without using any logical operator and cascading of relational operators , find out the greatest number amongst them"
   ]
  },
  {
   "cell_type": "code",
   "execution_count": 76,
   "id": "7a7a3659-c778-438c-9d6e-48d9a679adad",
   "metadata": {},
   "outputs": [
    {
     "name": "stdin",
     "output_type": "stream",
     "text": [
      "enter first num: 7\n",
      "enter second num: 3\n",
      "enter third num: 5\n"
     ]
    },
    {
     "name": "stdout",
     "output_type": "stream",
     "text": [
      "largest num: 7\n"
     ]
    }
   ],
   "source": [
    "a=int(input(\"enter first num:\"))\n",
    "b=int(input(\"enter second num:\"))\n",
    "c=int(input(\"enter third num:\"))\n",
    "if a>b:\n",
    "    if a>c:\n",
    "        largest=a\n",
    "    else:\n",
    "        largest=c\n",
    "else:\n",
    "    if b>c:\n",
    "        largest=b\n",
    "    else:\n",
    "        largest=c\n",
    "    \n",
    "print(\"largest num:\",largest)\n"
   ]
  },
  {
   "cell_type": "markdown",
   "id": "774fc752-d71d-4054-b843-04face60db26",
   "metadata": {},
   "source": [
    "●\tWAP to accept a year from the user and check whether it is a leap year or not."
   ]
  },
  {
   "cell_type": "code",
   "execution_count": 85,
   "id": "cf9a3869-77a3-4086-ae43-01aced4bf4b5",
   "metadata": {},
   "outputs": [
    {
     "name": "stdin",
     "output_type": "stream",
     "text": [
      "Enter a year: 2024\n"
     ]
    },
    {
     "name": "stdout",
     "output_type": "stream",
     "text": [
      "2024 is a leap year\n"
     ]
    }
   ],
   "source": [
    "year=int(input(\"Enter a year:\"))\n",
    "if (year%4==0) and (year%100 !=0):\n",
    "    print('{0} is a leap year'.format(year))\n",
    "elif (year%400==0) :\n",
    "    print('{0} is a leap year'.format(year))\n",
    "    \n",
    "else:\n",
    "    print('{0} is not a leap year'.format(year))\n",
    "            "
   ]
  },
  {
   "cell_type": "markdown",
   "id": "b1607814-9ce1-471a-8b9f-958f0896b522",
   "metadata": {},
   "source": [
    "●\tWrite a program using a for loop to accept a string from the user and display it vertically but don’t display the vowels in it."
   ]
  },
  {
   "cell_type": "code",
   "execution_count": 90,
   "id": "e7ddf4e3-d587-4d44-b7cd-77966539d474",
   "metadata": {},
   "outputs": [
    {
     "name": "stdin",
     "output_type": "stream",
     "text": [
      "Enter a string: Preeti Motwani\n"
     ]
    },
    {
     "name": "stdout",
     "output_type": "stream",
     "text": [
      "P\n",
      "r\n",
      "t\n",
      " \n",
      "M\n",
      "t\n",
      "w\n",
      "n\n"
     ]
    }
   ],
   "source": [
    "str=input(\"Enter a string:\")\n",
    "for ch in str:\n",
    "      if ch not in ('A','E','I','O','U','a','e','i','o','u'):\n",
    "        print(ch)\n",
    "    "
   ]
  },
  {
   "cell_type": "markdown",
   "id": "772476ee-e6e2-49a0-b7f8-d2c4bc7bafe1",
   "metadata": {},
   "source": [
    "●\tWrite a program to continuously accept integers from the user until the user types 0 and as soon as 0 is entered display sum of all the nos entered before 0"
   ]
  },
  {
   "cell_type": "code",
   "execution_count": 12,
   "id": "6d8897a0-2af9-4785-a362-88253e296725",
   "metadata": {},
   "outputs": [
    {
     "name": "stdin",
     "output_type": "stream",
     "text": [
      "enter a number: 2\n",
      "enter a number: 4\n",
      "enter a number: 7\n",
      "enter a number: 0\n"
     ]
    },
    {
     "name": "stdout",
     "output_type": "stream",
     "text": [
      "13\n"
     ]
    }
   ],
   "source": [
    "sum=0\n",
    "tot=0\n",
    "while True:\n",
    "    num=int(input(\"enter a number:\"))\n",
    "    if num==0:\n",
    "        break\n",
    "    try :\n",
    "        num1 = int(num)\n",
    "    except:\n",
    "        print('Invalid input')\n",
    "        continue\n",
    "    num = num+1\n",
    "    tot = tot + num1\n",
    "    \n",
    "print (tot)"
   ]
  },
  {
   "cell_type": "code",
   "execution_count": 2,
   "id": "b713c7a8-bca4-4bc4-a0d9-96169ba079a0",
   "metadata": {},
   "outputs": [
    {
     "name": "stdin",
     "output_type": "stream",
     "text": [
      "Enter a number: 3\n"
     ]
    },
    {
     "name": "stdout",
     "output_type": "stream",
     "text": [
      "1\n",
      "2\n",
      "3\n"
     ]
    },
    {
     "name": "stdin",
     "output_type": "stream",
     "text": [
      "Enter a number: -2\n",
      "Enter a number: 0\n"
     ]
    }
   ],
   "source": [
    "num=int(input(\"Enter a number:\"))\n",
    "while num !=0:\n",
    "    for x in range(1,num+1):\n",
    "        print(x)\n",
    "    num=int(input(\"Enter a number:\"))\n",
    "    if num<0:\n",
    "        continue\n",
    "        "
   ]
  },
  {
   "cell_type": "markdown",
   "id": "9b8eaa32-90f8-477a-88c0-f78716eba41e",
   "metadata": {},
   "source": [
    "●\tWrite a program to accept a string from the user and display it vertically but don’t display the vowels in it"
   ]
  },
  {
   "cell_type": "code",
   "execution_count": 6,
   "id": "f77e0d86-192b-47b6-afb4-d62e30935027",
   "metadata": {},
   "outputs": [
    {
     "name": "stdin",
     "output_type": "stream",
     "text": [
      "Enter a string: Archana\n"
     ]
    },
    {
     "name": "stdout",
     "output_type": "stream",
     "text": [
      "rchn\n"
     ]
    }
   ],
   "source": [
    "import re\n",
    "text=input(\"Enter a string:\")\n",
    "text=text.lower()\n",
    "res=re.sub('[aeiou]','',text)\n",
    "print(res)\n"
   ]
  },
  {
   "cell_type": "markdown",
   "id": "3dbff52a-4802-4c46-884d-d5627c410d1a",
   "metadata": {},
   "source": [
    "●\tWrite a program to accept an integer from the user and display the sum of all the numbers from 1 to that number."
   ]
  },
  {
   "cell_type": "code",
   "execution_count": 9,
   "id": "6779ede0-6c32-46ad-a972-7aa151034512",
   "metadata": {},
   "outputs": [
    {
     "name": "stdin",
     "output_type": "stream",
     "text": [
      "enter a number: 5\n"
     ]
    },
    {
     "name": "stdout",
     "output_type": "stream",
     "text": [
      "sum of nos from 1 to 5 is 15\n"
     ]
    }
   ],
   "source": [
    "num=int(input(\"enter a number:\"))\n",
    "sum=0\n",
    "for i in range(1,num+1):\n",
    "        sum=sum+i\n",
    "print(\"sum of nos from 1 to {} is {}\".format(num,sum))"
   ]
  },
  {
   "cell_type": "markdown",
   "id": "4b77fe3e-c604-4f73-a372-7bb4f8389454",
   "metadata": {},
   "source": [
    "●\tWrite a program to accept an integer from the user and calculate its factorial"
   ]
  },
  {
   "cell_type": "code",
   "execution_count": 10,
   "id": "5420714e-15bb-4c05-8b55-95704418600c",
   "metadata": {},
   "outputs": [
    {
     "name": "stdin",
     "output_type": "stream",
     "text": [
      "enter a num: 6\n"
     ]
    },
    {
     "name": "stdout",
     "output_type": "stream",
     "text": [
      "720\n"
     ]
    }
   ],
   "source": [
    "num=int(input(\"enter a num:\"))\n",
    "fact=1\n",
    "for i in range(1,num+1):\n",
    "    fact=fact*i\n",
    "print(fact)"
   ]
  },
  {
   "cell_type": "markdown",
   "id": "9b4788ae-9bd5-434c-83d4-7df74100b181",
   "metadata": {},
   "source": [
    "●\tWrite a program to print the following pattern "
   ]
  },
  {
   "cell_type": "code",
   "execution_count": 11,
   "id": "22cc4ab5-3be9-4fb9-9e9f-60f49437d9de",
   "metadata": {},
   "outputs": [
    {
     "name": "stdout",
     "output_type": "stream",
     "text": [
      "***\n",
      "***\n",
      "***\n",
      "***\n"
     ]
    }
   ],
   "source": [
    "for i in range(1,5):\n",
    "    for j in range(1,4):\n",
    "        print('*',end='')\n",
    "    print()"
   ]
  },
  {
   "cell_type": "markdown",
   "id": "fd13e112-d895-44d2-bf50-c9b670e72a5f",
   "metadata": {},
   "source": [
    "●\tWrite a program to print the following pattern "
   ]
  },
  {
   "cell_type": "code",
   "execution_count": 12,
   "id": "ba1f280f-09f0-405b-8f6d-0aca5bd3be7b",
   "metadata": {},
   "outputs": [
    {
     "name": "stdout",
     "output_type": "stream",
     "text": [
      "* \n",
      "* * \n",
      "* * * \n",
      "* * * * \n"
     ]
    }
   ],
   "source": [
    "for i in range(1,5):\n",
    "    for j in range(1,i+1):\n",
    "        print('*',end=' ')\n",
    "    print()"
   ]
  },
  {
   "cell_type": "markdown",
   "id": "d2116b3c-e36b-4d0c-b9e7-bd073004b7d9",
   "metadata": {},
   "source": [
    "●\tWrite a program to print the following pattern "
   ]
  },
  {
   "cell_type": "code",
   "execution_count": 13,
   "id": "7e48faed-64f3-4c3b-acf2-0fc896a5f415",
   "metadata": {},
   "outputs": [
    {
     "name": "stdout",
     "output_type": "stream",
     "text": [
      "* * * * \n",
      "* * * \n",
      "* * \n",
      "* \n"
     ]
    }
   ],
   "source": [
    "for i in range(4,0,-1):\n",
    "    for j in range(1,i+1):\n",
    "        print('*',end=' ')\n",
    "    print()"
   ]
  },
  {
   "cell_type": "markdown",
   "id": "bebc14a8-37ac-4543-846a-e57138534edb",
   "metadata": {},
   "source": [
    "●\tWrite a program to accept an integer from the user and display all the numbers from 1 to that number. Repeat the process until the user enters 0."
   ]
  },
  {
   "cell_type": "code",
   "execution_count": 20,
   "id": "a7d549f7-997a-4715-bc35-2fc6ee8b18a4",
   "metadata": {},
   "outputs": [
    {
     "name": "stdin",
     "output_type": "stream",
     "text": [
      "Enter a number: 4\n"
     ]
    },
    {
     "name": "stdout",
     "output_type": "stream",
     "text": [
      "1\n",
      "2\n",
      "3\n",
      "4\n"
     ]
    },
    {
     "name": "stdin",
     "output_type": "stream",
     "text": [
      "Enter a number: 9\n"
     ]
    },
    {
     "name": "stdout",
     "output_type": "stream",
     "text": [
      "1\n",
      "2\n",
      "3\n",
      "4\n",
      "5\n",
      "6\n",
      "7\n",
      "8\n",
      "9\n"
     ]
    },
    {
     "name": "stdin",
     "output_type": "stream",
     "text": [
      "Enter a number: 0\n"
     ]
    }
   ],
   "source": [
    "num=int(input(\"Enter a number:\"))\n",
    "while num !=0:\n",
    "    for x in range(1,num+1):\n",
    "        print(x)\n",
    "    num=int(input(\"Enter a number:\"))\n",
    "  \n",
    "    "
   ]
  },
  {
   "cell_type": "code",
   "execution_count": 42,
   "id": "e552cb42-3fe4-4387-9068-788d4a79211e",
   "metadata": {},
   "outputs": [
    {
     "name": "stdout",
     "output_type": "stream",
     "text": [
      "8\n"
     ]
    },
    {
     "name": "stdin",
     "output_type": "stream",
     "text": [
      "Guess the number: 3\n"
     ]
    },
    {
     "name": "stdout",
     "output_type": "stream",
     "text": [
      "Number too small\n"
     ]
    },
    {
     "name": "stdin",
     "output_type": "stream",
     "text": [
      "Guess the number: 6\n"
     ]
    },
    {
     "name": "stdout",
     "output_type": "stream",
     "text": [
      "Number too small\n"
     ]
    },
    {
     "name": "stdin",
     "output_type": "stream",
     "text": [
      "Guess the number: -1\n"
     ]
    },
    {
     "name": "stdout",
     "output_type": "stream",
     "text": [
      "User quits.\n"
     ]
    }
   ],
   "source": [
    "import random\n",
    "x=random.randint(1,9)\n",
    "print(x)\n",
    "while True:\n",
    "    try:\n",
    "        num=int(input(\"Guess the number:\"))\n",
    "        if num==0 or num<=0:\n",
    "            print(\"User quits.\")\n",
    "            break\n",
    "        if num==x:\n",
    "            print(\"Congratulations!You guessed it right\")\n",
    "        elif num>x:\n",
    "            print(\"Number too large\")\n",
    "        elif num>0 and num<=x:\n",
    "             print(\"Number too small\")\n",
    "    except:\n",
    "        continue\n",
    "             \n",
    "                \n",
    "            "
   ]
  },
  {
   "cell_type": "code",
   "execution_count": null,
   "id": "20fe26e3-7d02-4601-8a7a-25c06d0cb5a5",
   "metadata": {},
   "outputs": [],
   "source": []
  }
 ],
 "metadata": {
  "kernelspec": {
   "display_name": "Python 3 (ipykernel)",
   "language": "python",
   "name": "python3"
  },
  "language_info": {
   "codemirror_mode": {
    "name": "ipython",
    "version": 3
   },
   "file_extension": ".py",
   "mimetype": "text/x-python",
   "name": "python",
   "nbconvert_exporter": "python",
   "pygments_lexer": "ipython3",
   "version": "3.10.6"
  }
 },
 "nbformat": 4,
 "nbformat_minor": 5
}
