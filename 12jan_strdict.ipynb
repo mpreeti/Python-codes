{
 "cells": [
  {
   "cell_type": "markdown",
   "id": "60fe5a92-acea-42a6-80c7-32942996b795",
   "metadata": {},
   "source": [
    "# String"
   ]
  },
  {
   "cell_type": "code",
   "execution_count": 1,
   "id": "53ef44d2-03cd-45ba-b275-e1e9cd0ee2d9",
   "metadata": {},
   "outputs": [],
   "source": [
    "mystring='john'"
   ]
  },
  {
   "cell_type": "code",
   "execution_count": 2,
   "id": "d7cdd2f1-da54-4114-8f95-c0ae20534eab",
   "metadata": {},
   "outputs": [
    {
     "data": {
      "text/plain": [
       "'john'"
      ]
     },
     "execution_count": 2,
     "metadata": {},
     "output_type": "execute_result"
    }
   ],
   "source": [
    "mystring"
   ]
  },
  {
   "cell_type": "code",
   "execution_count": 7,
   "id": "f6d74377-132e-4524-8a9a-157f5b380034",
   "metadata": {},
   "outputs": [
    {
     "name": "stdout",
     "output_type": "stream",
     "text": [
      "john\n"
     ]
    }
   ],
   "source": [
    "print(mystring)"
   ]
  },
  {
   "cell_type": "code",
   "execution_count": 5,
   "id": "17c2a52f-f7c3-451e-9c8a-e0a7911216ac",
   "metadata": {},
   "outputs": [
    {
     "data": {
      "text/plain": [
       "str"
      ]
     },
     "execution_count": 5,
     "metadata": {},
     "output_type": "execute_result"
    }
   ],
   "source": [
    "type(mystring)"
   ]
  },
  {
   "cell_type": "code",
   "execution_count": 3,
   "id": "bdfc7b68-f03d-4fec-8edb-66b9fc611b76",
   "metadata": {},
   "outputs": [],
   "source": [
    "mychar='A'"
   ]
  },
  {
   "cell_type": "code",
   "execution_count": 6,
   "id": "dbba3bd4-a269-4315-9d14-57fa4b233ed5",
   "metadata": {},
   "outputs": [
    {
     "data": {
      "text/plain": [
       "str"
      ]
     },
     "execution_count": 6,
     "metadata": {},
     "output_type": "execute_result"
    }
   ],
   "source": [
    "type(mychar)"
   ]
  },
  {
   "cell_type": "code",
   "execution_count": 9,
   "id": "d1252bfd-e5b6-45fd-b2f6-4efc0d94b829",
   "metadata": {},
   "outputs": [],
   "source": [
    "mystring2=\"\"\"i\n",
    "am \n",
    "good\"\"\""
   ]
  },
  {
   "cell_type": "code",
   "execution_count": 10,
   "id": "d212ad8d-2318-479f-a91a-809a763ca030",
   "metadata": {},
   "outputs": [
    {
     "data": {
      "text/plain": [
       "'i\\nam \\ngood'"
      ]
     },
     "execution_count": 10,
     "metadata": {},
     "output_type": "execute_result"
    }
   ],
   "source": [
    "mystring2"
   ]
  },
  {
   "cell_type": "code",
   "execution_count": 11,
   "id": "f60fb5b9-4763-4cbd-81fa-d5201d8ca4ae",
   "metadata": {},
   "outputs": [
    {
     "name": "stdout",
     "output_type": "stream",
     "text": [
      "i\n",
      "am \n",
      "good\n"
     ]
    }
   ],
   "source": [
    "print(mystring2)"
   ]
  },
  {
   "cell_type": "code",
   "execution_count": 12,
   "id": "5ec3b906-382f-4bcb-a6c2-0c2749858ad6",
   "metadata": {},
   "outputs": [],
   "source": [
    "mystring=\"\""
   ]
  },
  {
   "cell_type": "code",
   "execution_count": 13,
   "id": "683b7483-1845-47e3-91f5-0ebb36ceef13",
   "metadata": {},
   "outputs": [
    {
     "data": {
      "text/plain": [
       "''"
      ]
     },
     "execution_count": 13,
     "metadata": {},
     "output_type": "execute_result"
    }
   ],
   "source": [
    "mystring"
   ]
  },
  {
   "cell_type": "code",
   "execution_count": 14,
   "id": "58b22bc0-fe20-40df-a514-2aedf089341b",
   "metadata": {},
   "outputs": [],
   "source": [
    "mystring=\" \""
   ]
  },
  {
   "cell_type": "code",
   "execution_count": 15,
   "id": "d862c97a-ba76-4a24-b2a2-e02dac17663d",
   "metadata": {},
   "outputs": [
    {
     "data": {
      "text/plain": [
       "' '"
      ]
     },
     "execution_count": 15,
     "metadata": {},
     "output_type": "execute_result"
    }
   ],
   "source": [
    "mystring"
   ]
  },
  {
   "cell_type": "code",
   "execution_count": 19,
   "id": "2390398b-5df0-4121-8c10-abfe5c7f7cbc",
   "metadata": {},
   "outputs": [],
   "source": [
    "mystring5='i like python'"
   ]
  },
  {
   "cell_type": "code",
   "execution_count": 20,
   "id": "d164188a-0320-4040-8658-3309d1cc30ba",
   "metadata": {},
   "outputs": [
    {
     "data": {
      "text/plain": [
       "13"
      ]
     },
     "execution_count": 20,
     "metadata": {},
     "output_type": "execute_result"
    }
   ],
   "source": [
    "len(mystring5)"
   ]
  },
  {
   "cell_type": "code",
   "execution_count": 21,
   "id": "841ed70d-5211-46b6-88b0-c6580a2d37b4",
   "metadata": {},
   "outputs": [
    {
     "data": {
      "text/plain": [
       "12"
      ]
     },
     "execution_count": 21,
     "metadata": {},
     "output_type": "execute_result"
    }
   ],
   "source": [
    "len(mystring5)-1"
   ]
  },
  {
   "cell_type": "code",
   "execution_count": 26,
   "id": "cdc27481-d424-4060-a418-a58c94613d8b",
   "metadata": {},
   "outputs": [
    {
     "name": "stdout",
     "output_type": "stream",
     "text": [
      "e\n"
     ]
    }
   ],
   "source": [
    "print(mystring5[5])"
   ]
  },
  {
   "cell_type": "code",
   "execution_count": 27,
   "id": "8ac58a59-f607-41f0-b2d1-4418c4574847",
   "metadata": {},
   "outputs": [
    {
     "name": "stdout",
     "output_type": "stream",
     "text": [
      "like\n"
     ]
    }
   ],
   "source": [
    "print(mystring5[2:6])"
   ]
  },
  {
   "cell_type": "markdown",
   "id": "1fb3b905-fefa-49cc-b6ba-36da96835e3c",
   "metadata": {},
   "source": [
    "# wap to take input from user and print it in reverse order\n",
    "# note: dont use slicing operator."
   ]
  },
  {
   "cell_type": "code",
   "execution_count": 30,
   "id": "2904e528-8e74-4bb7-b157-56a42fd8d3a5",
   "metadata": {},
   "outputs": [
    {
     "name": "stdin",
     "output_type": "stream",
     "text": [
      "Enter a str: preeti\n"
     ]
    }
   ],
   "source": [
    "name=input('Enter a str:')"
   ]
  },
  {
   "cell_type": "code",
   "execution_count": 38,
   "id": "f1d29601-0a92-403c-98b9-51d6624e271a",
   "metadata": {},
   "outputs": [
    {
     "data": {
      "text/plain": [
       "6"
      ]
     },
     "execution_count": 38,
     "metadata": {},
     "output_type": "execute_result"
    }
   ],
   "source": [
    "len(name)"
   ]
  },
  {
   "cell_type": "code",
   "execution_count": 39,
   "id": "7f1eee7e-9e4b-4d72-aa4a-f965d36c671a",
   "metadata": {},
   "outputs": [
    {
     "data": {
      "text/plain": [
       "5"
      ]
     },
     "execution_count": 39,
     "metadata": {},
     "output_type": "execute_result"
    }
   ],
   "source": [
    "len(name)-1    # len -1 as 6 means 0 to 5"
   ]
  },
  {
   "cell_type": "code",
   "execution_count": 40,
   "id": "3f54289f-f3b6-41e9-801f-86fcc8c01a16",
   "metadata": {},
   "outputs": [
    {
     "data": {
      "text/plain": [
       "range(0, 5)"
      ]
     },
     "execution_count": 40,
     "metadata": {},
     "output_type": "execute_result"
    }
   ],
   "source": [
    "range(len(name)-1)"
   ]
  },
  {
   "cell_type": "code",
   "execution_count": 41,
   "id": "a0dda1ea-3127-4337-96e6-e1fc7651cba7",
   "metadata": {},
   "outputs": [
    {
     "data": {
      "text/plain": [
       "range(5, -1)"
      ]
     },
     "execution_count": 41,
     "metadata": {},
     "output_type": "execute_result"
    }
   ],
   "source": [
    "range(len(name)-1,-1) # reverse the string with second -1"
   ]
  },
  {
   "cell_type": "code",
   "execution_count": 42,
   "id": "92c352db-b2c3-4f68-be01-39f3ca1e9048",
   "metadata": {},
   "outputs": [
    {
     "data": {
      "text/plain": [
       "range(5, -1, -1)"
      ]
     },
     "execution_count": 42,
     "metadata": {},
     "output_type": "execute_result"
    }
   ],
   "source": [
    "range(len(name)-1,-1,-1)"
   ]
  },
  {
   "cell_type": "code",
   "execution_count": 43,
   "id": "418263a1-f9cd-4ed5-88a6-4d1c68515a3b",
   "metadata": {},
   "outputs": [
    {
     "data": {
      "text/plain": [
       "[5, 4, 3, 2, 1, 0]"
      ]
     },
     "execution_count": 43,
     "metadata": {},
     "output_type": "execute_result"
    }
   ],
   "source": [
    "list(range(len(name)-1,-1,-1))"
   ]
  },
  {
   "cell_type": "code",
   "execution_count": 46,
   "id": "4d4b50bd-32f4-4b05-81ed-aef4f9daffe9",
   "metadata": {},
   "outputs": [
    {
     "name": "stdout",
     "output_type": "stream",
     "text": [
      "i\n",
      "t\n",
      "e\n",
      "e\n",
      "r\n",
      "p\n"
     ]
    }
   ],
   "source": [
    "for i in list(range(len(name)-1,-1,-1)):\n",
    "    print(name[i])"
   ]
  },
  {
   "cell_type": "code",
   "execution_count": 47,
   "id": "f8c5e704-a1d8-4fb6-80f3-d55a4034dcea",
   "metadata": {},
   "outputs": [
    {
     "name": "stdin",
     "output_type": "stream",
     "text": [
      "write your name rishi\n"
     ]
    },
    {
     "name": "stdout",
     "output_type": "stream",
     "text": [
      "i\n",
      "h\n",
      "s\n",
      "i\n",
      "r\n"
     ]
    }
   ],
   "source": [
    "name=input(\"write your name\")\n",
    "for i in range(len(name)-1,-1,-1):\n",
    "    print(name[i])"
   ]
  },
  {
   "cell_type": "markdown",
   "id": "225b5e87-e66b-4cc4-ba1f-fa8203393682",
   "metadata": {},
   "source": [
    "# operators"
   ]
  },
  {
   "cell_type": "code",
   "execution_count": 48,
   "id": "3c1e526f-ce53-4aa4-8f37-accd9023db8c",
   "metadata": {},
   "outputs": [
    {
     "data": {
      "text/plain": [
       "'preeti motwani'"
      ]
     },
     "execution_count": 48,
     "metadata": {},
     "output_type": "execute_result"
    }
   ],
   "source": [
    "'preeti' + ' ' + 'motwani'"
   ]
  },
  {
   "cell_type": "code",
   "execution_count": 49,
   "id": "640a6238-cf00-41db-b750-7278033c4fef",
   "metadata": {},
   "outputs": [
    {
     "data": {
      "text/plain": [
       "'preetipreeti'"
      ]
     },
     "execution_count": 49,
     "metadata": {},
     "output_type": "execute_result"
    }
   ],
   "source": [
    "'preeti'*2"
   ]
  },
  {
   "cell_type": "code",
   "execution_count": 50,
   "id": "bf1856fb-8473-40f7-a6df-a080142eaa30",
   "metadata": {},
   "outputs": [
    {
     "data": {
      "text/plain": [
       "'banana'"
      ]
     },
     "execution_count": 50,
     "metadata": {},
     "output_type": "execute_result"
    }
   ],
   "source": [
    "'ba' + 'na'*2"
   ]
  },
  {
   "cell_type": "code",
   "execution_count": 51,
   "id": "5f152d5f-cf79-484a-b1d9-2fc4358ebdf9",
   "metadata": {},
   "outputs": [],
   "source": [
    "mystring=\"i love my india\""
   ]
  },
  {
   "cell_type": "code",
   "execution_count": 53,
   "id": "0074e300-efea-4054-bcce-38be4a9722e4",
   "metadata": {},
   "outputs": [
    {
     "data": {
      "text/plain": [
       "True"
      ]
     },
     "execution_count": 53,
     "metadata": {},
     "output_type": "execute_result"
    }
   ],
   "source": [
    "'love' in mystring"
   ]
  },
  {
   "cell_type": "code",
   "execution_count": 54,
   "id": "4173e51a-0a71-40ed-932e-d19b833c0e41",
   "metadata": {},
   "outputs": [
    {
     "data": {
      "text/plain": [
       "False"
      ]
     },
     "execution_count": 54,
     "metadata": {},
     "output_type": "execute_result"
    }
   ],
   "source": [
    "'india' not in mystring"
   ]
  },
  {
   "cell_type": "code",
   "execution_count": 56,
   "id": "19ad2a41-a4c3-42f2-a2dc-90655015b416",
   "metadata": {},
   "outputs": [
    {
     "data": {
      "text/plain": [
       "False"
      ]
     },
     "execution_count": 56,
     "metadata": {},
     "output_type": "execute_result"
    }
   ],
   "source": [
    "'you' in mystring"
   ]
  },
  {
   "cell_type": "code",
   "execution_count": 57,
   "id": "f2a9f4e0-21a0-4ef6-872a-502fae2b1964",
   "metadata": {},
   "outputs": [
    {
     "data": {
      "text/plain": [
       "True"
      ]
     },
     "execution_count": 57,
     "metadata": {},
     "output_type": "execute_result"
    }
   ],
   "source": [
    "\" \" in mystring"
   ]
  },
  {
   "cell_type": "code",
   "execution_count": 58,
   "id": "591a6833-c67d-4f81-838f-ed690859059c",
   "metadata": {},
   "outputs": [
    {
     "data": {
      "text/plain": [
       "True"
      ]
     },
     "execution_count": 58,
     "metadata": {},
     "output_type": "execute_result"
    }
   ],
   "source": [
    "\"\" in mystring"
   ]
  },
  {
   "cell_type": "code",
   "execution_count": 59,
   "id": "63867852-ba02-4ba7-9246-51721c8fd073",
   "metadata": {},
   "outputs": [
    {
     "data": {
      "text/plain": [
       "False"
      ]
     },
     "execution_count": 59,
     "metadata": {},
     "output_type": "execute_result"
    }
   ],
   "source": [
    "\"tim\" == \"tie\""
   ]
  },
  {
   "cell_type": "code",
   "execution_count": 60,
   "id": "7c9eb681-11b3-4a5a-86a4-9bbcb9cc54a7",
   "metadata": {},
   "outputs": [
    {
     "data": {
      "text/plain": [
       "True"
      ]
     },
     "execution_count": 60,
     "metadata": {},
     "output_type": "execute_result"
    }
   ],
   "source": [
    "\"free\" != \"freedom\""
   ]
  },
  {
   "cell_type": "code",
   "execution_count": 61,
   "id": "f94694f2-3cf8-4ba6-b481-26d190e15f7e",
   "metadata": {},
   "outputs": [
    {
     "data": {
      "text/plain": [
       "False"
      ]
     },
     "execution_count": 61,
     "metadata": {},
     "output_type": "execute_result"
    }
   ],
   "source": [
    "\"free\" == \"freedom\""
   ]
  },
  {
   "cell_type": "code",
   "execution_count": 62,
   "id": "19f7e00d-f92e-4785-bc3f-a525fec9544e",
   "metadata": {},
   "outputs": [
    {
     "data": {
      "text/plain": [
       "True"
      ]
     },
     "execution_count": 62,
     "metadata": {},
     "output_type": "execute_result"
    }
   ],
   "source": [
    "\"arrow\" > \"aron\""
   ]
  },
  {
   "cell_type": "code",
   "execution_count": 63,
   "id": "973a931c-c855-486b-a198-6a3584a9d697",
   "metadata": {},
   "outputs": [
    {
     "data": {
      "text/plain": [
       "True"
      ]
     },
     "execution_count": 63,
     "metadata": {},
     "output_type": "execute_result"
    }
   ],
   "source": [
    "\"right\" >= \"left\""
   ]
  },
  {
   "cell_type": "code",
   "execution_count": 64,
   "id": "792538fa-f886-4054-b241-67e771a9a049",
   "metadata": {},
   "outputs": [
    {
     "data": {
      "text/plain": [
       "False"
      ]
     },
     "execution_count": 64,
     "metadata": {},
     "output_type": "execute_result"
    }
   ],
   "source": [
    "\"teeth\" < \"tee\""
   ]
  },
  {
   "cell_type": "code",
   "execution_count": 65,
   "id": "40509593-0db6-4ce6-9bd3-eae3f810819c",
   "metadata": {},
   "outputs": [
    {
     "data": {
      "text/plain": [
       "False"
      ]
     },
     "execution_count": 65,
     "metadata": {},
     "output_type": "execute_result"
    }
   ],
   "source": [
    "\"yellow\" <= \"fellow\""
   ]
  },
  {
   "cell_type": "code",
   "execution_count": 66,
   "id": "8b449f6d-ee2b-4cd1-94ef-007de9959b46",
   "metadata": {},
   "outputs": [
    {
     "data": {
      "text/plain": [
       "True"
      ]
     },
     "execution_count": 66,
     "metadata": {},
     "output_type": "execute_result"
    }
   ],
   "source": [
    "\"abc\" > \" \""
   ]
  },
  {
   "cell_type": "markdown",
   "id": "75271291-fe46-4b95-a87b-20038bd7809f",
   "metadata": {},
   "source": [
    "# membership operators :is and is not"
   ]
  },
  {
   "cell_type": "code",
   "execution_count": 67,
   "id": "87835903-3073-4bad-b52e-0984d7ca8db1",
   "metadata": {},
   "outputs": [],
   "source": [
    "a=\"preeti\"\n",
    "b=\"preeti\""
   ]
  },
  {
   "cell_type": "code",
   "execution_count": 68,
   "id": "edc558df-5638-4af1-8a82-d90e20541f7f",
   "metadata": {},
   "outputs": [
    {
     "data": {
      "text/plain": [
       "True"
      ]
     },
     "execution_count": 68,
     "metadata": {},
     "output_type": "execute_result"
    }
   ],
   "source": [
    "a is b"
   ]
  },
  {
   "cell_type": "code",
   "execution_count": 69,
   "id": "041d70f5-df11-4a7b-b976-04b4fb444ad6",
   "metadata": {},
   "outputs": [],
   "source": [
    "c='motwani'"
   ]
  },
  {
   "cell_type": "code",
   "execution_count": 70,
   "id": "db59e54a-54e5-40ce-aaf4-f44865278139",
   "metadata": {},
   "outputs": [
    {
     "data": {
      "text/plain": [
       "False"
      ]
     },
     "execution_count": 70,
     "metadata": {},
     "output_type": "execute_result"
    }
   ],
   "source": [
    "a is c"
   ]
  },
  {
   "cell_type": "code",
   "execution_count": 71,
   "id": "4ddfeba5-7dfa-4ba3-b537-e5be88047586",
   "metadata": {},
   "outputs": [
    {
     "data": {
      "text/plain": [
       "True"
      ]
     },
     "execution_count": 71,
     "metadata": {},
     "output_type": "execute_result"
    }
   ],
   "source": [
    "a is not c"
   ]
  },
  {
   "cell_type": "markdown",
   "id": "b43b416d-93b8-4914-bae0-755ebded2642",
   "metadata": {},
   "source": [
    "# function in string\n",
    "# len()\n",
    "# max()\n",
    "# min()\n",
    "# chr()\n",
    "# ord()"
   ]
  },
  {
   "cell_type": "code",
   "execution_count": 72,
   "id": "c9044be0-5ad8-4601-8f0b-edfcbf15b047",
   "metadata": {},
   "outputs": [
    {
     "name": "stdout",
     "output_type": "stream",
     "text": [
      "13\n"
     ]
    }
   ],
   "source": [
    "mystring=\"preetimotwani\"\n",
    "print(len(mystring))"
   ]
  },
  {
   "cell_type": "code",
   "execution_count": 73,
   "id": "73c5eb0a-6210-4c78-8f76-88a4f7d0f14c",
   "metadata": {},
   "outputs": [
    {
     "data": {
      "text/plain": [
       "'w'"
      ]
     },
     "execution_count": 73,
     "metadata": {},
     "output_type": "execute_result"
    }
   ],
   "source": [
    "max(mystring)"
   ]
  },
  {
   "cell_type": "code",
   "execution_count": 74,
   "id": "9c7bf382-bb07-4ce0-9461-2a4f0517c590",
   "metadata": {},
   "outputs": [
    {
     "data": {
      "text/plain": [
       "'a'"
      ]
     },
     "execution_count": 74,
     "metadata": {},
     "output_type": "execute_result"
    }
   ],
   "source": [
    "min(mystring)"
   ]
  },
  {
   "cell_type": "markdown",
   "id": "be0f24b2-1a46-4188-9370-783761d2359e",
   "metadata": {},
   "source": [
    "# returns number of unicode character"
   ]
  },
  {
   "cell_type": "code",
   "execution_count": 75,
   "id": "31a6b7af-d250-4877-95e7-e58480530bc5",
   "metadata": {},
   "outputs": [
    {
     "data": {
      "text/plain": [
       "32"
      ]
     },
     "execution_count": 75,
     "metadata": {},
     "output_type": "execute_result"
    }
   ],
   "source": [
    "ord(\" \")  "
   ]
  },
  {
   "cell_type": "code",
   "execution_count": 77,
   "id": "806ba231-4a67-4abb-9c09-eac268a698cd",
   "metadata": {},
   "outputs": [
    {
     "data": {
      "text/plain": [
       "43"
      ]
     },
     "execution_count": 77,
     "metadata": {},
     "output_type": "execute_result"
    }
   ],
   "source": [
    "ord(\"+\")"
   ]
  },
  {
   "cell_type": "code",
   "execution_count": 76,
   "id": "ae9c1655-ba49-4de1-a68d-3365cac77251",
   "metadata": {},
   "outputs": [
    {
     "data": {
      "text/plain": [
       "97"
      ]
     },
     "execution_count": 76,
     "metadata": {},
     "output_type": "execute_result"
    }
   ],
   "source": [
    "ord(\"a\")"
   ]
  },
  {
   "cell_type": "code",
   "execution_count": 79,
   "id": "4da44e47-9c26-42d1-9dcd-b5e1af5de1c5",
   "metadata": {},
   "outputs": [
    {
     "data": {
      "text/plain": [
       "48"
      ]
     },
     "execution_count": 79,
     "metadata": {},
     "output_type": "execute_result"
    }
   ],
   "source": [
    "ord(\"0\")"
   ]
  },
  {
   "cell_type": "code",
   "execution_count": 80,
   "id": "62a78061-fc8c-43a0-a3c6-b47e66895f13",
   "metadata": {},
   "outputs": [
    {
     "data": {
      "text/plain": [
       "53"
      ]
     },
     "execution_count": 80,
     "metadata": {},
     "output_type": "execute_result"
    }
   ],
   "source": [
    "ord(\"5\")"
   ]
  },
  {
   "cell_type": "code",
   "execution_count": 81,
   "id": "104c6d4e-b142-4a23-a102-6912fc925bc8",
   "metadata": {},
   "outputs": [
    {
     "data": {
      "text/plain": [
       "'+'"
      ]
     },
     "execution_count": 81,
     "metadata": {},
     "output_type": "execute_result"
    }
   ],
   "source": [
    "chr(43)"
   ]
  },
  {
   "cell_type": "code",
   "execution_count": 82,
   "id": "e97a46bb-a8b1-4f7a-879d-e7b734957c93",
   "metadata": {},
   "outputs": [
    {
     "data": {
      "text/plain": [
       "'L'"
      ]
     },
     "execution_count": 82,
     "metadata": {},
     "output_type": "execute_result"
    }
   ],
   "source": [
    "chr(76)"
   ]
  },
  {
   "cell_type": "code",
   "execution_count": 84,
   "id": "fb6990dc-3cca-4109-bbc4-9971b93420c5",
   "metadata": {},
   "outputs": [
    {
     "data": {
      "text/plain": [
       "'p'"
      ]
     },
     "execution_count": 84,
     "metadata": {},
     "output_type": "execute_result"
    }
   ],
   "source": [
    "chr(112)"
   ]
  },
  {
   "cell_type": "markdown",
   "id": "72a9d446-4db1-4eef-be5a-23025b5db591",
   "metadata": {},
   "source": [
    "# methods of the string\n",
    "# capitalize( ):Returns a copy of the string with first character capitalized and rest of the characters in lower case."
   ]
  },
  {
   "cell_type": "code",
   "execution_count": 88,
   "id": "e120939d-18f3-441e-a5a1-9ab8ac433f21",
   "metadata": {},
   "outputs": [
    {
     "data": {
      "text/plain": [
       "'Soul travellers india'"
      ]
     },
     "execution_count": 88,
     "metadata": {},
     "output_type": "execute_result"
    }
   ],
   "source": [
    "name='soul travellers india'\n",
    "newname=name.capitalize()\n",
    "newname"
   ]
  },
  {
   "cell_type": "markdown",
   "id": "c9bdc1ef-3cf5-47f6-8b35-dd323bb6ced9",
   "metadata": {},
   "source": [
    "# lower( )\n",
    "# upper( )\n",
    "# Returns a copy of the string with all letters converted to lowercase and uppercase respectively"
   ]
  },
  {
   "cell_type": "code",
   "execution_count": 89,
   "id": "ec8c74a1-bd54-4dad-b5b4-93cc9869d9b4",
   "metadata": {},
   "outputs": [
    {
     "data": {
      "text/plain": [
       "'preeti motwani'"
      ]
     },
     "execution_count": 89,
     "metadata": {},
     "output_type": "execute_result"
    }
   ],
   "source": [
    "name='Preeti Motwani'\n",
    "name.lower()"
   ]
  },
  {
   "cell_type": "code",
   "execution_count": 90,
   "id": "74718cba-079b-4bcf-a687-0dfac3177eb6",
   "metadata": {},
   "outputs": [
    {
     "data": {
      "text/plain": [
       "'PREETI MOTWANI'"
      ]
     },
     "execution_count": 90,
     "metadata": {},
     "output_type": "execute_result"
    }
   ],
   "source": [
    "name.upper()"
   ]
  },
  {
   "cell_type": "markdown",
   "id": "5173ce2c-7b27-46e2-b88a-088051c1f61b",
   "metadata": {},
   "source": [
    "# swapcase():Returns a copy of the string with the case of every character swapped . Means that lowercase characters are changed to uppercase and vice-versa."
   ]
  },
  {
   "cell_type": "code",
   "execution_count": 91,
   "id": "0f4300f8-d32c-4a57-9964-c8a081ef79c8",
   "metadata": {},
   "outputs": [
    {
     "data": {
      "text/plain": [
       "'pREETI mOTWANI'"
      ]
     },
     "execution_count": 91,
     "metadata": {},
     "output_type": "execute_result"
    }
   ],
   "source": [
    "name='Preeti Motwani'\n",
    "name.swapcase()"
   ]
  },
  {
   "cell_type": "code",
   "execution_count": 92,
   "id": "73ea82e1-733c-4bdc-855c-ecc5f3288273",
   "metadata": {},
   "outputs": [
    {
     "data": {
      "text/plain": [
       "'PREeTI MOtWaNI'"
      ]
     },
     "execution_count": 92,
     "metadata": {},
     "output_type": "execute_result"
    }
   ],
   "source": [
    "name='preEti moTwAni'\n",
    "name.swapcase()"
   ]
  },
  {
   "cell_type": "markdown",
   "id": "985346bc-eca0-4bbf-9e09-8f83eb521e84",
   "metadata": {},
   "source": [
    "# title(): Returns a copy of the string converted to proper case or title case. i.e. , all words begin with uppercase letter and the rest are in lowercase."
   ]
  },
  {
   "cell_type": "code",
   "execution_count": 93,
   "id": "1ce6f620-adf0-4b5f-baa5-89a220879629",
   "metadata": {},
   "outputs": [
    {
     "data": {
      "text/plain": [
       "'Preeti Motwani'"
      ]
     },
     "execution_count": 93,
     "metadata": {},
     "output_type": "execute_result"
    }
   ],
   "source": [
    "name.title()"
   ]
  },
  {
   "cell_type": "markdown",
   "id": "01725964-86d9-4aac-86a2-3d8de546cd06",
   "metadata": {},
   "source": [
    "# islower( )\n",
    "# isupper( )\n",
    "# islower( ) and isupper( )\n",
    "# Returns True or False depending on whether all alphabets in the string are in lowercase and uppercase respectively"
   ]
  },
  {
   "cell_type": "code",
   "execution_count": 94,
   "id": "1a9d503d-8d06-4af7-8e45-2d743e0ba6d6",
   "metadata": {},
   "outputs": [],
   "source": [
    "text=\"this is good\""
   ]
  },
  {
   "cell_type": "code",
   "execution_count": 95,
   "id": "714f95cd-1c92-4d38-9ba7-caa080770b7e",
   "metadata": {},
   "outputs": [
    {
     "data": {
      "text/plain": [
       "True"
      ]
     },
     "execution_count": 95,
     "metadata": {},
     "output_type": "execute_result"
    }
   ],
   "source": [
    "text.islower()"
   ]
  },
  {
   "cell_type": "code",
   "execution_count": 96,
   "id": "24bfdf60-62ea-40e9-84ac-511f99fe87c7",
   "metadata": {},
   "outputs": [
    {
     "data": {
      "text/plain": [
       "False"
      ]
     },
     "execution_count": 96,
     "metadata": {},
     "output_type": "execute_result"
    }
   ],
   "source": [
    "text.isupper()"
   ]
  },
  {
   "cell_type": "code",
   "execution_count": 97,
   "id": "aa1661ca-5276-4560-bea2-a859b7bdf743",
   "metadata": {},
   "outputs": [],
   "source": [
    "text= 'I LIKE PYTHON'"
   ]
  },
  {
   "cell_type": "code",
   "execution_count": 98,
   "id": "432125fe-688c-4411-99c4-26827c243361",
   "metadata": {},
   "outputs": [
    {
     "data": {
      "text/plain": [
       "True"
      ]
     },
     "execution_count": 98,
     "metadata": {},
     "output_type": "execute_result"
    }
   ],
   "source": [
    "text.isupper()"
   ]
  },
  {
   "cell_type": "markdown",
   "id": "735e570e-0840-45a8-9540-7546bbff26b0",
   "metadata": {},
   "source": [
    "# isalpha( )\n",
    "# Returns True if the string contains only alphabets ,otherwise returns False"
   ]
  },
  {
   "cell_type": "code",
   "execution_count": 99,
   "id": "353d1b61-9271-4b57-b021-1de37f581a14",
   "metadata": {},
   "outputs": [],
   "source": [
    "string=\"mynameispreetiilovedatascience\""
   ]
  },
  {
   "cell_type": "code",
   "execution_count": 100,
   "id": "f00c3ebd-24a3-4548-ad66-b2ba98d438e6",
   "metadata": {},
   "outputs": [
    {
     "data": {
      "text/plain": [
       "True"
      ]
     },
     "execution_count": 100,
     "metadata": {},
     "output_type": "execute_result"
    }
   ],
   "source": [
    "string.isalpha()"
   ]
  },
  {
   "cell_type": "markdown",
   "id": "d7579678-9d7d-4630-ad03-adbe208d616e",
   "metadata": {},
   "source": [
    "# isdigit( )\n",
    "# Returns True if the string contains only digits , otherwise returns False"
   ]
  },
  {
   "cell_type": "code",
   "execution_count": 101,
   "id": "155bcd28-4dc9-43c7-a076-229af5f9a8d1",
   "metadata": {},
   "outputs": [
    {
     "data": {
      "text/plain": [
       "True"
      ]
     },
     "execution_count": 101,
     "metadata": {},
     "output_type": "execute_result"
    }
   ],
   "source": [
    "mystring=\"1234567890\"\n",
    "mystring.isdigit()"
   ]
  },
  {
   "cell_type": "markdown",
   "id": "06f3b839-fcfc-448d-aa9a-566f77d9aee0",
   "metadata": {},
   "source": [
    "# isalnum( )\n",
    "# Returns True if the string contains only alphanumeric characters , otherwise returns False"
   ]
  },
  {
   "cell_type": "code",
   "execution_count": 103,
   "id": "82078167-5f01-41e2-b145-9d96b4ffef54",
   "metadata": {},
   "outputs": [],
   "source": [
    "mystring=\"priya123\"\n",
    "mystring1=\"sunny\"\n",
    "mystring2=\"1232345\"\n",
    "mystring3=\"priya123 verma456\"\n",
    "mystring4=\"ehrfjk$%*\""
   ]
  },
  {
   "cell_type": "code",
   "execution_count": 104,
   "id": "5a667a72-3702-4454-acd2-e8fa02c25db0",
   "metadata": {},
   "outputs": [
    {
     "name": "stdout",
     "output_type": "stream",
     "text": [
      "True\n",
      "True\n",
      "True\n",
      "False\n",
      "False\n"
     ]
    }
   ],
   "source": [
    "print(mystring.isalnum())\n",
    "print(mystring1.isalnum())\n",
    "print(mystring2.isalnum())\n",
    "print(mystring3.isalnum())\n",
    "print(mystring4.isalnum())"
   ]
  },
  {
   "cell_type": "markdown",
   "id": "080c1d5c-180c-435a-9f51-9b37cc134abf",
   "metadata": {},
   "source": [
    "# isspace( )\n",
    "# Returns True if the string contains only whitespace characters , otherwise returns False"
   ]
  },
  {
   "cell_type": "code",
   "execution_count": 105,
   "id": "1767e635-d1c2-4352-bc83-e05f71808983",
   "metadata": {},
   "outputs": [],
   "source": [
    "string=' '"
   ]
  },
  {
   "cell_type": "code",
   "execution_count": 106,
   "id": "cd090d56-edda-4378-a892-1a2c440981dd",
   "metadata": {},
   "outputs": [
    {
     "data": {
      "text/plain": [
       "True"
      ]
     },
     "execution_count": 106,
     "metadata": {},
     "output_type": "execute_result"
    }
   ],
   "source": [
    "string.isspace()"
   ]
  },
  {
   "cell_type": "code",
   "execution_count": 107,
   "id": "3a8991ef-4b23-4cfb-b149-1a2bb0354a65",
   "metadata": {},
   "outputs": [],
   "source": [
    "string1=\"\""
   ]
  },
  {
   "cell_type": "code",
   "execution_count": 109,
   "id": "36ce30f4-2852-4098-b82e-1a9cd5e10d76",
   "metadata": {},
   "outputs": [
    {
     "data": {
      "text/plain": [
       "False"
      ]
     },
     "execution_count": 109,
     "metadata": {},
     "output_type": "execute_result"
    }
   ],
   "source": [
    "string1.isspace()"
   ]
  },
  {
   "cell_type": "code",
   "execution_count": 116,
   "id": "ba770028-5fb9-47d7-9119-66a6ea56268c",
   "metadata": {},
   "outputs": [],
   "source": [
    "string2=\"S \" "
   ]
  },
  {
   "cell_type": "code",
   "execution_count": 115,
   "id": "7bb71fc5-dbc9-4610-a924-aa84df7ca98c",
   "metadata": {},
   "outputs": [
    {
     "data": {
      "text/plain": [
       "False"
      ]
     },
     "execution_count": 115,
     "metadata": {},
     "output_type": "execute_result"
    }
   ],
   "source": [
    "string2.isspace()"
   ]
  },
  {
   "cell_type": "markdown",
   "id": "2a7db53d-9dcb-4224-a2be-4a0ecea9be17",
   "metadata": {},
   "source": [
    "# startswith( )\n",
    "# endswith( )"
   ]
  },
  {
   "cell_type": "code",
   "execution_count": 117,
   "id": "f847a808-6591-40c9-84a3-fc49d43df77e",
   "metadata": {},
   "outputs": [],
   "source": [
    "text=\"i love machine learning\""
   ]
  },
  {
   "cell_type": "code",
   "execution_count": 118,
   "id": "b94e41be-6e35-4662-b030-331b7065d58b",
   "metadata": {},
   "outputs": [
    {
     "data": {
      "text/plain": [
       "True"
      ]
     },
     "execution_count": 118,
     "metadata": {},
     "output_type": "execute_result"
    }
   ],
   "source": [
    "text.startswith('i')"
   ]
  },
  {
   "cell_type": "code",
   "execution_count": 120,
   "id": "3f57a95b-e02b-4bb9-9324-5b31c96882c4",
   "metadata": {},
   "outputs": [
    {
     "data": {
      "text/plain": [
       "True"
      ]
     },
     "execution_count": 120,
     "metadata": {},
     "output_type": "execute_result"
    }
   ],
   "source": [
    "text.endswith('learning')"
   ]
  },
  {
   "cell_type": "code",
   "execution_count": 121,
   "id": "a5da9060-2107-4da0-b79d-c33ac716f5fd",
   "metadata": {},
   "outputs": [
    {
     "data": {
      "text/plain": [
       "False"
      ]
     },
     "execution_count": 121,
     "metadata": {},
     "output_type": "execute_result"
    }
   ],
   "source": [
    "text.endswith('machine')"
   ]
  },
  {
   "cell_type": "markdown",
   "id": "e9b5237e-6807-4b1b-9307-5ca1eaee9151",
   "metadata": {},
   "source": [
    "# index( )\n",
    "# Returns the index of first occurrence of a substring inside the string (if found).\n",
    "# If the substring is not found, it raises an exception."
   ]
  },
  {
   "cell_type": "code",
   "execution_count": 122,
   "id": "2d45e6f9-6933-4d41-87ee-972910a71d79",
   "metadata": {},
   "outputs": [],
   "source": [
    "text=\"sunday is fun day fun day\""
   ]
  },
  {
   "cell_type": "code",
   "execution_count": 123,
   "id": "33227cc7-20a8-46ba-9a10-01cd8121042f",
   "metadata": {},
   "outputs": [
    {
     "data": {
      "text/plain": [
       "10"
      ]
     },
     "execution_count": 123,
     "metadata": {},
     "output_type": "execute_result"
    }
   ],
   "source": [
    "text.index('fun')"
   ]
  },
  {
   "cell_type": "code",
   "execution_count": 124,
   "id": "340f8dba-36c5-4fc6-8255-647acd9b8de9",
   "metadata": {},
   "outputs": [
    {
     "data": {
      "text/plain": [
       "3"
      ]
     },
     "execution_count": 124,
     "metadata": {},
     "output_type": "execute_result"
    }
   ],
   "source": [
    "text.index('day')"
   ]
  },
  {
   "cell_type": "markdown",
   "id": "6e6bebed-1b16-4179-9584-fd35921873a6",
   "metadata": {},
   "source": [
    "# count( )\n",
    "# Returns the number of occurrences of a substring in the given string"
   ]
  },
  {
   "cell_type": "code",
   "execution_count": 125,
   "id": "49871b80-b4a7-4c5c-8d2c-7925d135c5b1",
   "metadata": {},
   "outputs": [
    {
     "data": {
      "text/plain": [
       "3"
      ]
     },
     "execution_count": 125,
     "metadata": {},
     "output_type": "execute_result"
    }
   ],
   "source": [
    "text=\"python is awesome. isn't it?, is it true\"\n",
    "text.count(\"is\")"
   ]
  },
  {
   "cell_type": "markdown",
   "id": "3e7f6437-6b6a-4204-9052-7d9922c703db",
   "metadata": {},
   "source": [
    "# split()"
   ]
  },
  {
   "cell_type": "code",
   "execution_count": 127,
   "id": "c2dfc4fa-e685-4940-b6c5-57690e56c8cd",
   "metadata": {},
   "outputs": [
    {
     "data": {
      "text/plain": [
       "['i', 'love', 'my', 'india']"
      ]
     },
     "execution_count": 127,
     "metadata": {},
     "output_type": "execute_result"
    }
   ],
   "source": [
    "\"i@love@my@india\".split(\"@\")"
   ]
  },
  {
   "cell_type": "markdown",
   "id": "3e9ffccf-32fb-4fe9-ad15-2097ccc3206f",
   "metadata": {},
   "source": [
    "# join()"
   ]
  },
  {
   "cell_type": "code",
   "execution_count": 129,
   "id": "047e309d-9d6d-4e85-8eee-9f540b9f436d",
   "metadata": {},
   "outputs": [
    {
     "data": {
      "text/plain": [
       "'p#r#i#y#a'"
      ]
     },
     "execution_count": 129,
     "metadata": {},
     "output_type": "execute_result"
    }
   ],
   "source": [
    "\"#\".join([\"p\",\"r\",\"i\",\"y\",\"a\"])"
   ]
  },
  {
   "cell_type": "code",
   "execution_count": 130,
   "id": "745848cc-e983-4a1d-83c4-865e5af9b343",
   "metadata": {},
   "outputs": [
    {
     "data": {
      "text/plain": [
       "'s@u@n@n@y'"
      ]
     },
     "execution_count": 130,
     "metadata": {},
     "output_type": "execute_result"
    }
   ],
   "source": [
    "\"@\".join(\"sunny\")"
   ]
  },
  {
   "cell_type": "code",
   "execution_count": 131,
   "id": "29458cc0-6dd2-4672-a957-39ea2be37b55",
   "metadata": {},
   "outputs": [
    {
     "data": {
      "text/plain": [
       "'s n y'"
      ]
     },
     "execution_count": 131,
     "metadata": {},
     "output_type": "execute_result"
    }
   ],
   "source": [
    "\" \".join((\"s\",\"n\",\"y\"))"
   ]
  },
  {
   "cell_type": "code",
   "execution_count": 132,
   "id": "dc138396-d748-4a74-bee9-06dfbac54543",
   "metadata": {},
   "outputs": [],
   "source": [
    "name=\"priya\"\n",
    "age=26"
   ]
  },
  {
   "cell_type": "code",
   "execution_count": 133,
   "id": "ac97267e-3d71-47fb-8a0d-b39265cbbf46",
   "metadata": {},
   "outputs": [
    {
     "name": "stdout",
     "output_type": "stream",
     "text": [
      "My name is priya My age is 26\n"
     ]
    }
   ],
   "source": [
    "print('My name is',name,'My age is',age)"
   ]
  },
  {
   "cell_type": "code",
   "execution_count": 134,
   "id": "5163d6ba-5b1e-4cbb-9909-edc9f4d5c1eb",
   "metadata": {},
   "outputs": [
    {
     "name": "stdout",
     "output_type": "stream",
     "text": [
      "My name is priya, My age is 26\n"
     ]
    }
   ],
   "source": [
    "print('My name is {0}, My age is {1}'.format(name,age))"
   ]
  },
  {
   "cell_type": "code",
   "execution_count": 135,
   "id": "0a4d6388-c4a4-4c4b-908f-f57270d26003",
   "metadata": {},
   "outputs": [
    {
     "name": "stdout",
     "output_type": "stream",
     "text": [
      "My name is priya, My age is 26\n"
     ]
    }
   ],
   "source": [
    "print('My name is %s, My age is %d'%(name,age))"
   ]
  },
  {
   "cell_type": "markdown",
   "id": "e5737e20-8659-4d8d-ad73-5cceef7f2f67",
   "metadata": {},
   "source": [
    "# f-string\n",
    "# string interpolation"
   ]
  },
  {
   "cell_type": "code",
   "execution_count": 136,
   "id": "da908d48-731e-4105-ac17-15c5b322bc8b",
   "metadata": {},
   "outputs": [
    {
     "name": "stdout",
     "output_type": "stream",
     "text": [
      "My name is priya, My age is 26\n"
     ]
    }
   ],
   "source": [
    "# time complexity is less\n",
    "print(f'My name is {name}, My age is {age}')"
   ]
  },
  {
   "cell_type": "code",
   "execution_count": 139,
   "id": "df9faa11-be2d-419f-9462-c0eb44880f3e",
   "metadata": {},
   "outputs": [],
   "source": [
    "a=10\n",
    "b=20\n",
    "\n",
    "#i want max from a and b"
   ]
  },
  {
   "cell_type": "code",
   "execution_count": 140,
   "id": "6247f39d-a378-4af0-a1ff-d7f26394fe50",
   "metadata": {},
   "outputs": [
    {
     "name": "stdout",
     "output_type": "stream",
     "text": [
      "First number is 10, Second number is 20,max num is 20\n"
     ]
    }
   ],
   "source": [
    "print(f'First number is {a}, Second number is {b},max num is {max(a,b)}')"
   ]
  },
  {
   "cell_type": "code",
   "execution_count": 138,
   "id": "d0595789-0b32-4c8c-a8ab-6995cc9d6ce4",
   "metadata": {},
   "outputs": [
    {
     "name": "stdout",
     "output_type": "stream",
     "text": [
      "max is 20\n"
     ]
    }
   ],
   "source": [
    "a = 10\n",
    "b = 20\n",
    "if a > b:\n",
    "    print(f'max is {a}')\n",
    "else:\n",
    "    print(f'max is {b}')"
   ]
  },
  {
   "cell_type": "code",
   "execution_count": null,
   "id": "1d78a997-450d-4e14-9421-07873f1e9ef4",
   "metadata": {},
   "outputs": [],
   "source": []
  },
  {
   "cell_type": "markdown",
   "id": "58b3d32d-7f2a-4f5e-a184-98e5f1455853",
   "metadata": {},
   "source": [
    "# Dictionary"
   ]
  },
  {
   "cell_type": "code",
   "execution_count": 1,
   "id": "57cd3617-4297-46d8-844f-4d057644f3ab",
   "metadata": {},
   "outputs": [],
   "source": [
    "list=[]\n",
    "tuple=()\n",
    "set={}\n",
    "string=\"\""
   ]
  },
  {
   "cell_type": "code",
   "execution_count": null,
   "id": "c6fb4daf-1608-48e6-a7c2-05968a3657e7",
   "metadata": {},
   "outputs": [],
   "source": [
    "key:value pair\n",
    "\n",
    "dictionary: dict is a collection which holds data in pair(that pair will be in key and value)\n",
    "\n",
    "if i want to connect one piece of info with other piece of info so we always use dictionary\n",
    "\n",
    "ex: rollno->student name\n",
    "    name-> mobile number\n",
    "    "
   ]
  },
  {
   "cell_type": "code",
   "execution_count": null,
   "id": "e30d093a-fe31-434d-8dd1-7d45400342ff",
   "metadata": {},
   "outputs": [],
   "source": [
    "#syntax of dictionary\n",
    "dict={ key1:value1,\n",
    " key2:value2,\n",
    " key3:value3,\n",
    " ....\n",
    " keyn:valuen\n",
    "}"
   ]
  },
  {
   "cell_type": "code",
   "execution_count": 2,
   "id": "2dc00d5c-190b-4616-8b5d-1d6cd756ef50",
   "metadata": {},
   "outputs": [],
   "source": [
    "mydict={}"
   ]
  },
  {
   "cell_type": "code",
   "execution_count": 3,
   "id": "f4f2549a-b6b0-41be-b231-83499956ce85",
   "metadata": {},
   "outputs": [
    {
     "data": {
      "text/plain": [
       "dict"
      ]
     },
     "execution_count": 3,
     "metadata": {},
     "output_type": "execute_result"
    }
   ],
   "source": [
    "type(mydict)"
   ]
  },
  {
   "cell_type": "code",
   "execution_count": 6,
   "id": "374a8a37-c5b7-49ad-b905-38978e6f54ea",
   "metadata": {},
   "outputs": [],
   "source": [
    "# dict of int key\n",
    "mydict1={1:'preeti',2:'rishi',3:'joe'}"
   ]
  },
  {
   "cell_type": "code",
   "execution_count": 7,
   "id": "3153e1f1-f98d-455a-99d6-eca0a2acfa16",
   "metadata": {},
   "outputs": [
    {
     "data": {
      "text/plain": [
       "{1: 'preeti', 2: 'rishi', 3: 'joe'}"
      ]
     },
     "execution_count": 7,
     "metadata": {},
     "output_type": "execute_result"
    }
   ],
   "source": [
    "mydict1"
   ]
  },
  {
   "cell_type": "code",
   "execution_count": 8,
   "id": "32c1c93b-2a40-403f-a027-b777ce7d4782",
   "metadata": {},
   "outputs": [],
   "source": [
    "mydict2={1:'preeti',\"a\":\"rishi\"}"
   ]
  },
  {
   "cell_type": "code",
   "execution_count": 9,
   "id": "d7c96582-6f6b-4da9-82e3-dc3e1d919e8a",
   "metadata": {},
   "outputs": [
    {
     "data": {
      "text/plain": [
       "{1: 'preeti', 'a': 'rishi'}"
      ]
     },
     "execution_count": 9,
     "metadata": {},
     "output_type": "execute_result"
    }
   ],
   "source": [
    "mydict2"
   ]
  },
  {
   "cell_type": "code",
   "execution_count": 10,
   "id": "49dcb7d1-b72d-42b3-9022-6155b5127210",
   "metadata": {},
   "outputs": [],
   "source": [
    "mydict3={'preeti':['python','ML'],'rishi':['c','c++','java'],'disha':['java','net','ruby']}"
   ]
  },
  {
   "cell_type": "code",
   "execution_count": 11,
   "id": "c92c6cd9-a3f3-4e7f-b0b1-c655f1babc2d",
   "metadata": {},
   "outputs": [
    {
     "data": {
      "text/plain": [
       "{'preeti': ['python', 'ML'],\n",
       " 'rishi': ['c', 'c++', 'java'],\n",
       " 'disha': ['java', 'net', 'ruby']}"
      ]
     },
     "execution_count": 11,
     "metadata": {},
     "output_type": "execute_result"
    }
   ],
   "source": [
    "mydict3"
   ]
  },
  {
   "cell_type": "code",
   "execution_count": 12,
   "id": "bb8e04a1-f8f4-4c5e-924f-da278762acb8",
   "metadata": {},
   "outputs": [
    {
     "data": {
      "text/plain": [
       "['python', 'ML']"
      ]
     },
     "execution_count": 12,
     "metadata": {},
     "output_type": "execute_result"
    }
   ],
   "source": [
    "mydict3['preeti']"
   ]
  },
  {
   "cell_type": "code",
   "execution_count": 13,
   "id": "f27b394f-c2c1-48a0-bffb-66dc2e1a3417",
   "metadata": {},
   "outputs": [
    {
     "data": {
      "text/plain": [
       "['c', 'c++', 'java']"
      ]
     },
     "execution_count": 13,
     "metadata": {},
     "output_type": "execute_result"
    }
   ],
   "source": [
    "mydict3.get('rishi')"
   ]
  },
  {
   "cell_type": "code",
   "execution_count": 14,
   "id": "b787c48c-c855-4c0e-a40d-f1115326ef1b",
   "metadata": {},
   "outputs": [],
   "source": [
    "student_data={1:\"amit\",2:\"brajesh\",3:\"chetan\",4:\"deepak\",5:\"neeraj\"}"
   ]
  },
  {
   "cell_type": "code",
   "execution_count": 15,
   "id": "02a351a8-d72b-4977-b5d6-7709253e5a13",
   "metadata": {},
   "outputs": [
    {
     "data": {
      "text/plain": [
       "{1: 'amit', 2: 'brajesh', 3: 'chetan', 4: 'deepak', 5: 'neeraj'}"
      ]
     },
     "execution_count": 15,
     "metadata": {},
     "output_type": "execute_result"
    }
   ],
   "source": [
    "student_data"
   ]
  },
  {
   "cell_type": "code",
   "execution_count": 18,
   "id": "4c40ed6f-363d-4348-8972-ae0352cbf0f2",
   "metadata": {},
   "outputs": [
    {
     "name": "stdout",
     "output_type": "stream",
     "text": [
      "my key is: 1\n",
      "my key is: 2\n",
      "my key is: 3\n",
      "my key is: 4\n",
      "my key is: 5\n"
     ]
    }
   ],
   "source": [
    "for i in student_data:\n",
    "    print(f'my key is:',i)"
   ]
  },
  {
   "cell_type": "code",
   "execution_count": 21,
   "id": "f24ffd0a-9bc2-4fe2-8525-082803be442f",
   "metadata": {},
   "outputs": [
    {
     "name": "stdout",
     "output_type": "stream",
     "text": [
      "my key is: 1\n",
      "my key is: 2\n",
      "my key is: 3\n",
      "my key is: 4\n",
      "my key is: 5\n"
     ]
    }
   ],
   "source": [
    "for i in student_data.keys():\n",
    "    print(f'my key is:',i)"
   ]
  },
  {
   "cell_type": "code",
   "execution_count": 22,
   "id": "1e360f68-c23e-4a8d-bfd6-b7161649a2d3",
   "metadata": {},
   "outputs": [
    {
     "name": "stdout",
     "output_type": "stream",
     "text": [
      "my value is: amit\n",
      "my value is: brajesh\n",
      "my value is: chetan\n",
      "my value is: deepak\n",
      "my value is: neeraj\n"
     ]
    }
   ],
   "source": [
    "for i in student_data.values():\n",
    "    print(f'my value is:',i)"
   ]
  },
  {
   "cell_type": "code",
   "execution_count": 23,
   "id": "284906cf-36ae-49bf-8f2f-ba65d1565ab2",
   "metadata": {},
   "outputs": [
    {
     "name": "stdout",
     "output_type": "stream",
     "text": [
      "my value is: (1, 'amit')\n",
      "my value is: (2, 'brajesh')\n",
      "my value is: (3, 'chetan')\n",
      "my value is: (4, 'deepak')\n",
      "my value is: (5, 'neeraj')\n"
     ]
    }
   ],
   "source": [
    "for i in student_data.items():\n",
    "    print(f'my value is:',i)"
   ]
  },
  {
   "cell_type": "code",
   "execution_count": 24,
   "id": "24a56cb0-4a71-4505-92eb-a1189e26f970",
   "metadata": {},
   "outputs": [
    {
     "name": "stdout",
     "output_type": "stream",
     "text": [
      "my key is 1, my value is amit\n",
      "my key is 2, my value is brajesh\n",
      "my key is 3, my value is chetan\n",
      "my key is 4, my value is deepak\n",
      "my key is 5, my value is neeraj\n"
     ]
    }
   ],
   "source": [
    "for x,y in student_data.items():\n",
    "    print(f'my key is {x}, my value is {y}')"
   ]
  },
  {
   "cell_type": "code",
   "execution_count": 25,
   "id": "2bef483f-b555-4606-976f-114d2413b1e4",
   "metadata": {},
   "outputs": [],
   "source": [
    "student_data={1:\"amit\",2:\"brajesh\",3:\"chetan\",4:\"deepak\",5:\"neeraj\"}"
   ]
  },
  {
   "cell_type": "code",
   "execution_count": null,
   "id": "0af67ff8-6f8b-457d-b8de-84c122773579",
   "metadata": {},
   "outputs": [],
   "source": [
    "# if we want to update any new key value pair in dict we use subscript operator or update function."
   ]
  },
  {
   "cell_type": "code",
   "execution_count": 27,
   "id": "1f35fea3-5dd3-4562-a33c-80b919e43702",
   "metadata": {},
   "outputs": [],
   "source": [
    "student_data[6]='preeti'"
   ]
  },
  {
   "cell_type": "code",
   "execution_count": 28,
   "id": "9d04b213-411d-4c93-85ea-eebf572a6086",
   "metadata": {},
   "outputs": [
    {
     "data": {
      "text/plain": [
       "{1: 'amit', 2: 'brajesh', 3: 'chetan', 4: 'deepak', 5: 'neeraj', 6: 'preeti'}"
      ]
     },
     "execution_count": 28,
     "metadata": {},
     "output_type": "execute_result"
    }
   ],
   "source": [
    "student_data"
   ]
  },
  {
   "cell_type": "code",
   "execution_count": 29,
   "id": "1e6c1f0e-5bcb-4f3b-854e-9b8543b03233",
   "metadata": {},
   "outputs": [],
   "source": [
    "student_data.update({7:'rishi'})"
   ]
  },
  {
   "cell_type": "code",
   "execution_count": 30,
   "id": "d66db24d-3dba-48b1-9d44-cafeb9e833bd",
   "metadata": {},
   "outputs": [
    {
     "data": {
      "text/plain": [
       "{1: 'amit',\n",
       " 2: 'brajesh',\n",
       " 3: 'chetan',\n",
       " 4: 'deepak',\n",
       " 5: 'neeraj',\n",
       " 6: 'preeti',\n",
       " 7: 'rishi'}"
      ]
     },
     "execution_count": 30,
     "metadata": {},
     "output_type": "execute_result"
    }
   ],
   "source": [
    "student_data"
   ]
  },
  {
   "cell_type": "code",
   "execution_count": 31,
   "id": "76cc0dad-90b9-4862-a6cf-7449e3406cee",
   "metadata": {},
   "outputs": [],
   "source": [
    "student_data[2]='chiku'"
   ]
  },
  {
   "cell_type": "code",
   "execution_count": 32,
   "id": "3f7d4ca2-c518-4f87-b12c-1311dba57cc0",
   "metadata": {},
   "outputs": [
    {
     "data": {
      "text/plain": [
       "{1: 'amit',\n",
       " 2: 'chiku',\n",
       " 3: 'chetan',\n",
       " 4: 'deepak',\n",
       " 5: 'neeraj',\n",
       " 6: 'preeti',\n",
       " 7: 'rishi'}"
      ]
     },
     "execution_count": 32,
     "metadata": {},
     "output_type": "execute_result"
    }
   ],
   "source": [
    "student_data"
   ]
  },
  {
   "cell_type": "markdown",
   "id": "1329dea0-55da-410a-b1db-a4260e44e0b8",
   "metadata": {},
   "source": [
    "# if key is not available then it will create new pair if it is avaialble it will be overwrite"
   ]
  },
  {
   "cell_type": "markdown",
   "id": "f293d101-29ef-46bf-b533-b826d61f503c",
   "metadata": {},
   "source": [
    "# function for the dict\n",
    "len()\n",
    "\n",
    "max()\n",
    "\n",
    "min()\n",
    "\n",
    "any()\n",
    "\n",
    "all()\n",
    "\n",
    "sorted()\n",
    "\n",
    "dict()"
   ]
  },
  {
   "cell_type": "code",
   "execution_count": 33,
   "id": "8ae59d8b-6df5-4da2-bdc3-e7838cd3bbd2",
   "metadata": {},
   "outputs": [],
   "source": [
    "sixMonths = {\"Jan\":31, \"Feb\":28, \"Mar\":31, \"Apr\":30, \"May\":31, \"Jun\":30}"
   ]
  },
  {
   "cell_type": "code",
   "execution_count": 34,
   "id": "a41b106d-8059-4f81-a01c-44a7f266d098",
   "metadata": {},
   "outputs": [
    {
     "data": {
      "text/plain": [
       "{'Jan': 31, 'Feb': 28, 'Mar': 31, 'Apr': 30, 'May': 31, 'Jun': 30}"
      ]
     },
     "execution_count": 34,
     "metadata": {},
     "output_type": "execute_result"
    }
   ],
   "source": [
    "sixMonths"
   ]
  },
  {
   "cell_type": "code",
   "execution_count": 35,
   "id": "190f09e3-3e7e-4c1a-ba11-4ead13c2ad31",
   "metadata": {},
   "outputs": [
    {
     "data": {
      "text/plain": [
       "dict_keys(['Jan', 'Feb', 'Mar', 'Apr', 'May', 'Jun'])"
      ]
     },
     "execution_count": 35,
     "metadata": {},
     "output_type": "execute_result"
    }
   ],
   "source": [
    "sixMonths.keys()"
   ]
  },
  {
   "cell_type": "code",
   "execution_count": 36,
   "id": "eda6fb39-84f4-4504-841e-3abdd8ba9791",
   "metadata": {},
   "outputs": [
    {
     "data": {
      "text/plain": [
       "dict_values([31, 28, 31, 30, 31, 30])"
      ]
     },
     "execution_count": 36,
     "metadata": {},
     "output_type": "execute_result"
    }
   ],
   "source": [
    "sixMonths.values()"
   ]
  },
  {
   "cell_type": "code",
   "execution_count": 37,
   "id": "f926e864-6242-4865-9919-222bc4f55e2e",
   "metadata": {},
   "outputs": [
    {
     "data": {
      "text/plain": [
       "dict_items([('Jan', 31), ('Feb', 28), ('Mar', 31), ('Apr', 30), ('May', 31), ('Jun', 30)])"
      ]
     },
     "execution_count": 37,
     "metadata": {},
     "output_type": "execute_result"
    }
   ],
   "source": [
    "sixMonths.items()"
   ]
  },
  {
   "cell_type": "code",
   "execution_count": 38,
   "id": "91431f9f-c14c-4002-8444-46e6a0e82a78",
   "metadata": {},
   "outputs": [
    {
     "data": {
      "text/plain": [
       "6"
      ]
     },
     "execution_count": 38,
     "metadata": {},
     "output_type": "execute_result"
    }
   ],
   "source": [
    "len(sixMonths)"
   ]
  },
  {
   "cell_type": "code",
   "execution_count": 39,
   "id": "8be9b50d-e769-40c2-824f-7f1f7f366a8b",
   "metadata": {},
   "outputs": [
    {
     "data": {
      "text/plain": [
       "'May'"
      ]
     },
     "execution_count": 39,
     "metadata": {},
     "output_type": "execute_result"
    }
   ],
   "source": [
    "max(sixMonths)"
   ]
  },
  {
   "cell_type": "code",
   "execution_count": null,
   "id": "062f4bdc-13ac-424a-8570-f5b37202357e",
   "metadata": {},
   "outputs": [],
   "source": [
    "m will be greater among all\n",
    "\n",
    "lexiographic comaprison\n",
    "\n",
    "a >b < c"
   ]
  },
  {
   "cell_type": "code",
   "execution_count": 40,
   "id": "cca5732b-654e-4036-99d8-28a71483fc0a",
   "metadata": {},
   "outputs": [
    {
     "data": {
      "text/plain": [
       "31"
      ]
     },
     "execution_count": 40,
     "metadata": {},
     "output_type": "execute_result"
    }
   ],
   "source": [
    "max(sixMonths.values())"
   ]
  },
  {
   "cell_type": "code",
   "execution_count": 41,
   "id": "74589e1d-62d1-4caa-b8b1-0d8be1b1ed1c",
   "metadata": {},
   "outputs": [
    {
     "data": {
      "text/plain": [
       "'Apr'"
      ]
     },
     "execution_count": 41,
     "metadata": {},
     "output_type": "execute_result"
    }
   ],
   "source": [
    "min(sixMonths)"
   ]
  },
  {
   "cell_type": "code",
   "execution_count": 42,
   "id": "24b39415-a577-4315-b74d-2fe3acd92a8e",
   "metadata": {},
   "outputs": [
    {
     "data": {
      "text/plain": [
       "[28, 30, 30, 31, 31, 31]"
      ]
     },
     "execution_count": 42,
     "metadata": {},
     "output_type": "execute_result"
    }
   ],
   "source": [
    "sorted(sixMonths.values())"
   ]
  },
  {
   "cell_type": "code",
   "execution_count": 43,
   "id": "545fa4a5-961d-4ac2-a972-1e37494f4bf1",
   "metadata": {},
   "outputs": [
    {
     "data": {
      "text/plain": [
       "True"
      ]
     },
     "execution_count": 43,
     "metadata": {},
     "output_type": "execute_result"
    }
   ],
   "source": [
    "any(sixMonths)"
   ]
  },
  {
   "cell_type": "code",
   "execution_count": 44,
   "id": "ebd6089a-c4fb-4ada-b015-3e00c1065f2f",
   "metadata": {},
   "outputs": [
    {
     "data": {
      "text/plain": [
       "True"
      ]
     },
     "execution_count": 44,
     "metadata": {},
     "output_type": "execute_result"
    }
   ],
   "source": [
    "all(sixMonths)"
   ]
  },
  {
   "cell_type": "markdown",
   "id": "25118f21-45f8-4714-8ca7-0799b1164a11",
   "metadata": {},
   "source": [
    "# methods in dictionary\n",
    "clear()\n",
    "\n",
    "copy()\n",
    "\n",
    "setdefault()\n",
    "\n",
    "get()# alredy discussed\n",
    "\n",
    "keys()# already discussed\n",
    "\n",
    "values()# already discussed\n",
    "\n",
    "items() # already discussed\n",
    "\n",
    "update() # already discussed\n",
    "\n",
    "pop()# marked\n",
    "\n",
    "popitem()#marked"
   ]
  },
  {
   "cell_type": "code",
   "execution_count": 45,
   "id": "f17efb6a-435b-4f7d-8f19-37fe0fa9abc2",
   "metadata": {},
   "outputs": [],
   "source": [
    "sixMonths = {\"Jan\":31, \"Feb\":28, \"Mar\":31, \"Apr\":30, \"May\":31, \"Jun\":30}"
   ]
  },
  {
   "cell_type": "code",
   "execution_count": 46,
   "id": "fadfe439-b117-46bd-bc89-5b4c88423235",
   "metadata": {},
   "outputs": [
    {
     "data": {
      "text/plain": [
       "{'Jan': 31, 'Feb': 28, 'Mar': 31, 'Apr': 30, 'May': 31, 'Jun': 30}"
      ]
     },
     "execution_count": 46,
     "metadata": {},
     "output_type": "execute_result"
    }
   ],
   "source": [
    "sixMonths"
   ]
  },
  {
   "cell_type": "code",
   "execution_count": 48,
   "id": "0fa6d493-cec4-408a-a51c-02a00d83ed34",
   "metadata": {},
   "outputs": [
    {
     "data": {
      "text/plain": [
       "31"
      ]
     },
     "execution_count": 48,
     "metadata": {},
     "output_type": "execute_result"
    }
   ],
   "source": [
    "sixMonths.pop('Jan')"
   ]
  },
  {
   "cell_type": "code",
   "execution_count": 49,
   "id": "948fc969-00f6-4da6-8fdf-9518efd3dd74",
   "metadata": {},
   "outputs": [
    {
     "data": {
      "text/plain": [
       "{'Feb': 28, 'Mar': 31, 'Apr': 30, 'May': 31, 'Jun': 30}"
      ]
     },
     "execution_count": 49,
     "metadata": {},
     "output_type": "execute_result"
    }
   ],
   "source": [
    "sixMonths"
   ]
  },
  {
   "cell_type": "code",
   "execution_count": 50,
   "id": "c3007433-0a8b-42e1-8901-4ea027f7fbd6",
   "metadata": {},
   "outputs": [
    {
     "ename": "KeyError",
     "evalue": "'nov'",
     "output_type": "error",
     "traceback": [
      "\u001b[0;31m---------------------------------------------------------------------------\u001b[0m",
      "\u001b[0;31mKeyError\u001b[0m                                  Traceback (most recent call last)",
      "Cell \u001b[0;32mIn [50], line 1\u001b[0m\n\u001b[0;32m----> 1\u001b[0m \u001b[43msixMonths\u001b[49m\u001b[38;5;241;43m.\u001b[39;49m\u001b[43mpop\u001b[49m\u001b[43m(\u001b[49m\u001b[38;5;124;43m'\u001b[39;49m\u001b[38;5;124;43mnov\u001b[39;49m\u001b[38;5;124;43m'\u001b[39;49m\u001b[43m)\u001b[49m\n",
      "\u001b[0;31mKeyError\u001b[0m: 'nov'"
     ]
    }
   ],
   "source": [
    "sixMonths.pop('nov')"
   ]
  },
  {
   "cell_type": "code",
   "execution_count": 51,
   "id": "924d4c6b-5c60-433d-835b-790bec69a721",
   "metadata": {},
   "outputs": [
    {
     "data": {
      "text/plain": [
       "28"
      ]
     },
     "execution_count": 51,
     "metadata": {},
     "output_type": "execute_result"
    }
   ],
   "source": [
    "sixMonths.pop('Feb','not found')"
   ]
  },
  {
   "cell_type": "code",
   "execution_count": 52,
   "id": "74fca7ff-e5a0-4602-a6c8-823ce95754eb",
   "metadata": {},
   "outputs": [
    {
     "data": {
      "text/plain": [
       "{'Mar': 31, 'Apr': 30, 'May': 31, 'Jun': 30}"
      ]
     },
     "execution_count": 52,
     "metadata": {},
     "output_type": "execute_result"
    }
   ],
   "source": [
    "sixMonths"
   ]
  },
  {
   "cell_type": "code",
   "execution_count": 53,
   "id": "f9365ea5-701b-4839-8f17-912f56a09236",
   "metadata": {},
   "outputs": [
    {
     "data": {
      "text/plain": [
       "'not found'"
      ]
     },
     "execution_count": 53,
     "metadata": {},
     "output_type": "execute_result"
    }
   ],
   "source": [
    "sixMonths.pop(\"oct\",\"not found\")"
   ]
  },
  {
   "cell_type": "code",
   "execution_count": 55,
   "id": "24f3fc51-85b0-44c8-9bdc-d1c80301a5fb",
   "metadata": {},
   "outputs": [
    {
     "data": {
      "text/plain": [
       "{'Mar': 31, 'Apr': 30, 'May': 31, 'Jun': 30}"
      ]
     },
     "execution_count": 55,
     "metadata": {},
     "output_type": "execute_result"
    }
   ],
   "source": [
    "sixMonths"
   ]
  },
  {
   "cell_type": "code",
   "execution_count": 59,
   "id": "b6d1596c-9a0c-4c39-a1c7-876bbb34625e",
   "metadata": {},
   "outputs": [
    {
     "data": {
      "text/plain": [
       "('Jun', 30)"
      ]
     },
     "execution_count": 59,
     "metadata": {},
     "output_type": "execute_result"
    }
   ],
   "source": [
    "sixMonths.popitem()"
   ]
  },
  {
   "cell_type": "code",
   "execution_count": 60,
   "id": "0e10cf39-f48f-424b-8ad3-ff223153b240",
   "metadata": {},
   "outputs": [
    {
     "data": {
      "text/plain": [
       "{'Mar': 31, 'Apr': 30, 'May': 31}"
      ]
     },
     "execution_count": 60,
     "metadata": {},
     "output_type": "execute_result"
    }
   ],
   "source": [
    "sixMonths"
   ]
  },
  {
   "cell_type": "code",
   "execution_count": 1,
   "id": "f8864471-d536-43b9-9f1f-6a1323222179",
   "metadata": {},
   "outputs": [],
   "source": [
    "sixMonths = {\"Jan\":31, \"Feb\":28, \"Mar\":31, \"Apr\":30, \"May\":31, \"Jun\":30}"
   ]
  },
  {
   "cell_type": "code",
   "execution_count": 2,
   "id": "03df06be-fcce-42b7-a776-d036992a77bc",
   "metadata": {},
   "outputs": [],
   "source": [
    "sixMonths.clear()"
   ]
  },
  {
   "cell_type": "code",
   "execution_count": 3,
   "id": "4af43d37-459e-473e-9638-84e986fced65",
   "metadata": {},
   "outputs": [
    {
     "data": {
      "text/plain": [
       "{}"
      ]
     },
     "execution_count": 3,
     "metadata": {},
     "output_type": "execute_result"
    }
   ],
   "source": [
    "sixMonths"
   ]
  },
  {
   "cell_type": "code",
   "execution_count": 5,
   "id": "5b498785-eafa-4e7d-9563-a76b5c75c322",
   "metadata": {},
   "outputs": [],
   "source": [
    "original={1:\"one\",2:\"two\",3:\"three\"}"
   ]
  },
  {
   "cell_type": "code",
   "execution_count": 6,
   "id": "e201b88e-3ac1-4776-a05b-6a7b8bc88120",
   "metadata": {},
   "outputs": [],
   "source": [
    "new=original.copy()"
   ]
  },
  {
   "cell_type": "code",
   "execution_count": 7,
   "id": "39096fdf-602f-46a4-9512-a59b6c7e3c30",
   "metadata": {},
   "outputs": [
    {
     "data": {
      "text/plain": [
       "{1: 'one', 2: 'two', 3: 'three'}"
      ]
     },
     "execution_count": 7,
     "metadata": {},
     "output_type": "execute_result"
    }
   ],
   "source": [
    "new"
   ]
  },
  {
   "cell_type": "code",
   "execution_count": 8,
   "id": "4ea442eb-e871-4ad7-87d4-b7ed88a92088",
   "metadata": {},
   "outputs": [],
   "source": [
    "cars = {\"Maruti\":\"Ciaz\",\"Hyundai\":\"Verna\",\"Honda\":\"Amaze\"}"
   ]
  },
  {
   "cell_type": "code",
   "execution_count": 9,
   "id": "4205bd3b-4566-47e5-8f87-08316c478a9e",
   "metadata": {},
   "outputs": [],
   "source": [
    "value=cars.setdefault('Hyundai')"
   ]
  },
  {
   "cell_type": "code",
   "execution_count": 10,
   "id": "91c07663-7707-4b35-9d3b-0afae093dfe6",
   "metadata": {},
   "outputs": [
    {
     "data": {
      "text/plain": [
       "'Verna'"
      ]
     },
     "execution_count": 10,
     "metadata": {},
     "output_type": "execute_result"
    }
   ],
   "source": [
    "value"
   ]
  },
  {
   "cell_type": "code",
   "execution_count": 12,
   "id": "9972909d-9007-419e-a40d-df13f697a63c",
   "metadata": {},
   "outputs": [],
   "source": [
    "value=cars.setdefault('Hyundai','i20')"
   ]
  },
  {
   "cell_type": "code",
   "execution_count": 13,
   "id": "4b881020-8c18-4d21-a052-fca27d476a70",
   "metadata": {},
   "outputs": [
    {
     "data": {
      "text/plain": [
       "'Verna'"
      ]
     },
     "execution_count": 13,
     "metadata": {},
     "output_type": "execute_result"
    }
   ],
   "source": [
    "value"
   ]
  },
  {
   "cell_type": "code",
   "execution_count": 14,
   "id": "73c0d73f-e204-4fd6-9cb1-a35aa879bba8",
   "metadata": {},
   "outputs": [],
   "source": [
    "value=cars.setdefault('Renault')"
   ]
  },
  {
   "cell_type": "code",
   "execution_count": 16,
   "id": "1b6d986c-26c1-48ae-94ab-2d6bce1268a5",
   "metadata": {},
   "outputs": [],
   "source": [
    "value"
   ]
  },
  {
   "cell_type": "code",
   "execution_count": 17,
   "id": "6921b166-e836-415e-b536-3bc36c71d39e",
   "metadata": {},
   "outputs": [
    {
     "data": {
      "text/plain": [
       "{'Maruti': 'Ciaz', 'Hyundai': 'Verna', 'Honda': 'Amaze', 'Renault': None}"
      ]
     },
     "execution_count": 17,
     "metadata": {},
     "output_type": "execute_result"
    }
   ],
   "source": [
    "cars"
   ]
  },
  {
   "cell_type": "code",
   "execution_count": 18,
   "id": "f87128a5-5ef3-4b00-b6fa-3873fe6fc077",
   "metadata": {},
   "outputs": [],
   "source": [
    "cars['Renault']='duster'"
   ]
  },
  {
   "cell_type": "code",
   "execution_count": 19,
   "id": "b1b2f0bf-4789-4b09-860c-898955af5948",
   "metadata": {},
   "outputs": [
    {
     "data": {
      "text/plain": [
       "{'Maruti': 'Ciaz', 'Hyundai': 'Verna', 'Honda': 'Amaze', 'Renault': 'duster'}"
      ]
     },
     "execution_count": 19,
     "metadata": {},
     "output_type": "execute_result"
    }
   ],
   "source": [
    "cars"
   ]
  },
  {
   "cell_type": "code",
   "execution_count": 20,
   "id": "a94b2fdb-7ed9-4e3c-9224-77c6d002bcf3",
   "metadata": {},
   "outputs": [],
   "source": [
    "value=cars.setdefault(\"Audi\",\"Q7\")"
   ]
  },
  {
   "cell_type": "code",
   "execution_count": 21,
   "id": "8d979d2e-4af9-4ea9-9c68-50d662a69bdd",
   "metadata": {},
   "outputs": [
    {
     "data": {
      "text/plain": [
       "'Q7'"
      ]
     },
     "execution_count": 21,
     "metadata": {},
     "output_type": "execute_result"
    }
   ],
   "source": [
    "value"
   ]
  },
  {
   "cell_type": "code",
   "execution_count": 22,
   "id": "88907ec0-1341-4aa2-8641-97693f8ae990",
   "metadata": {},
   "outputs": [
    {
     "data": {
      "text/plain": [
       "{'Maruti': 'Ciaz',\n",
       " 'Hyundai': 'Verna',\n",
       " 'Honda': 'Amaze',\n",
       " 'Renault': 'duster',\n",
       " 'Audi': 'Q7'}"
      ]
     },
     "execution_count": 22,
     "metadata": {},
     "output_type": "execute_result"
    }
   ],
   "source": [
    "cars"
   ]
  },
  {
   "cell_type": "code",
   "execution_count": 26,
   "id": "d4e83ec3-0c97-4050-8753-67fe274f8153",
   "metadata": {},
   "outputs": [],
   "source": [
    "value=cars.setdefault(\"Mahindra\")"
   ]
  },
  {
   "cell_type": "code",
   "execution_count": 27,
   "id": "35e08807-3489-439a-b769-c5f1254c4ea7",
   "metadata": {},
   "outputs": [],
   "source": [
    "value"
   ]
  },
  {
   "cell_type": "code",
   "execution_count": 28,
   "id": "a32eb2a5-508a-4208-a71e-f7346e5556f5",
   "metadata": {},
   "outputs": [],
   "source": [
    "value=cars.setdefault(\"bmw\",\"m5\")"
   ]
  },
  {
   "cell_type": "code",
   "execution_count": 29,
   "id": "53117fd6-8c48-4588-ad50-2a0b6923d041",
   "metadata": {},
   "outputs": [
    {
     "data": {
      "text/plain": [
       "'m5'"
      ]
     },
     "execution_count": 29,
     "metadata": {},
     "output_type": "execute_result"
    }
   ],
   "source": [
    "value"
   ]
  },
  {
   "cell_type": "code",
   "execution_count": null,
   "id": "7bf4b5a7-2fc0-4ace-b2ea-d311b6cbd93d",
   "metadata": {},
   "outputs": [],
   "source": []
  }
 ],
 "metadata": {
  "kernelspec": {
   "display_name": "Python 3 (ipykernel)",
   "language": "python",
   "name": "python3"
  },
  "language_info": {
   "codemirror_mode": {
    "name": "ipython",
    "version": 3
   },
   "file_extension": ".py",
   "mimetype": "text/x-python",
   "name": "python",
   "nbconvert_exporter": "python",
   "pygments_lexer": "ipython3",
   "version": "3.10.6"
  }
 },
 "nbformat": 4,
 "nbformat_minor": 5
}
