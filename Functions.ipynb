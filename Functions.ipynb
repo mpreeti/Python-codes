{
 "cells": [
  {
   "cell_type": "code",
   "execution_count": 1,
   "id": "723a55fc-820d-4539-9a7a-15c1ad25e3f1",
   "metadata": {},
   "outputs": [
    {
     "ename": "SyntaxError",
     "evalue": "invalid syntax (1054454585.py, line 4)",
     "output_type": "error",
     "traceback": [
      "\u001b[0;36m  Cell \u001b[0;32mIn [1], line 4\u001b[0;36m\u001b[0m\n\u001b[0;31m    3. argumnet vs parameter in function\u001b[0m\n\u001b[0m       ^\u001b[0m\n\u001b[0;31mSyntaxError\u001b[0m\u001b[0;31m:\u001b[0m invalid syntax\n"
     ]
    }
   ],
   "source": [
    "# Topics:\n",
    "1. what is function?\n",
    "2. how to write function in python?\n",
    "3. argumnet vs parameter in function\n",
    "------------------------------------------\n",
    "\n",
    "4. local and global variable in function\n",
    "5. lambda function\n",
    "6. map and filter function"
   ]
  },
  {
   "cell_type": "code",
   "execution_count": 26,
   "id": "3848950a-c6e8-4c3c-8384-90e05a8b24c3",
   "metadata": {},
   "outputs": [
    {
     "name": "stdout",
     "output_type": "stream",
     "text": [
      "30\n"
     ]
    }
   ],
   "source": [
    "a=10\n",
    "b=20\n",
    "c=a+b\n",
    "print(c)"
   ]
  },
  {
   "cell_type": "code",
   "execution_count": 27,
   "id": "00f2d396-96e9-4b98-800d-7b7959e47282",
   "metadata": {},
   "outputs": [
    {
     "name": "stdout",
     "output_type": "stream",
     "text": [
      "-10\n"
     ]
    }
   ],
   "source": [
    "a=10\n",
    "b=20\n",
    "c=a-b\n",
    "print(c)"
   ]
  },
  {
   "cell_type": "code",
   "execution_count": 28,
   "id": "6cd3683b-e574-49de-a272-44e99b9540f2",
   "metadata": {},
   "outputs": [
    {
     "name": "stdin",
     "output_type": "stream",
     "text": [
      "enter first number 12\n",
      "enter second value 23\n"
     ]
    },
    {
     "name": "stdout",
     "output_type": "stream",
     "text": [
      "35\n"
     ]
    }
   ],
   "source": [
    "a=input(\"enter first number\")\n",
    "b=input(\"enter second value\")\n",
    "c=int(a)+int(b)\n",
    "print(c)"
   ]
  },
  {
   "cell_type": "code",
   "execution_count": 30,
   "id": "9df524d5-dc77-4ae4-9440-92b087e6ad3d",
   "metadata": {},
   "outputs": [],
   "source": [
    "# Function Definition\n",
    "def addtwonums():\n",
    "    a=input(\"enter first number\")\n",
    "    b=input(\"enter second value\")\n",
    "    c=int(a)+int(b)\n",
    "    print(c)"
   ]
  },
  {
   "cell_type": "code",
   "execution_count": 31,
   "id": "463e82d9-3e73-4b7c-b78e-082aea951f99",
   "metadata": {},
   "outputs": [
    {
     "name": "stdin",
     "output_type": "stream",
     "text": [
      "enter first number 12\n",
      "enter second value 45\n"
     ]
    },
    {
     "name": "stdout",
     "output_type": "stream",
     "text": [
      "57\n"
     ]
    }
   ],
   "source": [
    "# FUnction call\n",
    "addtwonums()"
   ]
  },
  {
   "cell_type": "code",
   "execution_count": 32,
   "id": "1a9e71a0-ad35-43ee-8a21-698ccb3b045f",
   "metadata": {},
   "outputs": [
    {
     "name": "stdin",
     "output_type": "stream",
     "text": [
      "enter first number 45\n",
      "enter second value 67\n"
     ]
    },
    {
     "name": "stdout",
     "output_type": "stream",
     "text": [
      "112\n"
     ]
    }
   ],
   "source": [
    "addtwonums()"
   ]
  },
  {
   "cell_type": "code",
   "execution_count": 33,
   "id": "4682e21b-afcc-4446-91c8-19ddb57a2a75",
   "metadata": {},
   "outputs": [],
   "source": [
    "#this is funciton defination\n",
    "def addtwonumber():\n",
    "    a=1000\n",
    "    b=2009042\n",
    "    c=a+b\n",
    "    print(c)\n"
   ]
  },
  {
   "cell_type": "code",
   "execution_count": 34,
   "id": "f01f599d-9ce3-484e-b9eb-a81f495f20e5",
   "metadata": {},
   "outputs": [
    {
     "name": "stdout",
     "output_type": "stream",
     "text": [
      "2010042\n"
     ]
    }
   ],
   "source": [
    "addtwonumber()"
   ]
  },
  {
   "cell_type": "code",
   "execution_count": 35,
   "id": "e17bb953-3363-4bef-b74f-e0e52f7b6f1f",
   "metadata": {},
   "outputs": [
    {
     "name": "stdout",
     "output_type": "stream",
     "text": [
      "2010042\n"
     ]
    }
   ],
   "source": [
    "addtwonumber()"
   ]
  },
  {
   "cell_type": "code",
   "execution_count": 36,
   "id": "136a19f0-2c58-416d-9805-d0aa449b386f",
   "metadata": {},
   "outputs": [],
   "source": [
    "def multwonums(x,y):\n",
    "    a=x\n",
    "    b=y\n",
    "    c=a*b\n",
    "    print(c)"
   ]
  },
  {
   "cell_type": "code",
   "execution_count": 37,
   "id": "08c113e0-cbca-4a74-8bf7-2439fc89f9b0",
   "metadata": {},
   "outputs": [
    {
     "name": "stdout",
     "output_type": "stream",
     "text": [
      "20\n"
     ]
    }
   ],
   "source": [
    "multwonums(4,5)"
   ]
  },
  {
   "cell_type": "code",
   "execution_count": 38,
   "id": "9c85007a-d284-4b70-8ce9-83cb95e37fd8",
   "metadata": {},
   "outputs": [
    {
     "name": "stdout",
     "output_type": "stream",
     "text": [
      "170\n"
     ]
    }
   ],
   "source": [
    "multwonums(34,5)"
   ]
  },
  {
   "cell_type": "code",
   "execution_count": 39,
   "id": "54d5ec17-2e75-425b-9fdd-bada727cfed2",
   "metadata": {},
   "outputs": [
    {
     "name": "stdin",
     "output_type": "stream",
     "text": [
      "enter first number 1\n",
      "enter second number 2\n"
     ]
    },
    {
     "name": "stdout",
     "output_type": "stream",
     "text": [
      "2\n"
     ]
    }
   ],
   "source": [
    "A=int(input(\"enter first number\"))\n",
    "B=int(input(\"enter second number\"))\n",
    "multwonums(A,B)"
   ]
  },
  {
   "cell_type": "code",
   "execution_count": 40,
   "id": "44035797-f835-4305-adc7-813fbafade47",
   "metadata": {},
   "outputs": [],
   "source": [
    "# OR\n",
    "def multwonums():\n",
    "    A=int(input(\"enter first number\"))\n",
    "    B=int(input(\"enter second number\"))\n",
    "    c=A*B\n",
    "    return c\n",
    "    "
   ]
  },
  {
   "cell_type": "code",
   "execution_count": 41,
   "id": "1d989d00-3f10-4597-ba80-6c52463cbef1",
   "metadata": {},
   "outputs": [
    {
     "name": "stdin",
     "output_type": "stream",
     "text": [
      "enter first number 23\n",
      "enter second number 5\n"
     ]
    },
    {
     "data": {
      "text/plain": [
       "115"
      ]
     },
     "execution_count": 41,
     "metadata": {},
     "output_type": "execute_result"
    }
   ],
   "source": [
    "multwonums()"
   ]
  },
  {
   "cell_type": "markdown",
   "id": "e72f57a1-b765-4d90-afb6-4ea4120ec1cc",
   "metadata": {},
   "source": [
    "# Write a function called absolute( ) to accept an integer as argument and return it’s absolute value. Finally call it to get the absolute value of -7 and 9"
   ]
  },
  {
   "cell_type": "code",
   "execution_count": 42,
   "id": "0b8c9898-7b4d-4f86-8db4-395be851e1c1",
   "metadata": {},
   "outputs": [],
   "source": [
    "def absolute(n):\n",
    "    return abs(n)"
   ]
  },
  {
   "cell_type": "code",
   "execution_count": 43,
   "id": "ff44b6b3-dab6-40b3-ba91-561525765914",
   "metadata": {},
   "outputs": [
    {
     "data": {
      "text/plain": [
       "7"
      ]
     },
     "execution_count": 43,
     "metadata": {},
     "output_type": "execute_result"
    }
   ],
   "source": [
    "absolute(-7)"
   ]
  },
  {
   "cell_type": "code",
   "execution_count": 44,
   "id": "1f459194-705b-4d24-b5ba-2cc6eaaf9418",
   "metadata": {},
   "outputs": [
    {
     "data": {
      "text/plain": [
       "9"
      ]
     },
     "execution_count": 44,
     "metadata": {},
     "output_type": "execute_result"
    }
   ],
   "source": [
    "absolute(9)"
   ]
  },
  {
   "cell_type": "code",
   "execution_count": 45,
   "id": "73bf6ed2-2881-4af0-9242-945a90972f8b",
   "metadata": {},
   "outputs": [
    {
     "data": {
      "text/plain": [
       "456"
      ]
     },
     "execution_count": 45,
     "metadata": {},
     "output_type": "execute_result"
    }
   ],
   "source": [
    "absolute(-456)"
   ]
  },
  {
   "cell_type": "code",
   "execution_count": 46,
   "id": "1b765596-e5fb-43c2-a63e-6bce7b4abc0f",
   "metadata": {},
   "outputs": [],
   "source": [
    "# OR\n",
    "def absolute(n):\n",
    "    if n>0:\n",
    "        return n\n",
    "    else:\n",
    "        return -n"
   ]
  },
  {
   "cell_type": "code",
   "execution_count": 47,
   "id": "d06010f1-1673-4ae1-b253-df6a9bb94d9b",
   "metadata": {},
   "outputs": [
    {
     "data": {
      "text/plain": [
       "56"
      ]
     },
     "execution_count": 47,
     "metadata": {},
     "output_type": "execute_result"
    }
   ],
   "source": [
    "absolute(-56)"
   ]
  },
  {
   "cell_type": "code",
   "execution_count": 48,
   "id": "41a42254-7fa0-4a67-86ca-0f487c6ff5d2",
   "metadata": {},
   "outputs": [
    {
     "name": "stdin",
     "output_type": "stream",
     "text": [
      "enter num: -23\n"
     ]
    },
    {
     "data": {
      "text/plain": [
       "23"
      ]
     },
     "execution_count": 48,
     "metadata": {},
     "output_type": "execute_result"
    }
   ],
   "source": [
    "val=int(input('enter num:'))\n",
    "absolute(val)"
   ]
  },
  {
   "cell_type": "code",
   "execution_count": 49,
   "id": "c4ad3f54-c9c7-4dae-ac2e-36ef4754e9a1",
   "metadata": {},
   "outputs": [],
   "source": [
    "def addtwonumber():\n",
    "    a=1000\n",
    "    b=2009042\n",
    "    c=a+b\n",
    "    print(c)\n",
    "    "
   ]
  },
  {
   "cell_type": "code",
   "execution_count": 50,
   "id": "b8f363ba-6871-48aa-aef6-fe6d7ed1c8d8",
   "metadata": {},
   "outputs": [
    {
     "name": "stdout",
     "output_type": "stream",
     "text": [
      "2010042\n"
     ]
    }
   ],
   "source": [
    "myvar=addtwonumber()"
   ]
  },
  {
   "cell_type": "code",
   "execution_count": 51,
   "id": "5277456a-2abc-4993-903c-a44113cdbd6e",
   "metadata": {},
   "outputs": [
    {
     "name": "stdout",
     "output_type": "stream",
     "text": [
      "None\n"
     ]
    }
   ],
   "source": [
    "print(myvar)"
   ]
  },
  {
   "cell_type": "code",
   "execution_count": null,
   "id": "611e50a7-d818-4174-ab09-9796978f4bb7",
   "metadata": {},
   "outputs": [],
   "source": [
    "1. function defination # fn body\n",
    "2. function calling  # fn call to body to get result\n",
    "3. argument # provide val in fn call\n",
    "4. parameter # provide var in fn def\n",
    "5. function return concept # return result thru print also \n",
    "7. return multiple values # passing mult values in arg n parameters"
   ]
  },
  {
   "cell_type": "markdown",
   "id": "9d5db324-a940-4531-8ab0-e4fc05fceff3",
   "metadata": {},
   "source": [
    "# print() will give result when we use return in fn def"
   ]
  },
  {
   "cell_type": "code",
   "execution_count": 52,
   "id": "4ea21a39-697e-4de7-8f66-ed028e593bc4",
   "metadata": {},
   "outputs": [],
   "source": [
    "def fullname(a,b):       # agrs acceptance by function ie a,b ie parameters\n",
    "    c=a+b\n",
    "    return c"
   ]
  },
  {
   "cell_type": "code",
   "execution_count": 53,
   "id": "ab762578-2e44-41d3-ad24-b6646a512817",
   "metadata": {},
   "outputs": [
    {
     "data": {
      "text/plain": [
       "'preetimotwani'"
      ]
     },
     "execution_count": 53,
     "metadata": {},
     "output_type": "execute_result"
    }
   ],
   "source": [
    "fullname('preeti','motwani')  # passing args"
   ]
  },
  {
   "cell_type": "code",
   "execution_count": 54,
   "id": "e74e0e51-a552-49ef-b246-1a4c4385da7f",
   "metadata": {},
   "outputs": [],
   "source": [
    "myvar=fullname('preeti','motwani')"
   ]
  },
  {
   "cell_type": "code",
   "execution_count": 55,
   "id": "8e695a0a-ddff-4059-b3f0-8f817ed41014",
   "metadata": {},
   "outputs": [
    {
     "data": {
      "text/plain": [
       "'preetimotwani'"
      ]
     },
     "execution_count": 55,
     "metadata": {},
     "output_type": "execute_result"
    }
   ],
   "source": [
    "myvar"
   ]
  },
  {
   "cell_type": "code",
   "execution_count": 56,
   "id": "5b565a19-9d30-4333-a040-68333bcce120",
   "metadata": {},
   "outputs": [
    {
     "name": "stdout",
     "output_type": "stream",
     "text": [
      "preetimotwani\n"
     ]
    }
   ],
   "source": [
    "print(myvar)"
   ]
  },
  {
   "cell_type": "code",
   "execution_count": 57,
   "id": "3f4889ad-6c9b-44f9-9598-c12c6cfc1da2",
   "metadata": {},
   "outputs": [],
   "source": [
    "def addtwonums():\n",
    "    a=34\n",
    "    b=56\n",
    "    c=a+b\n",
    "    return a,b,c"
   ]
  },
  {
   "cell_type": "code",
   "execution_count": 58,
   "id": "da4fb336-2dd5-4e80-b7a7-f7ea235aecca",
   "metadata": {},
   "outputs": [
    {
     "data": {
      "text/plain": [
       "(34, 56, 90)"
      ]
     },
     "execution_count": 58,
     "metadata": {},
     "output_type": "execute_result"
    }
   ],
   "source": [
    "addtwonums()"
   ]
  },
  {
   "cell_type": "code",
   "execution_count": 59,
   "id": "7bef39a6-b25a-49ea-99f4-976799b4f0cd",
   "metadata": {},
   "outputs": [],
   "source": [
    "myvar=addtwonums()"
   ]
  },
  {
   "cell_type": "code",
   "execution_count": 60,
   "id": "9c3aa754-00d1-4218-b9b2-de02eba94cfd",
   "metadata": {},
   "outputs": [
    {
     "data": {
      "text/plain": [
       "(34, 56, 90)"
      ]
     },
     "execution_count": 60,
     "metadata": {},
     "output_type": "execute_result"
    }
   ],
   "source": [
    "myvar"
   ]
  },
  {
   "cell_type": "code",
   "execution_count": 61,
   "id": "43956f0e-469b-4878-ab4e-e145bea24711",
   "metadata": {},
   "outputs": [],
   "source": [
    "a_val,b_val,c_val=addtwonums()"
   ]
  },
  {
   "cell_type": "code",
   "execution_count": 62,
   "id": "e1423eea-ebff-4952-8f8a-9cc2e794df79",
   "metadata": {},
   "outputs": [
    {
     "name": "stdout",
     "output_type": "stream",
     "text": [
      "34 56 90\n"
     ]
    }
   ],
   "source": [
    "print(a_val,b_val,c_val,sep=' ')"
   ]
  },
  {
   "cell_type": "markdown",
   "id": "6ffdfc10-e8c6-4719-ba6b-b8f101cc115f",
   "metadata": {},
   "source": [
    "# call the factorial() function to calculate and return the factorial of the number given by the user."
   ]
  },
  {
   "cell_type": "code",
   "execution_count": null,
   "id": "73b3c41f-798c-43b1-b5ac-ed77866115c0",
   "metadata": {},
   "outputs": [],
   "source": [
    "factorial is 5!= 5*4*3*2*1 = 120"
   ]
  },
  {
   "cell_type": "code",
   "execution_count": 63,
   "id": "4b9141b1-caa6-497e-8ca2-6a2dd4376582",
   "metadata": {},
   "outputs": [],
   "source": [
    "def factorial(n):\n",
    "    fact=1\n",
    "    for i in range(n): # i=5 ,4, 3 , 2,1\n",
    "        fact=fact*n # fact=1*5=5, 5*4=20, 20*3=60 ,60*2=120, 120*1=120\n",
    "        n=n-1 # n=4 ,3, 2, 1\n",
    "    return fact  # 120\n",
    "    \n",
    "            "
   ]
  },
  {
   "cell_type": "code",
   "execution_count": 64,
   "id": "027844f0-efd3-489e-8c94-9ddf36b22f4c",
   "metadata": {},
   "outputs": [
    {
     "data": {
      "text/plain": [
       "120"
      ]
     },
     "execution_count": 64,
     "metadata": {},
     "output_type": "execute_result"
    }
   ],
   "source": [
    "factorial(5)"
   ]
  },
  {
   "cell_type": "code",
   "execution_count": 65,
   "id": "bb09f74b-7364-4f85-b1e5-1dfab2de46fe",
   "metadata": {},
   "outputs": [
    {
     "name": "stdin",
     "output_type": "stream",
     "text": [
      "write any number 34\n"
     ]
    },
    {
     "name": "stdout",
     "output_type": "stream",
     "text": [
      "295232799039604140847618609643520000000\n"
     ]
    }
   ],
   "source": [
    "number=int(input(\"write any number\"))\n",
    "mynum=factorial(number)\n",
    "print(mynum)"
   ]
  },
  {
   "cell_type": "code",
   "execution_count": 66,
   "id": "b55dd4f4-fcac-427a-8e9a-571139b5f14a",
   "metadata": {},
   "outputs": [],
   "source": [
    "# OR using while loop\n",
    "def factorial(n):\n",
    "    fact=1\n",
    "    while n>1:\n",
    "        fact=fact*n\n",
    "        n=n-1\n",
    "    return fact"
   ]
  },
  {
   "cell_type": "code",
   "execution_count": 67,
   "id": "64556188-f90e-4fbe-85fc-322e03ece88d",
   "metadata": {},
   "outputs": [
    {
     "data": {
      "text/plain": [
       "40320"
      ]
     },
     "execution_count": 67,
     "metadata": {},
     "output_type": "execute_result"
    }
   ],
   "source": [
    "factorial(8)"
   ]
  },
  {
   "cell_type": "markdown",
   "id": "efe9cc75-95f0-4fc9-8a7b-01eafffa6568",
   "metadata": {},
   "source": [
    "# positional args\n",
    "# keyword args\n",
    "# default args"
   ]
  },
  {
   "cell_type": "code",
   "execution_count": 68,
   "id": "5c439802-e394-422e-911e-893dd10ff6d3",
   "metadata": {},
   "outputs": [],
   "source": [
    "#positional arguments\n",
    "def nos(a,b,c,d):\n",
    "    return a*b*c*d"
   ]
  },
  {
   "cell_type": "code",
   "execution_count": 69,
   "id": "ecbf1b49-d56f-40fa-8642-972248b35af1",
   "metadata": {},
   "outputs": [
    {
     "data": {
      "text/plain": [
       "240000"
      ]
     },
     "execution_count": 69,
     "metadata": {},
     "output_type": "execute_result"
    }
   ],
   "source": [
    "nos(10,20,30,40)"
   ]
  },
  {
   "cell_type": "code",
   "execution_count": 70,
   "id": "29b9d8cb-8889-4754-b5f2-4735102701a9",
   "metadata": {},
   "outputs": [],
   "source": [
    "#keyword arguments\n",
    "def nos(a,b,c,d):\n",
    "    return a*b*c*d"
   ]
  },
  {
   "cell_type": "code",
   "execution_count": 71,
   "id": "9583839f-3d7f-42ff-b887-d90de3ee7388",
   "metadata": {},
   "outputs": [],
   "source": [
    "mynums=nos(a=10,b=20,d=40,c=30)"
   ]
  },
  {
   "cell_type": "code",
   "execution_count": 72,
   "id": "7c48cbb3-154d-4091-a8d4-5fedafc45259",
   "metadata": {},
   "outputs": [
    {
     "name": "stdout",
     "output_type": "stream",
     "text": [
      "240000\n"
     ]
    }
   ],
   "source": [
    "print(mynums)"
   ]
  },
  {
   "cell_type": "code",
   "execution_count": 73,
   "id": "1d5fbde1-0039-43ec-9c04-6c800f433828",
   "metadata": {},
   "outputs": [],
   "source": [
    "#default arguments\n",
    "def nos(a,b,d,c=0):\n",
    "    return a*b*c*d"
   ]
  },
  {
   "cell_type": "code",
   "execution_count": 74,
   "id": "45ea6ec6-194c-4d65-b12b-1c4a9f95bf2c",
   "metadata": {},
   "outputs": [
    {
     "data": {
      "text/plain": [
       "0"
      ]
     },
     "execution_count": 74,
     "metadata": {},
     "output_type": "execute_result"
    }
   ],
   "source": [
    "nos(1,2,d=4)"
   ]
  },
  {
   "cell_type": "code",
   "execution_count": 75,
   "id": "8ecb34f0-e2e0-43ec-ae2f-c9e45a3e6f1b",
   "metadata": {},
   "outputs": [],
   "source": [
    "def nos(a,b,d,c=0):\n",
    "    return a+b+c+d"
   ]
  },
  {
   "cell_type": "code",
   "execution_count": 76,
   "id": "15036c61-8c2e-46ed-b80e-228a94d59d22",
   "metadata": {},
   "outputs": [
    {
     "data": {
      "text/plain": [
       "9"
      ]
     },
     "execution_count": 76,
     "metadata": {},
     "output_type": "execute_result"
    }
   ],
   "source": [
    "nos(1,2,6)"
   ]
  },
  {
   "cell_type": "markdown",
   "id": "e54798d9-a07a-439d-8598-c8c6ae6812cf",
   "metadata": {},
   "source": [
    "# variable length argument"
   ]
  },
  {
   "cell_type": "code",
   "execution_count": 77,
   "id": "dfd4eb02-dea2-4eb0-b567-b498023bc7d5",
   "metadata": {},
   "outputs": [],
   "source": [
    "def nos(a,b,c,d):\n",
    "    return a*b*c*d"
   ]
  },
  {
   "cell_type": "code",
   "execution_count": 78,
   "id": "2e529709-2218-48e6-ae60-e0e2247301fe",
   "metadata": {},
   "outputs": [],
   "source": [
    "def nos(a,b,c,d,e):\n",
    "    return a*b*c*d*e"
   ]
  },
  {
   "cell_type": "code",
   "execution_count": 79,
   "id": "e283a977-77ec-4757-94d2-ad156ed975cc",
   "metadata": {},
   "outputs": [
    {
     "data": {
      "text/plain": [
       "120"
      ]
     },
     "execution_count": 79,
     "metadata": {},
     "output_type": "execute_result"
    }
   ],
   "source": [
    "nos(1,2,3,4,5)"
   ]
  },
  {
   "cell_type": "code",
   "execution_count": 80,
   "id": "29037c99-be75-41a9-b181-81ae9252938c",
   "metadata": {},
   "outputs": [],
   "source": [
    "def nos(a,b,c,d,e,f):\n",
    "    return a*b*c*d*e*f"
   ]
  },
  {
   "cell_type": "code",
   "execution_count": 81,
   "id": "a75b07eb-a127-4eb1-abb9-548a402af761",
   "metadata": {},
   "outputs": [
    {
     "ename": "TypeError",
     "evalue": "nos() missing 1 required positional argument: 'f'",
     "output_type": "error",
     "traceback": [
      "\u001b[0;31m---------------------------------------------------------------------------\u001b[0m",
      "\u001b[0;31mTypeError\u001b[0m                                 Traceback (most recent call last)",
      "Cell \u001b[0;32mIn [81], line 1\u001b[0m\n\u001b[0;32m----> 1\u001b[0m \u001b[43mnos\u001b[49m\u001b[43m(\u001b[49m\u001b[38;5;241;43m10\u001b[39;49m\u001b[43m,\u001b[49m\u001b[38;5;241;43m20\u001b[39;49m\u001b[43m,\u001b[49m\u001b[38;5;241;43m30\u001b[39;49m\u001b[43m,\u001b[49m\u001b[38;5;241;43m40\u001b[39;49m\u001b[43m,\u001b[49m\u001b[38;5;241;43m50\u001b[39;49m\u001b[43m)\u001b[49m\n",
      "\u001b[0;31mTypeError\u001b[0m: nos() missing 1 required positional argument: 'f'"
     ]
    }
   ],
   "source": [
    "nos(10,20,30,40,50)"
   ]
  },
  {
   "cell_type": "code",
   "execution_count": 82,
   "id": "be5d2070-e98e-4988-a87e-0d3feebedafb",
   "metadata": {},
   "outputs": [],
   "source": [
    "def nos(*a):\n",
    "    print(type(a))\n",
    "    mul=1\n",
    "    for i in a:\n",
    "        mul=mul*i\n",
    "    return mul\n",
    "    "
   ]
  },
  {
   "cell_type": "code",
   "execution_count": 83,
   "id": "3644b419-03ee-45ef-ac24-66510c625466",
   "metadata": {},
   "outputs": [
    {
     "name": "stdout",
     "output_type": "stream",
     "text": [
      "<class 'tuple'>\n"
     ]
    },
    {
     "data": {
      "text/plain": [
       "24"
      ]
     },
     "execution_count": 83,
     "metadata": {},
     "output_type": "execute_result"
    }
   ],
   "source": [
    "nos(1,2,3,4)"
   ]
  },
  {
   "cell_type": "code",
   "execution_count": 84,
   "id": "4c0b5604-5fcd-4976-a18a-7586bd3f7fcf",
   "metadata": {},
   "outputs": [
    {
     "name": "stdout",
     "output_type": "stream",
     "text": [
      "<class 'tuple'>\n"
     ]
    },
    {
     "data": {
      "text/plain": [
       "3472035840"
      ]
     },
     "execution_count": 84,
     "metadata": {},
     "output_type": "execute_result"
    }
   ],
   "source": [
    "nos(23,45,32,78,56,3,4,2)"
   ]
  },
  {
   "cell_type": "markdown",
   "id": "e2b9ed34-002d-4c4c-b235-511895052a2c",
   "metadata": {},
   "source": [
    "# python does not support function overloading\n",
    "\n",
    "# it will always take recent defination"
   ]
  },
  {
   "cell_type": "code",
   "execution_count": 85,
   "id": "e893736d-8ddc-4e07-9b49-c34fcf3efaaa",
   "metadata": {},
   "outputs": [
    {
     "name": "stdout",
     "output_type": "stream",
     "text": [
      "Joined String is: Goodnight\n"
     ]
    }
   ],
   "source": [
    "def attach(s1,s2):\n",
    "    s3=s1+s2\n",
    "    print(\"Joined String is:\",s3)\n",
    "\t\n",
    "attach(\"Good\",\"night\")"
   ]
  },
  {
   "cell_type": "code",
   "execution_count": 86,
   "id": "6321c0ea-7576-4e22-8ca2-17c979c60311",
   "metadata": {},
   "outputs": [
    {
     "name": "stdout",
     "output_type": "stream",
     "text": [
      "Item is 150 It's price is Butter\n"
     ]
    }
   ],
   "source": [
    "def grocery(name,price):\n",
    "    print(\"Item is\",name,\"It's price is\",price)\n",
    "\t\n",
    "grocery(150,\"Butter\")"
   ]
  },
  {
   "cell_type": "code",
   "execution_count": 87,
   "id": "ef2a0e00-3fae-487a-b91f-3f516f7f778e",
   "metadata": {},
   "outputs": [
    {
     "name": "stdout",
     "output_type": "stream",
     "text": [
      "Item is Butter It's price is 150\n"
     ]
    }
   ],
   "source": [
    "def grocery(name,price):\n",
    "    print(\"Item is\",name,\"It's price is\",price)\n",
    "\t\n",
    "grocery(price=150,name=\"Butter\")"
   ]
  },
  {
   "cell_type": "code",
   "execution_count": 88,
   "id": "a04e5951-0bdc-411b-9235-e6c09979ea40",
   "metadata": {},
   "outputs": [
    {
     "name": "stdout",
     "output_type": "stream",
     "text": [
      "Hello Sachin Good Morning\n"
     ]
    }
   ],
   "source": [
    "def greet(name,msg=\"Good Morning\"):\n",
    "    print(\"Hello\",name,msg)\n",
    "\t\n",
    "greet(\"Sachin\")"
   ]
  },
  {
   "cell_type": "code",
   "execution_count": 89,
   "id": "3dfe0756-648d-4fe5-8cd5-d6f9c14854ec",
   "metadata": {},
   "outputs": [
    {
     "name": "stdout",
     "output_type": "stream",
     "text": [
      "Hello Good Morning Sachin\n"
     ]
    }
   ],
   "source": [
    "def greet(name ,msg=\"Good Morning\"):\n",
    "    print(\"Hello\",msg,name)\n",
    "\t\n",
    "greet(\"Sachin\")"
   ]
  },
  {
   "cell_type": "code",
   "execution_count": 90,
   "id": "8a0186f6-0423-41ee-a3b0-77f53372d9d3",
   "metadata": {},
   "outputs": [
    {
     "ename": "SyntaxError",
     "evalue": "non-default argument follows default argument (485281079.py, line 1)",
     "output_type": "error",
     "traceback": [
      "\u001b[0;36m  Cell \u001b[0;32mIn [90], line 1\u001b[0;36m\u001b[0m\n\u001b[0;31m    def greet(msg=\"Good Morning\",name):  # always defsult args should be last parameter\u001b[0m\n\u001b[0m                                 ^\u001b[0m\n\u001b[0;31mSyntaxError\u001b[0m\u001b[0;31m:\u001b[0m non-default argument follows default argument\n"
     ]
    }
   ],
   "source": [
    "def greet(msg=\"Good Morning\",name):  # always defsult args should be last parameter\n",
    "    print(\"Hello\",name,msg)\n",
    "\t\n",
    "greet(\"Sachin\")"
   ]
  },
  {
   "cell_type": "code",
   "execution_count": 91,
   "id": "e105a24a-7752-44b7-a6ae-2673b7347773",
   "metadata": {},
   "outputs": [],
   "source": [
    "def greet(name ,msg=\"Good Morning\"):\n",
    "    print(\"Hello\",name,msg)\n",
    "\t"
   ]
  },
  {
   "cell_type": "code",
   "execution_count": 92,
   "id": "94e66532-008d-4d02-b365-f7363ee1d400",
   "metadata": {},
   "outputs": [
    {
     "name": "stdout",
     "output_type": "stream",
     "text": [
      "Hello Amit How are you?\n"
     ]
    }
   ],
   "source": [
    " greet(\"Amit\",\"How are you?\")"
   ]
  },
  {
   "cell_type": "markdown",
   "id": "5dcc13a1-2eed-465d-80d2-2140b5e46a28",
   "metadata": {},
   "source": [
    "# Write a function called cal_area( ) using default argument concept which accepts radius and pi as arguments and calculates and displays area of the Circle. The value of pi should be used as default argument and value of radius should be accepted from the user"
   ]
  },
  {
   "cell_type": "code",
   "execution_count": 93,
   "id": "3e5f118f-f655-4bd3-aade-8d1a92290042",
   "metadata": {},
   "outputs": [],
   "source": [
    "def cal_area(radius,pi=3.14):\n",
    "    area_of_circle= pi * radius *radius\n",
    "    return round(area_of_circle,3)"
   ]
  },
  {
   "cell_type": "code",
   "execution_count": 94,
   "id": "406ac75f-6130-49cb-a8ea-e075f854797e",
   "metadata": {},
   "outputs": [
    {
     "name": "stdin",
     "output_type": "stream",
     "text": [
      "enter radius 2\n"
     ]
    },
    {
     "data": {
      "text/plain": [
       "12.56"
      ]
     },
     "execution_count": 94,
     "metadata": {},
     "output_type": "execute_result"
    }
   ],
   "source": [
    "radius=int(input('enter radius'))\n",
    "cal_area(radius)"
   ]
  },
  {
   "cell_type": "code",
   "execution_count": 95,
   "id": "7b558026-aeba-4a37-85a3-3fcdab23f86c",
   "metadata": {},
   "outputs": [],
   "source": [
    "def addnos(a,b):\n",
    "\tc=a+b\n",
    "\treturn c\n",
    "\n",
    "def addnos(a,b,c):\n",
    "\td=a+b+c\n",
    "\treturn d   "
   ]
  },
  {
   "cell_type": "code",
   "execution_count": 96,
   "id": "196dc5e2-9d8d-4c99-8130-eae107449504",
   "metadata": {},
   "outputs": [
    {
     "ename": "TypeError",
     "evalue": "addnos() missing 1 required positional argument: 'c'",
     "output_type": "error",
     "traceback": [
      "\u001b[0;31m---------------------------------------------------------------------------\u001b[0m",
      "\u001b[0;31mTypeError\u001b[0m                                 Traceback (most recent call last)",
      "Cell \u001b[0;32mIn [96], line 1\u001b[0m\n\u001b[0;32m----> 1\u001b[0m \u001b[38;5;28mprint\u001b[39m(\u001b[43maddnos\u001b[49m\u001b[43m(\u001b[49m\u001b[38;5;241;43m10\u001b[39;49m\u001b[43m,\u001b[49m\u001b[38;5;241;43m20\u001b[39;49m\u001b[43m)\u001b[49m)\n",
      "\u001b[0;31mTypeError\u001b[0m: addnos() missing 1 required positional argument: 'c'"
     ]
    }
   ],
   "source": [
    "print(addnos(10,20))  # case of function overloading that does not work in python"
   ]
  },
  {
   "cell_type": "markdown",
   "id": "2ff93351-8d0d-401f-8c74-d8c3c7966091",
   "metadata": {},
   "source": [
    "# Write a function called find_largest( ) which accepts multiple strings as argument and returns the length of the largest string"
   ]
  },
  {
   "cell_type": "code",
   "execution_count": 97,
   "id": "85c019ce-89e7-48f4-8204-99412d0acd0c",
   "metadata": {},
   "outputs": [],
   "source": [
    "def find_largest():\n",
    "    aa=[]\n",
    "    val=input('enter string:').split(' ')\n",
    "    for i in val:\n",
    "        print(i)\n",
    "        aa.append(len(i))\n",
    "    return max(aa)"
   ]
  },
  {
   "cell_type": "code",
   "execution_count": 98,
   "id": "2263248c-1483-4d44-9d38-52853b4b7094",
   "metadata": {},
   "outputs": [
    {
     "name": "stdin",
     "output_type": "stream",
     "text": [
      "enter string: preeti rishi\n"
     ]
    },
    {
     "name": "stdout",
     "output_type": "stream",
     "text": [
      "preeti\n",
      "rishi\n"
     ]
    },
    {
     "data": {
      "text/plain": [
       "6"
      ]
     },
     "execution_count": 98,
     "metadata": {},
     "output_type": "execute_result"
    }
   ],
   "source": [
    "find_largest()"
   ]
  },
  {
   "cell_type": "code",
   "execution_count": 99,
   "id": "2f7ac8f1-fe12-4aa8-8987-874124dfd8c6",
   "metadata": {},
   "outputs": [
    {
     "name": "stdout",
     "output_type": "stream",
     "text": [
      "8\n"
     ]
    }
   ],
   "source": [
    "def findlargest(*names):\n",
    "\tmax=0\n",
    "\tfor s in names:\n",
    "\t\tif len(s)>max:\n",
    "\t\t\tmax=len(s)\n",
    "\treturn max\n",
    "print(findlargest(\"January\",\"February\",\"March\"))\n"
   ]
  },
  {
   "cell_type": "code",
   "execution_count": 5,
   "id": "a8d85535-be8d-44e8-ad70-f362c0c86e1b",
   "metadata": {},
   "outputs": [],
   "source": [
    "def find_largest(a,b,c):\n",
    "      x =len(a)\n",
    "      y =len(b)\n",
    "      z =len(c)\n",
    "      if x>y and x>z:\n",
    "        return x\n",
    "      elif y>x and y>z:\n",
    "        return y\n",
    "      else:\n",
    "        return z"
   ]
  },
  {
   "cell_type": "code",
   "execution_count": 6,
   "id": "babc6239-5ab0-4be2-b49d-af34d8901fcd",
   "metadata": {},
   "outputs": [
    {
     "data": {
      "text/plain": [
       "6"
      ]
     },
     "execution_count": 6,
     "metadata": {},
     "output_type": "execute_result"
    }
   ],
   "source": [
    "find_largest('preeti','rishi','john')"
   ]
  },
  {
   "cell_type": "code",
   "execution_count": 7,
   "id": "37da1cbe-2f2b-4b00-bc54-971d6b391db9",
   "metadata": {},
   "outputs": [],
   "source": [
    "def find_largest():\n",
    "    a=input(\"Enter the firsst string = \")\n",
    "    b=input(\"Enter the second string = \")\n",
    "    c=input(\"Enter the third string = \")\n",
    "    \n",
    "    if (len(a)>len(b) and len(a)> len(c)):\n",
    "        return a,len(a)\n",
    "    elif (len(b)>len(c) and len(b)> len(a)):\n",
    "        return b,len(b)\n",
    "    else:\n",
    "        return c,len(c)\n"
   ]
  },
  {
   "cell_type": "code",
   "execution_count": 8,
   "id": "3c48b1d7-df0a-48ef-9e15-1a7449cb94e0",
   "metadata": {},
   "outputs": [
    {
     "name": "stdin",
     "output_type": "stream",
     "text": [
      "Enter the firsst string =  preeti rishi\n",
      "Enter the second string =  disha\n",
      "Enter the third string =  rohit\n"
     ]
    },
    {
     "data": {
      "text/plain": [
       "('preeti rishi', 12)"
      ]
     },
     "execution_count": 8,
     "metadata": {},
     "output_type": "execute_result"
    }
   ],
   "source": [
    "find_largest()"
   ]
  },
  {
   "cell_type": "code",
   "execution_count": 9,
   "id": "a022520b-1479-4670-92ae-e4ddc982ee83",
   "metadata": {},
   "outputs": [
    {
     "ename": "SyntaxError",
     "evalue": "invalid syntax (1844194619.py, line 1)",
     "output_type": "error",
     "traceback": [
      "\u001b[0;36m  Cell \u001b[0;32mIn [9], line 1\u001b[0;36m\u001b[0m\n\u001b[0;31m    def addnos(*a,*b):  # no multi args with * only 1 arg is psbl\u001b[0m\n\u001b[0m                  ^\u001b[0m\n\u001b[0;31mSyntaxError\u001b[0m\u001b[0;31m:\u001b[0m invalid syntax\n"
     ]
    }
   ],
   "source": [
    "def addnos(*a,*b):  # no multi args with * only 1 arg is psbl\n",
    "    print(a)\n",
    "    print(b)"
   ]
  },
  {
   "cell_type": "code",
   "execution_count": 100,
   "id": "8db78446-c086-42b2-8856-a305144f7a75",
   "metadata": {},
   "outputs": [
    {
     "name": "stdout",
     "output_type": "stream",
     "text": [
      "10 20 3 4\n"
     ]
    }
   ],
   "source": [
    "def show(a,b,c=3,d=4):\n",
    "    print(a,b,c,d)\n",
    "\n",
    "show(10,20)"
   ]
  },
  {
   "cell_type": "code",
   "execution_count": 101,
   "id": "0ad1058c-e2a6-4268-9183-27036fb516fe",
   "metadata": {},
   "outputs": [
    {
     "name": "stdout",
     "output_type": "stream",
     "text": [
      "10 20 30 40\n"
     ]
    }
   ],
   "source": [
    "def show(a,b,c=3,d=4):\n",
    "    print(a,b,c,d)\n",
    "\n",
    "show(10,20,30,40)"
   ]
  },
  {
   "cell_type": "code",
   "execution_count": 102,
   "id": "57aee7a3-534c-4365-bdaf-cd3bffe2ca21",
   "metadata": {},
   "outputs": [
    {
     "name": "stdout",
     "output_type": "stream",
     "text": [
      "20 30 3 10\n"
     ]
    }
   ],
   "source": [
    "def show(a,b,c=3,d=4):\n",
    "    print(a,b,c,d)\n",
    "\n",
    "show(d=10,a=20,b=30)"
   ]
  },
  {
   "cell_type": "code",
   "execution_count": 103,
   "id": "7ac0a844-656d-4d93-b7c8-5fb7d24e9977",
   "metadata": {},
   "outputs": [
    {
     "ename": "TypeError",
     "evalue": "show() missing 2 required positional arguments: 'a' and 'b'",
     "output_type": "error",
     "traceback": [
      "\u001b[0;31m---------------------------------------------------------------------------\u001b[0m",
      "\u001b[0;31mTypeError\u001b[0m                                 Traceback (most recent call last)",
      "Cell \u001b[0;32mIn [103], line 4\u001b[0m\n\u001b[1;32m      1\u001b[0m \u001b[38;5;28;01mdef\u001b[39;00m \u001b[38;5;21mshow\u001b[39m(a,b,c\u001b[38;5;241m=\u001b[39m\u001b[38;5;241m3\u001b[39m,d\u001b[38;5;241m=\u001b[39m\u001b[38;5;241m4\u001b[39m):\n\u001b[1;32m      2\u001b[0m     \u001b[38;5;28mprint\u001b[39m(a,b,c,d)\n\u001b[0;32m----> 4\u001b[0m \u001b[43mshow\u001b[49m\u001b[43m(\u001b[49m\u001b[43m)\u001b[49m\n",
      "\u001b[0;31mTypeError\u001b[0m: show() missing 2 required positional arguments: 'a' and 'b'"
     ]
    }
   ],
   "source": [
    "def show(a,b,c=3,d=4):\n",
    "    print(a,b,c,d)\n",
    "\n",
    "show()"
   ]
  },
  {
   "cell_type": "code",
   "execution_count": 104,
   "id": "2f9715f4-a46f-4b34-9148-29992b3f9f99",
   "metadata": {},
   "outputs": [],
   "source": [
    "def show(a,b,c=3,d=4):\n",
    "    print(a,b,c,d)"
   ]
  },
  {
   "cell_type": "code",
   "execution_count": 105,
   "id": "e4c19fbc-3dcc-4c71-97ec-5a0bbc3b134a",
   "metadata": {},
   "outputs": [
    {
     "ename": "SyntaxError",
     "evalue": "positional argument follows keyword argument (3941129283.py, line 1)",
     "output_type": "error",
     "traceback": [
      "\u001b[0;36m  Cell \u001b[0;32mIn [105], line 1\u001b[0;36m\u001b[0m\n\u001b[0;31m    show(c=30,d=40,10,20)\u001b[0m\n\u001b[0m                        ^\u001b[0m\n\u001b[0;31mSyntaxError\u001b[0m\u001b[0;31m:\u001b[0m positional argument follows keyword argument\n"
     ]
    }
   ],
   "source": [
    "show(c=30,d=40,10,20)\n"
   ]
  },
  {
   "cell_type": "code",
   "execution_count": 106,
   "id": "03d2d9fc-f09e-4310-8b6f-3548bdef295f",
   "metadata": {},
   "outputs": [
    {
     "ename": "TypeError",
     "evalue": "show() got multiple values for argument 'b'",
     "output_type": "error",
     "traceback": [
      "\u001b[0;31m---------------------------------------------------------------------------\u001b[0m",
      "\u001b[0;31mTypeError\u001b[0m                                 Traceback (most recent call last)",
      "Cell \u001b[0;32mIn [106], line 4\u001b[0m\n\u001b[1;32m      1\u001b[0m \u001b[38;5;28;01mdef\u001b[39;00m \u001b[38;5;21mshow\u001b[39m(a,b,c\u001b[38;5;241m=\u001b[39m\u001b[38;5;241m3\u001b[39m,d\u001b[38;5;241m=\u001b[39m\u001b[38;5;241m4\u001b[39m):\n\u001b[1;32m      2\u001b[0m     \u001b[38;5;28mprint\u001b[39m(a,b,c,d)\n\u001b[0;32m----> 4\u001b[0m \u001b[43mshow\u001b[49m\u001b[43m(\u001b[49m\u001b[38;5;241;43m30\u001b[39;49m\u001b[43m,\u001b[49m\u001b[38;5;241;43m40\u001b[39;49m\u001b[43m,\u001b[49m\u001b[43mb\u001b[49m\u001b[38;5;241;43m=\u001b[39;49m\u001b[38;5;241;43m15\u001b[39;49m\u001b[43m)\u001b[49m\n",
      "\u001b[0;31mTypeError\u001b[0m: show() got multiple values for argument 'b'"
     ]
    }
   ],
   "source": [
    "def show(a,b,c=3,d=4):\n",
    "    print(a,b,c,d)\n",
    "\n",
    "show(30,40,b=15)\n"
   ]
  },
  {
   "cell_type": "code",
   "execution_count": 107,
   "id": "bfe9de9f-f885-43f2-9ee1-da1cf3f47f44",
   "metadata": {},
   "outputs": [],
   "source": [
    "def test(a):\n",
    "    try:\n",
    "        print(a/10)\n",
    "    except:\n",
    "        print(\"dont write string\")\n",
    " "
   ]
  },
  {
   "cell_type": "code",
   "execution_count": 108,
   "id": "4f31335c-eeb3-4f6f-a8c5-0aa865b9b9f6",
   "metadata": {},
   "outputs": [
    {
     "name": "stdout",
     "output_type": "stream",
     "text": [
      "dont write string\n"
     ]
    }
   ],
   "source": [
    "test(\"priya\") "
   ]
  },
  {
   "cell_type": "markdown",
   "id": "9a213108-0956-4589-a028-8567709e03de",
   "metadata": {},
   "source": [
    "# Scope of the variable (local,global)"
   ]
  },
  {
   "cell_type": "code",
   "execution_count": 109,
   "id": "5dcd2e76-48cd-42c8-8438-2446ae1faa02",
   "metadata": {},
   "outputs": [],
   "source": [
    "def test():\n",
    "    pass"
   ]
  },
  {
   "cell_type": "code",
   "execution_count": 110,
   "id": "c5bf592d-c434-49af-badc-25848cf8a742",
   "metadata": {},
   "outputs": [],
   "source": [
    "test()"
   ]
  },
  {
   "cell_type": "code",
   "execution_count": null,
   "id": "f7e95cd0-2972-43bd-8b46-af00f38144be",
   "metadata": {},
   "outputs": [],
   "source": [
    "1. positional argumnet\n",
    "2. default argument\n",
    "3. keyword argumnet\n",
    "4. variable length argument"
   ]
  },
  {
   "cell_type": "code",
   "execution_count": 111,
   "id": "143795d1-6b67-44ca-9bf7-7e29ccda4a4f",
   "metadata": {},
   "outputs": [
    {
     "name": "stdout",
     "output_type": "stream",
     "text": [
      "i love python\n"
     ]
    }
   ],
   "source": [
    "s='i love python'\n",
    "def func():\n",
    "    print(s)\n",
    "    \n",
    "func()  # function call"
   ]
  },
  {
   "cell_type": "code",
   "execution_count": 113,
   "id": "ea4a963f-b040-41ac-a56d-5811cefef7ab",
   "metadata": {},
   "outputs": [],
   "source": [
    "s='i love python'\n",
    "def func():\n",
    "    print(s)"
   ]
  },
  {
   "cell_type": "code",
   "execution_count": 114,
   "id": "47819c53-79e0-4bc5-b593-c836e9e7d783",
   "metadata": {},
   "outputs": [
    {
     "name": "stdout",
     "output_type": "stream",
     "text": [
      "i love coffee\n"
     ]
    }
   ],
   "source": [
    "def f():\n",
    "    print(x)\n",
    "x='i love coffee' # global variable\n",
    "f()"
   ]
  },
  {
   "cell_type": "code",
   "execution_count": 115,
   "id": "35e913f5-61dd-4005-9281-1b195d438df2",
   "metadata": {},
   "outputs": [
    {
     "ename": "NameError",
     "evalue": "name 'y' is not defined",
     "output_type": "error",
     "traceback": [
      "\u001b[0;31m---------------------------------------------------------------------------\u001b[0m",
      "\u001b[0;31mNameError\u001b[0m                                 Traceback (most recent call last)",
      "Cell \u001b[0;32mIn [115], line 3\u001b[0m\n\u001b[1;32m      1\u001b[0m \u001b[38;5;28;01mdef\u001b[39;00m \u001b[38;5;21mf\u001b[39m():\n\u001b[1;32m      2\u001b[0m     \u001b[38;5;28mprint\u001b[39m(y)\n\u001b[0;32m----> 3\u001b[0m \u001b[43mf\u001b[49m\u001b[43m(\u001b[49m\u001b[43m)\u001b[49m\n\u001b[1;32m      4\u001b[0m y\u001b[38;5;241m=\u001b[39m\u001b[38;5;124m'\u001b[39m\u001b[38;5;124mi love tea\u001b[39m\u001b[38;5;124m'\u001b[39m\n",
      "Cell \u001b[0;32mIn [115], line 2\u001b[0m, in \u001b[0;36mf\u001b[0;34m()\u001b[0m\n\u001b[1;32m      1\u001b[0m \u001b[38;5;28;01mdef\u001b[39;00m \u001b[38;5;21mf\u001b[39m():\n\u001b[0;32m----> 2\u001b[0m     \u001b[38;5;28mprint\u001b[39m(\u001b[43my\u001b[49m)\n",
      "\u001b[0;31mNameError\u001b[0m: name 'y' is not defined"
     ]
    }
   ],
   "source": [
    "def f():\n",
    "    print(y)\n",
    "f()\n",
    "y='i love tea'"
   ]
  },
  {
   "cell_type": "code",
   "execution_count": 116,
   "id": "83fcd3bf-d141-41e7-9d7a-4b5666f459b4",
   "metadata": {},
   "outputs": [
    {
     "name": "stdout",
     "output_type": "stream",
     "text": [
      "preeti\n",
      "<function <lambda> at 0x7f50cc0928c0>\n"
     ]
    }
   ],
   "source": [
    "def test():\n",
    "    name='preeti'  # local variable\n",
    "    print(name)\n",
    "test()\n",
    "print(name)"
   ]
  },
  {
   "cell_type": "markdown",
   "id": "e06252a3-1bf1-495d-9087-8cb0d5eee1a2",
   "metadata": {},
   "source": [
    "# local variable: it is a variable which we are defining in the function and the scope will be in the function only\n",
    "# global variable: global variable is a variable which we are defining outside of the funciton and the scope will be global"
   ]
  },
  {
   "cell_type": "code",
   "execution_count": 117,
   "id": "5197265d-09e0-429e-854b-dc52f4c99ef3",
   "metadata": {},
   "outputs": [
    {
     "name": "stdout",
     "output_type": "stream",
     "text": [
      "i love to travel\n",
      "i love city\n"
     ]
    }
   ],
   "source": [
    "a='i love city'\n",
    "def f():\n",
    "    a='i love to travel'\n",
    "    print(a)\n",
    "f()\n",
    "print(a)\n",
    "    \n",
    "    "
   ]
  },
  {
   "cell_type": "code",
   "execution_count": 118,
   "id": "9c73fd31-997c-4e36-8611-7a1ba93955b8",
   "metadata": {},
   "outputs": [
    {
     "name": "stdout",
     "output_type": "stream",
     "text": [
      "i love coffee\n",
      "i love coffee\n"
     ]
    }
   ],
   "source": [
    "def f():\n",
    "    global a\n",
    "    a='i love coffee'\n",
    "    print(a)\n",
    "f()\n",
    "print(a)"
   ]
  },
  {
   "cell_type": "code",
   "execution_count": 119,
   "id": "f85a0b68-d2d3-4e99-9700-8f9a6c515945",
   "metadata": {},
   "outputs": [
    {
     "name": "stdout",
     "output_type": "stream",
     "text": [
      "i love coffee\n",
      "i love coffee\n"
     ]
    }
   ],
   "source": [
    "a='i love tea'\n",
    "def f():\n",
    "    global a\n",
    "    a='i love coffee'\n",
    "    print(a)\n",
    "f()\n",
    "print(a)"
   ]
  },
  {
   "cell_type": "code",
   "execution_count": 120,
   "id": "f8b56178-1eef-41ca-8319-497583ad6030",
   "metadata": {},
   "outputs": [
    {
     "name": "stdout",
     "output_type": "stream",
     "text": [
      "i love python\n",
      "i love python\n",
      "i love ML\n",
      "i love DS\n"
     ]
    }
   ],
   "source": [
    "a='i love python'\n",
    "def f():\n",
    "    global b\n",
    "    global c\n",
    "    b='i love ML'\n",
    "    c='i love DS'\n",
    "    print(a)\n",
    "f()\n",
    "print(a)\n",
    "print(b)\n",
    "print(c)"
   ]
  },
  {
   "cell_type": "code",
   "execution_count": 121,
   "id": "c916f010-dc11-40b7-bcec-a37f962fc77c",
   "metadata": {},
   "outputs": [
    {
     "name": "stdout",
     "output_type": "stream",
     "text": [
      "my name is preeti and i am from mumbai\n",
      "my name is preeti and i am from mumbai\n"
     ]
    }
   ],
   "source": [
    "myvariable=\"i love python\"\n",
    "def f():\n",
    "    global myvariable\n",
    "    myvariable=\"my name is preeti and i am from mumbai\"\n",
    "    print(myvariable)\n",
    "f()\n",
    "print(myvariable)"
   ]
  },
  {
   "cell_type": "code",
   "execution_count": 122,
   "id": "d286ded5-37c2-49d3-8d9c-cb9e70f308d8",
   "metadata": {},
   "outputs": [
    {
     "name": "stdout",
     "output_type": "stream",
     "text": [
      "i am good in programming\n",
      "i love coding\n",
      "i love coding\n"
     ]
    }
   ],
   "source": [
    "s=\"i am good in programming\"\n",
    "def code():\n",
    "    global s\n",
    "    print(s) # outside var \n",
    "    s=\"i love coding\" \n",
    "    print(s)\n",
    "code()\n",
    "print(s)"
   ]
  },
  {
   "cell_type": "code",
   "execution_count": 123,
   "id": "5a2adae8-7b56-43cd-a3f7-25d2cf9f0e07",
   "metadata": {},
   "outputs": [
    {
     "name": "stdout",
     "output_type": "stream",
     "text": [
      "i love coding\n",
      "i love coding\n"
     ]
    }
   ],
   "source": [
    "s=\"i am good in programming\"\n",
    "def code():\n",
    "    global s\n",
    "    #print(s) # outside var \n",
    "    s=\"i love coding\" \n",
    "    print(s)\n",
    "code()\n",
    "print(s)"
   ]
  },
  {
   "cell_type": "code",
   "execution_count": 124,
   "id": "0ce38a51-c652-472b-9bd1-9b35d580a1c8",
   "metadata": {},
   "outputs": [
    {
     "name": "stdout",
     "output_type": "stream",
     "text": [
      "i love coding\n",
      "i am good in programming\n"
     ]
    }
   ],
   "source": [
    "s=\"i am good in programming\"\n",
    "def code():\n",
    "    # global s\n",
    "    # print(s) # outside var \n",
    "    s=\"i love coding\" \n",
    "    print(s)\n",
    "code()\n",
    "print(s)"
   ]
  },
  {
   "cell_type": "code",
   "execution_count": 125,
   "id": "2737d960-cb12-428e-ab8b-69e61e7f4f95",
   "metadata": {},
   "outputs": [
    {
     "name": "stdout",
     "output_type": "stream",
     "text": [
      "42 17 4 17\n",
      "42 15 3 4\n"
     ]
    }
   ],
   "source": [
    "# it is homework\n",
    "def foo(x, y):\n",
    "    global a\n",
    "    a = 42\n",
    "    x,y = y,x\n",
    "    b = 33\n",
    "    b = 17\n",
    "    c = 100\n",
    "    print(a,b,x,y)\n",
    "\n",
    "a, b, x, y = 1, 15, 3,4 \n",
    "foo(17, 4)\n",
    "print(a, b, x, y)"
   ]
  },
  {
   "cell_type": "markdown",
   "id": "83d44bcb-4de7-4522-b2d8-2f5e9e43e3c4",
   "metadata": {},
   "source": [
    "# Map and filter functions"
   ]
  },
  {
   "cell_type": "code",
   "execution_count": 126,
   "id": "6d3cf6ef-ca51-454b-a5c7-c8a18d623fc4",
   "metadata": {},
   "outputs": [],
   "source": [
    "def add(a,b):\n",
    "    return a+b"
   ]
  },
  {
   "cell_type": "code",
   "execution_count": 127,
   "id": "1bdf583c-3686-4edc-be8a-f4710985b83e",
   "metadata": {},
   "outputs": [
    {
     "data": {
      "text/plain": [
       "33"
      ]
     },
     "execution_count": 127,
     "metadata": {},
     "output_type": "execute_result"
    }
   ],
   "source": [
    "add(10,23)"
   ]
  },
  {
   "cell_type": "code",
   "execution_count": 128,
   "id": "ba7a3fea-a6f6-4208-868b-f87fb78798cf",
   "metadata": {},
   "outputs": [
    {
     "name": "stdout",
     "output_type": "stream",
     "text": [
      "5\n"
     ]
    }
   ],
   "source": [
    "# lambda function\n",
    "print((lambda a,b:a+b)(2,3))"
   ]
  },
  {
   "cell_type": "code",
   "execution_count": 129,
   "id": "334a572c-51e3-4f8a-beac-22aa79a919aa",
   "metadata": {},
   "outputs": [],
   "source": [
    "mylambdafunciton=lambda a,b:a+b"
   ]
  },
  {
   "cell_type": "code",
   "execution_count": 130,
   "id": "b58411bc-9238-4de2-ae35-2fcc82838f72",
   "metadata": {},
   "outputs": [
    {
     "data": {
      "text/plain": [
       "46"
      ]
     },
     "execution_count": 130,
     "metadata": {},
     "output_type": "execute_result"
    }
   ],
   "source": [
    "mylambdafunciton(12,34)"
   ]
  },
  {
   "cell_type": "code",
   "execution_count": 131,
   "id": "38fc107d-b9a8-4dd7-8539-db7350dbca04",
   "metadata": {},
   "outputs": [
    {
     "data": {
      "text/plain": [
       "function"
      ]
     },
     "execution_count": 131,
     "metadata": {},
     "output_type": "execute_result"
    }
   ],
   "source": [
    "type(mylambdafunciton)"
   ]
  },
  {
   "cell_type": "code",
   "execution_count": 132,
   "id": "fc05e500-fc10-468f-9483-5fa4b7a31948",
   "metadata": {},
   "outputs": [
    {
     "name": "stdout",
     "output_type": "stream",
     "text": [
      "<function <lambda> at 0x7f50b54cac20>\n"
     ]
    }
   ],
   "source": [
    "print(mylambdafunciton)"
   ]
  },
  {
   "cell_type": "markdown",
   "id": "9c8b5541-9f94-4b36-9910-8f5ed5c6783a",
   "metadata": {},
   "source": [
    "# wap to take two value from user and find a squre of these values and use lambda funciton for this operation."
   ]
  },
  {
   "cell_type": "code",
   "execution_count": 133,
   "id": "0b83e6e9-d4f3-4552-916d-61ab2c2976ed",
   "metadata": {},
   "outputs": [
    {
     "name": "stdin",
     "output_type": "stream",
     "text": [
      "enter first num: 1\n",
      "enter sec num: 2\n"
     ]
    },
    {
     "name": "stdout",
     "output_type": "stream",
     "text": [
      "(1, 4)\n"
     ]
    }
   ],
   "source": [
    "a=int(input('enter first num:'))\n",
    "b=int(input('enter sec num:'))\n",
    "square=lambda a,b:(a**2,b**2)\n",
    "print(square(a,b))"
   ]
  },
  {
   "cell_type": "markdown",
   "id": "bf0970f4-79c9-4de2-a0c9-da1ee0de138f",
   "metadata": {},
   "source": [
    "# Write a lambda function that returns the first character of the string passed to it as argument"
   ]
  },
  {
   "cell_type": "code",
   "execution_count": 134,
   "id": "a77cdda7-b10a-41be-bcb1-72a06fff26ad",
   "metadata": {},
   "outputs": [
    {
     "name": "stdin",
     "output_type": "stream",
     "text": [
      "enter a word preeti\n"
     ]
    },
    {
     "name": "stdout",
     "output_type": "stream",
     "text": [
      "preeti\n",
      "p\n"
     ]
    }
   ],
   "source": [
    "abc=input('enter a word')\n",
    "print(abc)\n",
    "print((lambda abc:abc[0])(abc))"
   ]
  },
  {
   "cell_type": "code",
   "execution_count": 135,
   "id": "b35c47fc-ebc2-4903-a904-629315cf44d4",
   "metadata": {},
   "outputs": [
    {
     "name": "stdin",
     "output_type": "stream",
     "text": [
      "enter a word preeti\n"
     ]
    },
    {
     "name": "stdout",
     "output_type": "stream",
     "text": [
      "i\n"
     ]
    }
   ],
   "source": [
    "abc=input('enter a word')\n",
    "string=lambda abc:abc[len(abc)-1]\n",
    "print(string(abc))"
   ]
  },
  {
   "cell_type": "markdown",
   "id": "c7b33579-bd2f-4b0a-8691-dcc705db2020",
   "metadata": {},
   "source": [
    "# Write a lambda function that returns True or False depending on whether the number passed to it as argument is even or odd \n"
   ]
  },
  {
   "cell_type": "code",
   "execution_count": 136,
   "id": "29cbb91e-ccb0-46a5-a44d-e995ed500faa",
   "metadata": {},
   "outputs": [],
   "source": [
    "def evenorodd(n):\n",
    "    if n%2==0:\n",
    "        print('num is even')\n",
    "    else:\n",
    "        print('num is odd')"
   ]
  },
  {
   "cell_type": "code",
   "execution_count": 137,
   "id": "89659240-0ba6-488f-99ed-edebb5fdf70e",
   "metadata": {},
   "outputs": [
    {
     "name": "stdout",
     "output_type": "stream",
     "text": [
      "num is even\n"
     ]
    }
   ],
   "source": [
    "evenorodd(56)"
   ]
  },
  {
   "cell_type": "code",
   "execution_count": 138,
   "id": "d1c595fd-ee02-4bdd-9b6a-063057febc44",
   "metadata": {},
   "outputs": [
    {
     "name": "stdout",
     "output_type": "stream",
     "text": [
      "num is odd\n"
     ]
    }
   ],
   "source": [
    "evenorodd(45)"
   ]
  },
  {
   "cell_type": "code",
   "execution_count": 139,
   "id": "9bc286e2-b275-4c41-98bd-82afc7c79fec",
   "metadata": {},
   "outputs": [],
   "source": [
    "evenorodd=lambda n:n%2!=0"
   ]
  },
  {
   "cell_type": "code",
   "execution_count": 140,
   "id": "29a50f39-a5d0-4134-88d2-48d81fd624a7",
   "metadata": {},
   "outputs": [
    {
     "data": {
      "text/plain": [
       "False"
      ]
     },
     "execution_count": 140,
     "metadata": {},
     "output_type": "execute_result"
    }
   ],
   "source": [
    "evenorodd(54)"
   ]
  },
  {
   "cell_type": "code",
   "execution_count": 141,
   "id": "3268508c-0c0a-45c7-921a-4e36bfd41438",
   "metadata": {},
   "outputs": [],
   "source": [
    "evenorodd=lambda n:'True' if n%2==0 else 'False'"
   ]
  },
  {
   "cell_type": "code",
   "execution_count": 142,
   "id": "5dfcb021-981e-4a07-9b20-3aac7e4cebe9",
   "metadata": {},
   "outputs": [
    {
     "data": {
      "text/plain": [
       "'False'"
      ]
     },
     "execution_count": 142,
     "metadata": {},
     "output_type": "execute_result"
    }
   ],
   "source": [
    "evenorodd(43)"
   ]
  },
  {
   "cell_type": "markdown",
   "id": "f159058d-57ab-4010-b462-db946c1f6650",
   "metadata": {},
   "source": [
    "# Write a lambda function that accepts 2 arguments and returns the greater amongst them\n"
   ]
  },
  {
   "cell_type": "code",
   "execution_count": 143,
   "id": "ad86d407-1037-4fbb-babe-2b7ce1b55362",
   "metadata": {},
   "outputs": [],
   "source": [
    "greatest_num=lambda a,b: a if a>b else b"
   ]
  },
  {
   "cell_type": "code",
   "execution_count": 144,
   "id": "6e6c2656-f8bf-4f91-b673-20667251bc82",
   "metadata": {},
   "outputs": [
    {
     "data": {
      "text/plain": [
       "10"
      ]
     },
     "execution_count": 144,
     "metadata": {},
     "output_type": "execute_result"
    }
   ],
   "source": [
    "greatest_num(10,2)"
   ]
  },
  {
   "cell_type": "code",
   "execution_count": null,
   "id": "ace0afca-94c4-4ccc-aa25-2054625e804c",
   "metadata": {},
   "outputs": [],
   "source": [
    "map(funct,itrable)\n",
    "\n",
    "itrable=string,list,tuple,set,dict,range"
   ]
  },
  {
   "cell_type": "code",
   "execution_count": 145,
   "id": "197a827a-62ec-460f-88d5-ee2b5ae561ff",
   "metadata": {},
   "outputs": [
    {
     "name": "stdout",
     "output_type": "stream",
     "text": [
      "1\n",
      "4\n",
      "9\n",
      "16\n",
      "25\n"
     ]
    }
   ],
   "source": [
    "def square(n):\n",
    "    return n**2\n",
    "mylist=[1,2,3,4,5]\n",
    "for i in mylist:\n",
    "    print(square(i))\n",
    "    "
   ]
  },
  {
   "cell_type": "code",
   "execution_count": 146,
   "id": "328eda74-29fc-473c-9cd7-56d9cc68d25f",
   "metadata": {},
   "outputs": [
    {
     "data": {
      "text/plain": [
       "[1, 4, 9, 16, 25]"
      ]
     },
     "execution_count": 146,
     "metadata": {},
     "output_type": "execute_result"
    }
   ],
   "source": [
    "def square(n):\n",
    "    return n**2\n",
    "mylist=[1,2,3,4,5]\n",
    "list(map(square,mylist))"
   ]
  },
  {
   "cell_type": "markdown",
   "id": "aa6f16f2-e7cd-4e2c-aab1-73b37f61e6d7",
   "metadata": {},
   "source": [
    "# Write a function called inspect( ) that accepts a string as argument and returns the word EVEN if the string is of even length and returns it’s first character if the string is of odd length\n",
    "# Now call this function for first 3 month names\n",
    "# write it with map fuction"
   ]
  },
  {
   "cell_type": "code",
   "execution_count": 147,
   "id": "78b360a6-3221-49a2-ab14-ca476d5da70e",
   "metadata": {},
   "outputs": [
    {
     "data": {
      "text/plain": [
       "['J', 'EVEN', 'M']"
      ]
     },
     "execution_count": 147,
     "metadata": {},
     "output_type": "execute_result"
    }
   ],
   "source": [
    "def inspect(mystring):\n",
    "    if len(mystring)%2==0:\n",
    "        return 'EVEN'\n",
    "    else:\n",
    "        return mystring[0]\n",
    "    \n",
    "mylist=['January','February','March']\n",
    "list(map(inspect,mylist))\n",
    "    \n",
    "        \n",
    "    "
   ]
  },
  {
   "cell_type": "code",
   "execution_count": null,
   "id": "8859bd40-c122-4f5d-b26b-d7f400f003ce",
   "metadata": {},
   "outputs": [],
   "source": [
    "map(funct,itrable)"
   ]
  },
  {
   "cell_type": "code",
   "execution_count": null,
   "id": "6d4e06d8-4c0b-48b5-a19c-fbcae2dc6bbf",
   "metadata": {},
   "outputs": [],
   "source": [
    "filter(funct,itrable)\n",
    "# it is filter out the values"
   ]
  },
  {
   "cell_type": "code",
   "execution_count": 148,
   "id": "65b05d2a-b01a-4e03-b6e4-e56515339f5f",
   "metadata": {},
   "outputs": [],
   "source": [
    "mylist=[1,2,3,4,5,6,7,8,9,10]\n",
    "# i want to filter only even number"
   ]
  },
  {
   "cell_type": "code",
   "execution_count": 149,
   "id": "f1e83f22-2e84-4b59-b21a-bf139c502fbf",
   "metadata": {},
   "outputs": [
    {
     "name": "stdout",
     "output_type": "stream",
     "text": [
      "2\n",
      "4\n",
      "6\n",
      "8\n",
      "10\n"
     ]
    }
   ],
   "source": [
    "def check_even(n):\n",
    "    return n%2==0\n",
    "mylist=[1,2,3,4,5,6,7,8,9,10]\n",
    "for i in mylist:\n",
    "    if check_even(i):\n",
    "        print(i)\n",
    "    "
   ]
  },
  {
   "cell_type": "code",
   "execution_count": null,
   "id": "8f2600e1-1739-40d9-9885-0e98f2176f23",
   "metadata": {},
   "outputs": [],
   "source": [
    "def check_even(n):\n",
    "    return n%2==0\n",
    "mylist=[1,2,3,4,5,6,7,8,9,10]"
   ]
  },
  {
   "cell_type": "code",
   "execution_count": null,
   "id": "a833d7b8-34fd-401b-bc5e-f8ad480c1047",
   "metadata": {},
   "outputs": [],
   "source": [
    "list(map(check_even,mylist))"
   ]
  },
  {
   "cell_type": "code",
   "execution_count": null,
   "id": "602009a5-6fdc-4dd5-83b7-2c777ce64d46",
   "metadata": {},
   "outputs": [],
   "source": [
    "list(filter(check_even,mylist))"
   ]
  },
  {
   "cell_type": "markdown",
   "id": "99aeac77-4a03-4545-8b35-9943e6dae529",
   "metadata": {},
   "source": [
    "# write same logic with lambda"
   ]
  },
  {
   "cell_type": "code",
   "execution_count": 10,
   "id": "3fa3681a-dbfc-4407-a05b-50816fc9e7e2",
   "metadata": {},
   "outputs": [
    {
     "data": {
      "text/plain": [
       "[1, 4, 9, 16, 25, 36, 49, 64, 81, 100]"
      ]
     },
     "execution_count": 10,
     "metadata": {},
     "output_type": "execute_result"
    }
   ],
   "source": [
    "mylist=[1,2,3,4,5,6,7,8,9,10]\n",
    "list(map(lambda n:n**2,mylist))"
   ]
  },
  {
   "cell_type": "markdown",
   "id": "fb6d4aff-723a-4447-91fc-e95e309b7cd5",
   "metadata": {},
   "source": [
    "# Write a lambda expression that accepts a string as argument and returns it’s first character\n",
    "# Now use this lambda expression in map( ) function to work on for first 3 month names"
   ]
  },
  {
   "cell_type": "code",
   "execution_count": 13,
   "id": "6367bc06-6885-4d96-850c-e816983dcaaf",
   "metadata": {},
   "outputs": [
    {
     "data": {
      "text/plain": [
       "['ODD', 'F', 'ODD']"
      ]
     },
     "execution_count": 13,
     "metadata": {},
     "output_type": "execute_result"
    }
   ],
   "source": [
    "list(map(lambda string: string[0] if len(string)%2==0 else 'ODD', ['January','February','March']))"
   ]
  },
  {
   "cell_type": "code",
   "execution_count": 15,
   "id": "678b2793-0fa1-447e-933b-f88888a9c9cc",
   "metadata": {},
   "outputs": [
    {
     "data": {
      "text/plain": [
       "['ODD', 'EVEN', 'ODD', 'EVEN', 'EVEN']"
      ]
     },
     "execution_count": 15,
     "metadata": {},
     "output_type": "execute_result"
    }
   ],
   "source": [
    "list(map(lambda string: 'EVEN' if len(string)%2==0 else 'ODD', ['January','February','March','November','December']))"
   ]
  },
  {
   "cell_type": "markdown",
   "id": "03200a46-a38f-46e9-857d-6ddd270109c0",
   "metadata": {},
   "source": [
    "# Write a lambda expression that accepts a character as argument and returns True if it is a vowel otherwise False\n",
    "\n",
    "# Now ask the user to input his/her name and display only the vowels in the name . In case the name does not contain any vowel display the message No vowels in your name\n"
   ]
  },
  {
   "cell_type": "code",
   "execution_count": 16,
   "id": "74be6cba-9014-44fe-99ae-46da8902270d",
   "metadata": {},
   "outputs": [
    {
     "name": "stdin",
     "output_type": "stream",
     "text": [
      "Enter your name preeti\n"
     ]
    },
    {
     "name": "stdout",
     "output_type": "stream",
     "text": [
      "there is a vowel in your name ['e', 'e', 'i']\n"
     ]
    }
   ],
   "source": [
    "name=input('Enter your name')\n",
    "vowels=filter(lambda ch:ch in 'aeiou',name)\n",
    "mylist=list(vowels)\n",
    "\n",
    "if len(mylist)==0:\n",
    "    print('there is no vowel in your name')\n",
    "else:\n",
    "    print('there is a vowel in your name',mylist)\n"
   ]
  },
  {
   "cell_type": "code",
   "execution_count": 17,
   "id": "44b70323-83c3-4079-aac6-075de222c00a",
   "metadata": {},
   "outputs": [
    {
     "name": "stdout",
     "output_type": "stream",
     "text": [
      "e\n",
      "e\n",
      "i\n"
     ]
    }
   ],
   "source": [
    "for x in \"preeti\":\n",
    "    if x in \"aeiou\":\n",
    "        print(x)\n",
    "    else:\n",
    "        pass"
   ]
  },
  {
   "cell_type": "code",
   "execution_count": 18,
   "id": "0a965682-4e82-4e7f-9af6-72d5d9e8c263",
   "metadata": {},
   "outputs": [
    {
     "ename": "TypeError",
     "evalue": "'in <string>' requires string as left operand, not list",
     "output_type": "error",
     "traceback": [
      "\u001b[0;31m---------------------------------------------------------------------------\u001b[0m",
      "\u001b[0;31mTypeError\u001b[0m                                 Traceback (most recent call last)",
      "Cell \u001b[0;32mIn [18], line 2\u001b[0m\n\u001b[1;32m      1\u001b[0m name \u001b[38;5;241m=\u001b[39m \u001b[38;5;28;01mlambda\u001b[39;00m string:string \u001b[38;5;28;01mif\u001b[39;00m [\u001b[38;5;124m\"\u001b[39m\u001b[38;5;124ma\u001b[39m\u001b[38;5;124m\"\u001b[39m,\u001b[38;5;124m\"\u001b[39m\u001b[38;5;124me\u001b[39m\u001b[38;5;124m\"\u001b[39m,\u001b[38;5;124m\"\u001b[39m\u001b[38;5;124mo\u001b[39m\u001b[38;5;124m\"\u001b[39m,\u001b[38;5;124m\"\u001b[39m\u001b[38;5;124mu\u001b[39m\u001b[38;5;124m\"\u001b[39m,\u001b[38;5;124m\"\u001b[39m\u001b[38;5;124mi\u001b[39m\u001b[38;5;124m\"\u001b[39m,\u001b[38;5;124m\"\u001b[39m\u001b[38;5;124mö\u001b[39m\u001b[38;5;124m\"\u001b[39m,\u001b[38;5;124m\"\u001b[39m\u001b[38;5;124mü\u001b[39m\u001b[38;5;124m\"\u001b[39m] \u001b[38;5;129;01min\u001b[39;00m string \u001b[38;5;28;01melse\u001b[39;00m \u001b[38;5;124m\"\u001b[39m\u001b[38;5;124mno wovels\u001b[39m\u001b[38;5;124m\"\u001b[39m\n\u001b[0;32m----> 2\u001b[0m \u001b[43mname\u001b[49m\u001b[43m(\u001b[49m\u001b[38;5;124;43m\"\u001b[39;49m\u001b[38;5;124;43mnese\u001b[39;49m\u001b[38;5;124;43m\"\u001b[39;49m\u001b[43m)\u001b[49m\n",
      "Cell \u001b[0;32mIn [18], line 1\u001b[0m, in \u001b[0;36m<lambda>\u001b[0;34m(string)\u001b[0m\n\u001b[0;32m----> 1\u001b[0m name \u001b[38;5;241m=\u001b[39m \u001b[38;5;28;01mlambda\u001b[39;00m string:string \u001b[38;5;28;01mif\u001b[39;00m \u001b[43m[\u001b[49m\u001b[38;5;124;43m\"\u001b[39;49m\u001b[38;5;124;43ma\u001b[39;49m\u001b[38;5;124;43m\"\u001b[39;49m\u001b[43m,\u001b[49m\u001b[38;5;124;43m\"\u001b[39;49m\u001b[38;5;124;43me\u001b[39;49m\u001b[38;5;124;43m\"\u001b[39;49m\u001b[43m,\u001b[49m\u001b[38;5;124;43m\"\u001b[39;49m\u001b[38;5;124;43mo\u001b[39;49m\u001b[38;5;124;43m\"\u001b[39;49m\u001b[43m,\u001b[49m\u001b[38;5;124;43m\"\u001b[39;49m\u001b[38;5;124;43mu\u001b[39;49m\u001b[38;5;124;43m\"\u001b[39;49m\u001b[43m,\u001b[49m\u001b[38;5;124;43m\"\u001b[39;49m\u001b[38;5;124;43mi\u001b[39;49m\u001b[38;5;124;43m\"\u001b[39;49m\u001b[43m,\u001b[49m\u001b[38;5;124;43m\"\u001b[39;49m\u001b[38;5;124;43mö\u001b[39;49m\u001b[38;5;124;43m\"\u001b[39;49m\u001b[43m,\u001b[49m\u001b[38;5;124;43m\"\u001b[39;49m\u001b[38;5;124;43mü\u001b[39;49m\u001b[38;5;124;43m\"\u001b[39;49m\u001b[43m]\u001b[49m\u001b[43m \u001b[49m\u001b[38;5;129;43;01min\u001b[39;49;00m\u001b[43m \u001b[49m\u001b[43mstring\u001b[49m \u001b[38;5;28;01melse\u001b[39;00m \u001b[38;5;124m\"\u001b[39m\u001b[38;5;124mno wovels\u001b[39m\u001b[38;5;124m\"\u001b[39m\n\u001b[1;32m      2\u001b[0m name(\u001b[38;5;124m\"\u001b[39m\u001b[38;5;124mnese\u001b[39m\u001b[38;5;124m\"\u001b[39m)\n",
      "\u001b[0;31mTypeError\u001b[0m: 'in <string>' requires string as left operand, not list"
     ]
    }
   ],
   "source": [
    "name = lambda string:string if [\"a\",\"e\",\"o\",\"u\",\"i\",\"ö\",\"ü\"] in string else \"no wovels\"\n",
    "name(\"nese\")"
   ]
  },
  {
   "cell_type": "code",
   "execution_count": 21,
   "id": "dd20ef05-a4b1-47f4-8c5a-8c4a7c704bb6",
   "metadata": {},
   "outputs": [
    {
     "name": "stdin",
     "output_type": "stream",
     "text": [
      "enter nme preeti\n"
     ]
    },
    {
     "data": {
      "text/plain": [
       "['No vowel', 'No vowel', 'e', 'e', 'No vowel', 'i']"
      ]
     },
     "execution_count": 21,
     "metadata": {},
     "output_type": "execute_result"
    }
   ],
   "source": [
    "s=input('enter nme')\n",
    "list(map(lambda x:x if x in 'AEIOUaeiou' else 'No vowel',s))"
   ]
  },
  {
   "cell_type": "code",
   "execution_count": 23,
   "id": "3e9073f3-ba8f-4f62-b53d-c2d444eaea19",
   "metadata": {},
   "outputs": [],
   "source": [
    "import time\n",
    "#time.start()\n",
    "#time.stop()\n",
    "count=0\n",
    "def first():\n",
    "    pass\n",
    "def second():\n",
    "    pass"
   ]
  },
  {
   "cell_type": "code",
   "execution_count": 24,
   "id": "e746f642-07f6-45b3-9542-74ed63e9f3c6",
   "metadata": {},
   "outputs": [],
   "source": [
    "def test():\n",
    "    for i in [1,2,3,4,5,6,7,8,9,10]:\n",
    "        #print(i)\n",
    "        return i"
   ]
  },
  {
   "cell_type": "code",
   "execution_count": 25,
   "id": "a370a327-008d-4fc9-bec8-f91e99f6533e",
   "metadata": {},
   "outputs": [
    {
     "data": {
      "text/plain": [
       "1"
      ]
     },
     "execution_count": 25,
     "metadata": {},
     "output_type": "execute_result"
    }
   ],
   "source": [
    "test()"
   ]
  },
  {
   "cell_type": "code",
   "execution_count": null,
   "id": "a1bd3251-adf4-4575-a732-a2278eb5dfee",
   "metadata": {},
   "outputs": [],
   "source": []
  }
 ],
 "metadata": {
  "kernelspec": {
   "display_name": "Python 3 (ipykernel)",
   "language": "python",
   "name": "python3"
  },
  "language_info": {
   "codemirror_mode": {
    "name": "ipython",
    "version": 3
   },
   "file_extension": ".py",
   "mimetype": "text/x-python",
   "name": "python",
   "nbconvert_exporter": "python",
   "pygments_lexer": "ipython3",
   "version": "3.10.6"
  }
 },
 "nbformat": 4,
 "nbformat_minor": 5
}
