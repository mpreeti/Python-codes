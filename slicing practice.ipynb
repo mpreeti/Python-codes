{
 "cells": [
  {
   "cell_type": "code",
   "execution_count": 1,
   "id": "4ae91253-95ae-481a-907d-70fbcdd408d9",
   "metadata": {},
   "outputs": [
    {
     "name": "stdout",
     "output_type": "stream",
     "text": [
      "\n"
     ]
    }
   ],
   "source": [
    "s='welcome'\n",
    "print(s[-1:-4])"
   ]
  },
  {
   "cell_type": "code",
   "execution_count": 4,
   "id": "7db43d85-8a87-40f9-b9e9-74fc63f9eae4",
   "metadata": {},
   "outputs": [
    {
     "name": "stdout",
     "output_type": "stream",
     "text": [
      "my name is preeti\n"
     ]
    }
   ],
   "source": [
    "a='my name is preeti'\n",
    "print(a[0:len(a)])"
   ]
  },
  {
   "cell_type": "code",
   "execution_count": 10,
   "id": "fff3e5b3-ef8e-4b6f-bba4-fe4a92b0d7a4",
   "metadata": {},
   "outputs": [],
   "source": [
    "ab='we are here for learning data science'"
   ]
  },
  {
   "cell_type": "code",
   "execution_count": 11,
   "id": "5f2f7404-1937-4b82-81c0-33c63db5183e",
   "metadata": {},
   "outputs": [
    {
     "data": {
      "text/plain": [
       "37"
      ]
     },
     "execution_count": 11,
     "metadata": {},
     "output_type": "execute_result"
    }
   ],
   "source": [
    "len(ab)"
   ]
  },
  {
   "cell_type": "code",
   "execution_count": 13,
   "id": "fb18b8ed-932f-4859-99ce-d003c49c8d8b",
   "metadata": {},
   "outputs": [
    {
     "data": {
      "text/plain": [
       "'ecneics atad gninrael'"
      ]
     },
     "execution_count": 13,
     "metadata": {},
     "output_type": "execute_result"
    }
   ],
   "source": [
    "ab[-1:-22:-1]"
   ]
  },
  {
   "cell_type": "code",
   "execution_count": 20,
   "id": "10cd2726-7095-421a-aef7-80876ecc3fa2",
   "metadata": {},
   "outputs": [
    {
     "name": "stdin",
     "output_type": "stream",
     "text": [
      "enter no1 12\n",
      "enter no2 12.4\n"
     ]
    },
    {
     "name": "stdout",
     "output_type": "stream",
     "text": [
      "24.4\n"
     ]
    }
   ],
   "source": [
    "a=int(input(\"enter no1\"))\n",
    "b=float(input(\"enter no2\"))\n",
    "c=a+b\n",
    "print(c)"
   ]
  },
  {
   "cell_type": "code",
   "execution_count": 22,
   "id": "02fee697-0ce6-4524-a122-30ef958592f8",
   "metadata": {},
   "outputs": [
    {
     "data": {
      "text/plain": [
       "112"
      ]
     },
     "execution_count": 22,
     "metadata": {},
     "output_type": "execute_result"
    }
   ],
   "source": [
    "a='p'\n",
    "ord(a)"
   ]
  },
  {
   "cell_type": "code",
   "execution_count": 23,
   "id": "7035362e-7d36-4724-ac93-c10f879eeab6",
   "metadata": {},
   "outputs": [
    {
     "data": {
      "text/plain": [
       "80"
      ]
     },
     "execution_count": 23,
     "metadata": {},
     "output_type": "execute_result"
    }
   ],
   "source": [
    "af='P'\n",
    "ord(af)"
   ]
  },
  {
   "cell_type": "code",
   "execution_count": 24,
   "id": "0ee32172-84f0-4556-9109-e5ba7f492555",
   "metadata": {},
   "outputs": [
    {
     "data": {
      "text/plain": [
       "66"
      ]
     },
     "execution_count": 24,
     "metadata": {},
     "output_type": "execute_result"
    }
   ],
   "source": [
    "ord(\"B\")"
   ]
  },
  {
   "cell_type": "code",
   "execution_count": 29,
   "id": "6e3dd948-7f0c-48d1-b904-1367d2b9dbd5",
   "metadata": {},
   "outputs": [
    {
     "name": "stdin",
     "output_type": "stream",
     "text": [
      "Enter a name: preeti\n",
      "enter age: 35\n"
     ]
    },
    {
     "name": "stdout",
     "output_type": "stream",
     "text": [
      "2087\n"
     ]
    }
   ],
   "source": [
    "name=input(\"Enter a name:\")\n",
    "Age=int(input(\"enter age:\"))\n",
    "futureage=(2022-Age) + 100\n",
    "print(futureage)"
   ]
  },
  {
   "cell_type": "code",
   "execution_count": 31,
   "id": "6c987d3c-15e5-4109-a15b-001639c134b8",
   "metadata": {},
   "outputs": [
    {
     "name": "stdin",
     "output_type": "stream",
     "text": [
      "Enter first name: preeti \n",
      "Enter Last name: motwani\n"
     ]
    },
    {
     "name": "stdout",
     "output_type": "stream",
     "text": [
      "inawtom  iteerp\n"
     ]
    }
   ],
   "source": [
    "firstname=input(\"Enter first name:\")\n",
    "lastname=input(\"Enter Last name:\")\n",
    "name=firstname + \" \" + lastname\n",
    "res=name[::-1]\n",
    "print(res)\n"
   ]
  },
  {
   "cell_type": "code",
   "execution_count": 18,
   "id": "d8faf19f-fada-4903-9dd7-ea0a6dd43dd4",
   "metadata": {},
   "outputs": [
    {
     "name": "stdout",
     "output_type": "stream",
     "text": [
      "dust\n",
      "ds\n",
      "dust\n"
     ]
    }
   ],
   "source": [
    "s='industry'\n",
    "print(s[2:6])\n",
    "print(s[2:6:2])\n",
    "print(s[2:6:1])"
   ]
  },
  {
   "cell_type": "code",
   "execution_count": 8,
   "id": "fb2c9723-8bfe-4b33-96ed-aa6461dac3e1",
   "metadata": {},
   "outputs": [
    {
     "name": "stdout",
     "output_type": "stream",
     "text": [
      "bai\n",
      "bai\n",
      "mumbai\n"
     ]
    }
   ],
   "source": [
    "b='mumbai'\n",
    "print(b[3:])\n",
    "print(b[3:6])\n",
    "print(b[0:10])"
   ]
  },
  {
   "cell_type": "code",
   "execution_count": 10,
   "id": "6e516d4f-84a7-41bc-a947-a300e464885c",
   "metadata": {},
   "outputs": [
    {
     "name": "stdout",
     "output_type": "stream",
     "text": [
      "\n",
      "\n"
     ]
    }
   ],
   "source": [
    "g='Python'\n",
    "print(g[2:2])# result empty cos points to t as start and end\n",
    "print(g[6:10])# empty result as 0-5 index indicates python after that nothing is there so empty"
   ]
  },
  {
   "cell_type": "code",
   "execution_count": 14,
   "id": "6891439b-fbee-42f0-8e69-a4a7c9d10cb0",
   "metadata": {},
   "outputs": [
    {
     "ename": "SyntaxError",
     "evalue": "invalid syntax. Perhaps you forgot a comma? (2599872900.py, line 5)",
     "output_type": "error",
     "traceback": [
      "\u001b[0;36m  Cell \u001b[0;32mIn [14], line 5\u001b[0;36m\u001b[0m\n\u001b[0;31m    print(u[])\u001b[0m\n\u001b[0m          ^\u001b[0m\n\u001b[0;31mSyntaxError\u001b[0m\u001b[0;31m:\u001b[0m invalid syntax. Perhaps you forgot a comma?\n"
     ]
    }
   ],
   "source": [
    "u='welcome'\n",
    "print(u[3:])\n",
    "print(u[:3])\n",
    "print(u[:])\n",
    "print(u[]) # syntax error"
   ]
  },
  {
   "cell_type": "code",
   "execution_count": 16,
   "id": "7ccb4013-6bcf-438e-96a2-a730ce75eb2f",
   "metadata": {},
   "outputs": [
    {
     "name": "stdout",
     "output_type": "stream",
     "text": [
      "com\n",
      "\n"
     ]
    }
   ],
   "source": [
    "print(u[-4:-1])\n",
    "print(u[-1:-4]) #empty result start at -1 and end at -4 as it moves in left direction"
   ]
  },
  {
   "cell_type": "code",
   "execution_count": 19,
   "id": "b909be02-d903-49e1-b10a-1d0a9b3700e0",
   "metadata": {},
   "outputs": [
    {
     "name": "stdout",
     "output_type": "stream",
     "text": [
      "True\n"
     ]
    }
   ],
   "source": [
    "print(15==15.0)"
   ]
  },
  {
   "cell_type": "code",
   "execution_count": 20,
   "id": "558f5203-c387-4ed5-89ba-7797d0f1b680",
   "metadata": {},
   "outputs": [
    {
     "name": "stdout",
     "output_type": "stream",
     "text": [
      "False\n"
     ]
    }
   ],
   "source": [
    "print(15==15.01)"
   ]
  },
  {
   "cell_type": "code",
   "execution_count": 21,
   "id": "012bd302-7026-44fc-96b3-034d275a2b44",
   "metadata": {},
   "outputs": [
    {
     "ename": "SyntaxError",
     "evalue": "invalid character '“' (U+201C) (3629005268.py, line 1)",
     "output_type": "error",
     "traceback": [
      "\u001b[0;36m  Cell \u001b[0;32mIn [21], line 1\u001b[0;36m\u001b[0m\n\u001b[0;31m    print(15!=“15”)\u001b[0m\n\u001b[0m              ^\u001b[0m\n\u001b[0;31mSyntaxError\u001b[0m\u001b[0;31m:\u001b[0m invalid character '“' (U+201C)\n"
     ]
    }
   ],
   "source": [
    "print(15!=“15”)"
   ]
  },
  {
   "cell_type": "code",
   "execution_count": 22,
   "id": "0e3b0e25-49ed-4a06-8a1a-ca550e83da28",
   "metadata": {},
   "outputs": [
    {
     "name": "stdout",
     "output_type": "stream",
     "text": [
      "False\n"
     ]
    }
   ],
   "source": [
    "print(0 != False)\n"
   ]
  },
  {
   "cell_type": "code",
   "execution_count": 24,
   "id": "4af36421-42fe-4960-b660-7d67e65eee7c",
   "metadata": {},
   "outputs": [
    {
     "name": "stdout",
     "output_type": "stream",
     "text": [
      "True\n"
     ]
    }
   ],
   "source": [
    "print(False!=True)"
   ]
  },
  {
   "cell_type": "code",
   "execution_count": 25,
   "id": "a2c134e3-c217-4aa6-a1a2-30f60c1fe500",
   "metadata": {},
   "outputs": [
    {
     "name": "stdout",
     "output_type": "stream",
     "text": [
      "False\n"
     ]
    }
   ],
   "source": [
    "print(False != 0.0)"
   ]
  },
  {
   "cell_type": "code",
   "execution_count": 26,
   "id": "652f3519-83a4-45cc-a1de-78e47a7f88fd",
   "metadata": {},
   "outputs": [
    {
     "name": "stdout",
     "output_type": "stream",
     "text": [
      "True\n"
     ]
    }
   ],
   "source": [
    "print(2+5j==2+5j)\n"
   ]
  },
  {
   "cell_type": "code",
   "execution_count": 27,
   "id": "febf4aa6-f1c1-4ebd-a3d1-7917e5731a74",
   "metadata": {},
   "outputs": [
    {
     "name": "stdout",
     "output_type": "stream",
     "text": [
      "True\n"
     ]
    }
   ],
   "source": [
    "print(2+5j!= 2)\n"
   ]
  },
  {
   "cell_type": "code",
   "execution_count": 28,
   "id": "a4ae92d9-1f2c-4943-9659-a2f3357442ee",
   "metadata": {},
   "outputs": [
    {
     "data": {
      "text/plain": [
       "6"
      ]
     },
     "execution_count": 28,
     "metadata": {},
     "output_type": "execute_result"
    }
   ],
   "source": [
    "5 and 6"
   ]
  },
  {
   "cell_type": "code",
   "execution_count": 29,
   "id": "b49ef956-d39a-4cf3-88f0-b2faf8808fa4",
   "metadata": {},
   "outputs": [
    {
     "data": {
      "text/plain": [
       "0"
      ]
     },
     "execution_count": 29,
     "metadata": {},
     "output_type": "execute_result"
    }
   ],
   "source": [
    "5 and 0"
   ]
  },
  {
   "cell_type": "code",
   "execution_count": 30,
   "id": "9e4dd49e-600f-4542-8cf1-12f0d9866de5",
   "metadata": {},
   "outputs": [
    {
     "data": {
      "text/plain": [
       "0"
      ]
     },
     "execution_count": 30,
     "metadata": {},
     "output_type": "execute_result"
    }
   ],
   "source": [
    "0 and 10"
   ]
  },
  {
   "cell_type": "code",
   "execution_count": 31,
   "id": "53083cab-c7bd-4896-aa4a-86b5a2e58eb3",
   "metadata": {},
   "outputs": [
    {
     "data": {
      "text/plain": [
       "0"
      ]
     },
     "execution_count": 31,
     "metadata": {},
     "output_type": "execute_result"
    }
   ],
   "source": [
    "6 and 0"
   ]
  },
  {
   "cell_type": "code",
   "execution_count": 33,
   "id": "440346b8-2581-4a6b-b179-d7e212feb9f2",
   "metadata": {},
   "outputs": [
    {
     "data": {
      "text/plain": [
       "10"
      ]
     },
     "execution_count": 33,
     "metadata": {},
     "output_type": "execute_result"
    }
   ],
   "source": [
    "'Sachin' and 10"
   ]
  },
  {
   "cell_type": "code",
   "execution_count": 34,
   "id": "7ebd7983-32cf-49c9-8b20-d449a3feedef",
   "metadata": {},
   "outputs": [
    {
     "data": {
      "text/plain": [
       "0"
      ]
     },
     "execution_count": 34,
     "metadata": {},
     "output_type": "execute_result"
    }
   ],
   "source": [
    "'Sachin' and 0"
   ]
  },
  {
   "cell_type": "code",
   "execution_count": 35,
   "id": "a61d6a43-d801-41b9-9272-e8525a5e6f71",
   "metadata": {},
   "outputs": [
    {
     "data": {
      "text/plain": [
       "'Bhopal'"
      ]
     },
     "execution_count": 35,
     "metadata": {},
     "output_type": "execute_result"
    }
   ],
   "source": [
    "'Indore' and 'Bhopal'"
   ]
  },
  {
   "cell_type": "code",
   "execution_count": 36,
   "id": "e7b7327c-0dff-4ca6-9886-0cf4fdb2bff6",
   "metadata": {},
   "outputs": [
    {
     "data": {
      "text/plain": [
       "'Indore'"
      ]
     },
     "execution_count": 36,
     "metadata": {},
     "output_type": "execute_result"
    }
   ],
   "source": [
    "'Bhopal' and 'Indore'"
   ]
  },
  {
   "cell_type": "code",
   "execution_count": 37,
   "id": "4eb88ed4-d008-464f-bc0b-04e4ba04f145",
   "metadata": {},
   "outputs": [
    {
     "data": {
      "text/plain": [
       "0"
      ]
     },
     "execution_count": 37,
     "metadata": {},
     "output_type": "execute_result"
    }
   ],
   "source": [
    "0 and 10/0"
   ]
  },
  {
   "cell_type": "code",
   "execution_count": 38,
   "id": "fe9f22f2-07c7-4f23-b351-a1b305a7a6c8",
   "metadata": {},
   "outputs": [
    {
     "ename": "ZeroDivisionError",
     "evalue": "division by zero",
     "output_type": "error",
     "traceback": [
      "\u001b[0;31m---------------------------------------------------------------------------\u001b[0m",
      "\u001b[0;31mZeroDivisionError\u001b[0m                         Traceback (most recent call last)",
      "Cell \u001b[0;32mIn [38], line 1\u001b[0m\n\u001b[0;32m----> 1\u001b[0m \u001b[38;5;241;43m10\u001b[39;49m\u001b[38;5;241;43m/\u001b[39;49m\u001b[38;5;241;43m0\u001b[39;49m \u001b[38;5;129;01mand\u001b[39;00m \u001b[38;5;241m0\u001b[39m\n",
      "\u001b[0;31mZeroDivisionError\u001b[0m: division by zero"
     ]
    }
   ],
   "source": [
    "10/0 and 0"
   ]
  },
  {
   "cell_type": "code",
   "execution_count": 39,
   "id": "b215e99b-76c0-4385-8d0b-95371b2930a7",
   "metadata": {},
   "outputs": [
    {
     "data": {
      "text/plain": [
       "5"
      ]
     },
     "execution_count": 39,
     "metadata": {},
     "output_type": "execute_result"
    }
   ],
   "source": [
    "5 or 6"
   ]
  },
  {
   "cell_type": "code",
   "execution_count": 40,
   "id": "893dacce-a2e1-4a9a-a1de-4340be67d41e",
   "metadata": {},
   "outputs": [
    {
     "data": {
      "text/plain": [
       "10"
      ]
     },
     "execution_count": 40,
     "metadata": {},
     "output_type": "execute_result"
    }
   ],
   "source": [
    "0 or 10"
   ]
  },
  {
   "cell_type": "code",
   "execution_count": 11,
   "id": "9252cb25-1025-478c-a9f1-23864ec6fba5",
   "metadata": {},
   "outputs": [
    {
     "name": "stdin",
     "output_type": "stream",
     "text": [
      "enter radius: 5\n"
     ]
    },
    {
     "name": "stdout",
     "output_type": "stream",
     "text": [
      "Area of circle: 50.26548245743669\n",
      "Circumference of circle: 25.132741228718345\n"
     ]
    }
   ],
   "source": [
    "from math import pi\n",
    "r=int(input(\"enter radius:\"))\n",
    "area_of_circle = pi*r* r\n",
    "Circumference_of_circle  =2 * pi * r\n",
    "print(\"Area of circle:\",area)\n",
    "print(\"Circumference of circle:\",Circumference)"
   ]
  },
  {
   "cell_type": "code",
   "execution_count": 13,
   "id": "d26e3986-ab2d-41ff-a004-9332e3f6e3cb",
   "metadata": {},
   "outputs": [
    {
     "name": "stdin",
     "output_type": "stream",
     "text": [
      "enter roll.no: 15\n",
      "enter garde: A\n",
      "enter percentage: 90\n"
     ]
    },
    {
     "name": "stdout",
     "output_type": "stream",
     "text": [
      "Roll: 15\n",
      "Grade: A\n",
      "Percentage: 90.0\n"
     ]
    }
   ],
   "source": [
    "roll=int(input(\"enter roll.no:\"))\n",
    "grade=input(\"enter grade:\")\n",
    "percentage=float(input(\"enter percentage:\"))\n",
    "print(\"Roll:\",roll)\n",
    "print(\"Grade:\",grade)\n",
    "print(\"Percentage:\",percentage)                 "
   ]
  },
  {
   "cell_type": "code",
   "execution_count": 15,
   "id": "039e664c-19c2-4200-a158-5733bb0cd763",
   "metadata": {},
   "outputs": [
    {
     "name": "stdin",
     "output_type": "stream",
     "text": [
      "What is your name: preeti\n",
      "How old are you? 35\n"
     ]
    },
    {
     "name": "stdout",
     "output_type": "stream",
     "text": [
      "you will be 50 year old in 2037\n"
     ]
    }
   ],
   "source": [
    "name=input(\"What is your name:\")\n",
    "age=int(input(\"How old are you?\"))\n",
    "age50=(2022-age) + 50\n",
    "print(\"you will be 50 year old in\",age50)"
   ]
  },
  {
   "cell_type": "markdown",
   "id": "f2c26bb4-750b-4062-b5ec-fd618b0e35a0",
   "metadata": {},
   "source": [
    "### Format specifier"
   ]
  },
  {
   "cell_type": "code",
   "execution_count": 1,
   "id": "f335d1b4-53cb-4a96-83d0-0481677f3744",
   "metadata": {},
   "outputs": [
    {
     "name": "stdout",
     "output_type": "stream",
     "text": [
      "preeti\n"
     ]
    }
   ],
   "source": [
    "print('preeti')"
   ]
  },
  {
   "cell_type": "code",
   "execution_count": 6,
   "id": "870b0724-b8b6-40af-be7b-4520168750a2",
   "metadata": {},
   "outputs": [],
   "source": [
    "name='preeti' \n",
    "last_name='motwani'"
   ]
  },
  {
   "cell_type": "code",
   "execution_count": 8,
   "id": "7f55d009-8035-4fce-8183-2a495c59198a",
   "metadata": {},
   "outputs": [
    {
     "name": "stdout",
     "output_type": "stream",
     "text": [
      "hello preeti\n",
      "hello preeti\n",
      "hello preeti motwani how are you\n"
     ]
    }
   ],
   "source": [
    "print(\"hello\",name)\n",
    "print(\"hello %s\" %(name))\n",
    "print(\"hello %s %s how are you\" %(name,last_name))"
   ]
  },
  {
   "cell_type": "code",
   "execution_count": 1,
   "id": "27b1e540-8d06-40c3-b2a9-45fd5ef97489",
   "metadata": {},
   "outputs": [
    {
     "name": "stdout",
     "output_type": "stream",
     "text": [
      "value of pm is 10\n"
     ]
    }
   ],
   "source": [
    "pm=10\n",
    "print(\"value of pm is %d\" %(pm))"
   ]
  },
  {
   "cell_type": "markdown",
   "id": "0407bcc7-0881-4e9f-911d-bb36121ecb41",
   "metadata": {},
   "source": [
    "# with format specifier"
   ]
  },
  {
   "cell_type": "code",
   "execution_count": 2,
   "id": "e70d3121-b57b-4d33-994b-761c28911e1a",
   "metadata": {},
   "outputs": [
    {
     "name": "stdout",
     "output_type": "stream",
     "text": [
      "value of c is 12 name preeti and dc 45.670000\n"
     ]
    }
   ],
   "source": [
    "c=12\n",
    "name='preeti'\n",
    "dc=45.67\n",
    "print(\"value of c is %d name %s and dc %f\" %(c,name,dc))"
   ]
  },
  {
   "cell_type": "markdown",
   "id": "11898fa7-d6c5-450f-a19b-2ef43bd7a9f3",
   "metadata": {},
   "source": [
    "# simple pythonic way"
   ]
  },
  {
   "cell_type": "code",
   "execution_count": 3,
   "id": "91d6837b-a62f-4d8f-af22-18a7b74bb795",
   "metadata": {},
   "outputs": [
    {
     "name": "stdout",
     "output_type": "stream",
     "text": [
      "value of c is 12 name is preeti and dc is 45.67\n"
     ]
    }
   ],
   "source": [
    "print('value of c is',c,'name is',name, 'and dc is',dc)"
   ]
  },
  {
   "cell_type": "markdown",
   "id": "dea2a515-5f8f-41bd-90a5-1919c94b3ff9",
   "metadata": {},
   "source": [
    "# with format function"
   ]
  },
  {
   "cell_type": "code",
   "execution_count": 3,
   "id": "5ca6aead-36cd-40d4-9616-7ac580098f40",
   "metadata": {},
   "outputs": [
    {
     "name": "stdout",
     "output_type": "stream",
     "text": [
      "value of a is 100\n",
      "value of a is 100 value of b is 200\n"
     ]
    }
   ],
   "source": [
    "a=100\n",
    "b=200\n",
    "print('value of a is {}'.format(a))\n",
    "print('value of a is {} value of b is {}'.format(a,b))"
   ]
  },
  {
   "cell_type": "code",
   "execution_count": 1,
   "id": "f1dd4166-cba9-444e-a269-cdfd751dde3c",
   "metadata": {},
   "outputs": [
    {
     "name": "stdout",
     "output_type": "stream",
     "text": [
      "name is preeti age is 35\n",
      "name is preeti age is 35\n"
     ]
    }
   ],
   "source": [
    "name='preeti'\n",
    "age=35\n",
    "print('name is {name} age is {age}'.format(age=age,name=name))\n",
    "print('name is {0} age is {1}'.format(name,age))"
   ]
  },
  {
   "cell_type": "markdown",
   "id": "8044412b-12dd-4d2c-aa30-ae48b176730f",
   "metadata": {},
   "source": [
    "## WAP to accept int value from user and check it is odd or even"
   ]
  },
  {
   "cell_type": "code",
   "execution_count": 5,
   "id": "59a96e32-6d80-4110-a56c-4cf702495ac2",
   "metadata": {},
   "outputs": [
    {
     "name": "stdin",
     "output_type": "stream",
     "text": [
      "Enter a value: 494954686\n"
     ]
    },
    {
     "name": "stdout",
     "output_type": "stream",
     "text": [
      "Number is even\n"
     ]
    }
   ],
   "source": [
    "ab=int(input(\"Enter a value:\"))\n",
    "if ab%2==0:\n",
    "    print(\"Number is even\")\n",
    "else:\n",
    "    print(\"Number is odd\")"
   ]
  },
  {
   "cell_type": "markdown",
   "id": "2f0e9411-082b-4447-8c68-9c4b8e637dec",
   "metadata": {},
   "source": [
    "#WAP to accept a character from user and check whether it is capital or small.Assume user gives only alphabets."
   ]
  },
  {
   "cell_type": "code",
   "execution_count": 12,
   "id": "2772387a-af57-4386-92aa-3c5acf716aa0",
   "metadata": {},
   "outputs": [
    {
     "name": "stdin",
     "output_type": "stream",
     "text": [
      "Enter a letter: r\n"
     ]
    },
    {
     "name": "stdout",
     "output_type": "stream",
     "text": [
      "char is small letter\n"
     ]
    }
   ],
   "source": [
    "char=input(\"Enter a letter:\")\n",
    "if char in ('A-Z'):\n",
    "    print(\"char {} is capital letter\".format(char))\n",
    "else:\n",
    "    print(\"char is small letter\")"
   ]
  },
  {
   "cell_type": "code",
   "execution_count": 23,
   "id": "c0056752-9ebf-4365-b888-6d36a4dcbdca",
   "metadata": {},
   "outputs": [
    {
     "name": "stdin",
     "output_type": "stream",
     "text": [
      "enter first num: 12\n",
      "enter second num: 4\n",
      "enter third num: 2\n"
     ]
    },
    {
     "name": "stdout",
     "output_type": "stream",
     "text": [
      "n1 will be greatest\n"
     ]
    }
   ],
   "source": [
    "n1=int(input(\"enter first num:\"))\n",
    "n2=int(input(\"enter second num:\"))\n",
    "n3=int(input(\"enter third num:\"))\n",
    "if n1>n2:\n",
    "    if n1>n3:\n",
    "        print(\"n1 will be greatest\")\n",
    "elif n2>n1:\n",
    "    if n2>n3:\n",
    "        print(\"n2 will be greatest\")\n",
    "else:\n",
    "    print(\"n3 is greatest\")\n",
    "        "
   ]
  },
  {
   "cell_type": "code",
   "execution_count": 25,
   "id": "e6099d5b-0610-4047-875a-40eedeffbf8c",
   "metadata": {},
   "outputs": [
    {
     "data": {
      "text/plain": [
       "4"
      ]
     },
     "execution_count": 25,
     "metadata": {},
     "output_type": "execute_result"
    }
   ],
   "source": [
    "def maximum(a,b,c):\n",
    "    if(a>=b) and (a>=c):\n",
    "        largest=a\n",
    "    elif (b>=a) and (b>=c):\n",
    "        largest=b\n",
    "    else:\n",
    "        largest=c\n",
    "    return largest\n",
    "\n",
    "maximum(4,3,2)\n",
    "        "
   ]
  },
  {
   "cell_type": "markdown",
   "id": "f9b6c03a-e737-4122-9655-2e37ab92fd8c",
   "metadata": {},
   "source": [
    "#While loop:"
   ]
  },
  {
   "cell_type": "code",
   "execution_count": 27,
   "id": "7cd6f648-8d66-4d13-afb6-407090376f1b",
   "metadata": {},
   "outputs": [
    {
     "name": "stdout",
     "output_type": "stream",
     "text": [
      "preeti\n",
      "1\n",
      "preeti\n",
      "2\n",
      "preeti\n",
      "3\n",
      "preeti\n",
      "4\n",
      "preeti\n",
      "5\n",
      "preeti\n",
      "6\n",
      "preeti\n",
      "7\n",
      "preeti\n",
      "8\n",
      "preeti\n",
      "9\n",
      "loop end\n"
     ]
    }
   ],
   "source": [
    "x=10\n",
    "i=1\n",
    "while i<x:\n",
    "    print('preeti')\n",
    "    print(i)\n",
    "    i=i+1\n",
    "print(\"loop end\")"
   ]
  },
  {
   "cell_type": "markdown",
   "id": "823e3451-b207-45b1-a70a-0c038b8a3b72",
   "metadata": {},
   "source": [
    "# WAP to print 50 natural nos:"
   ]
  },
  {
   "cell_type": "code",
   "execution_count": 30,
   "id": "41327c4a-46b7-463e-a056-6cbfd1762ffd",
   "metadata": {},
   "outputs": [
    {
     "name": "stdout",
     "output_type": "stream",
     "text": [
      "1 2 3 4 5 6 7 8 9 10 11 12 13 14 15 16 17 18 19 20 21 22 23 24 25 26 27 28 29 30 31 32 33 34 35 36 37 38 39 40 41 42 43 44 45 46 47 48 49 50 "
     ]
    }
   ],
   "source": [
    "rt=50\n",
    "i=1\n",
    "while i<=rt:\n",
    "    print(i,end=' ')\n",
    "    i=i+1"
   ]
  },
  {
   "cell_type": "markdown",
   "id": "8b49b35b-5c7c-4476-bfb3-21aaa70ef524",
   "metadata": {},
   "source": [
    "# WAP to accept string from user and display it vertically but dont display vowels in it"
   ]
  },
  {
   "cell_type": "code",
   "execution_count": 36,
   "id": "ea4b1ed0-46f1-4234-a855-59b7451748a4",
   "metadata": {},
   "outputs": [
    {
     "name": "stdin",
     "output_type": "stream",
     "text": [
      "Enter name preeti\n"
     ]
    },
    {
     "name": "stdout",
     "output_type": "stream",
     "text": [
      "p\n",
      "r\n",
      "t\n"
     ]
    }
   ],
   "source": [
    "text=input(\"Enter name\")\n",
    "for ch in text: \n",
    "    if ch not in('a','e','i','o','u'):\n",
    "        print(ch)"
   ]
  },
  {
   "cell_type": "code",
   "execution_count": 37,
   "id": "b7bac929-364f-4a68-9423-3b44e1a4a8ec",
   "metadata": {},
   "outputs": [
    {
     "name": "stdin",
     "output_type": "stream",
     "text": [
      "Enter name preeti\n"
     ]
    },
    {
     "name": "stdout",
     "output_type": "stream",
     "text": [
      "p\n",
      "r\n",
      "t\n"
     ]
    }
   ],
   "source": [
    "text=input(\"Enter name\")\n",
    "i=0\n",
    "while i<len(text):\n",
    "    if str[i] not in 'aeiou':\n",
    "        print(str[i])\n",
    "    i=i+1\n",
    "    \n",
    "    "
   ]
  },
  {
   "cell_type": "markdown",
   "id": "8566fe06-8ea1-490d-b178-bd9c6b55460d",
   "metadata": {},
   "source": [
    "#while-else, if-break"
   ]
  },
  {
   "cell_type": "code",
   "execution_count": 1,
   "id": "42359bc3-6578-465d-9ad4-9f99615ac1bc",
   "metadata": {},
   "outputs": [
    {
     "name": "stdout",
     "output_type": "stream",
     "text": [
      "0 1 2 3 4 5 6 7 8 9 10 11 12 13 14 15 16 17 18 19 20 21 22 23 24 25 loop end\n"
     ]
    }
   ],
   "source": [
    "i=0\n",
    "while i<=25:\n",
    "    print(i, end=' ')\n",
    "    i=i+1\n",
    "else:\n",
    "    print(\"loop end\")"
   ]
  },
  {
   "cell_type": "code",
   "execution_count": 2,
   "id": "ae2e828b-7fc8-435c-833e-59a97ac56611",
   "metadata": {},
   "outputs": [
    {
     "name": "stdout",
     "output_type": "stream",
     "text": [
      "0 1 2 3 4 5 6 7 8 9 10 11 12 13 14 15 16 17 18 19 20 21 22 23 24 25 "
     ]
    }
   ],
   "source": [
    "i=0\n",
    "while i<=25:\n",
    "    print(i, end=' ')\n",
    "    i=i+1"
   ]
  },
  {
   "cell_type": "code",
   "execution_count": 3,
   "id": "04045fec-9d4c-4f65-adc4-79eb0c1a55e2",
   "metadata": {},
   "outputs": [
    {
     "name": "stdout",
     "output_type": "stream",
     "text": [
      "1 2 3 4 5 6 7 8 9 10 11 12 13 14 15 16 17 18 19 20 "
     ]
    }
   ],
   "source": [
    "i=1\n",
    "while i<=25:\n",
    "    print(i,end=' ')\n",
    "    if i==20:\n",
    "        break\n",
    "    i=i+1\n",
    "else:\n",
    "    print(\"loop end\")"
   ]
  },
  {
   "cell_type": "markdown",
   "id": "cf8709df-03c7-44c3-b2fc-1cbc4a271d15",
   "metadata": {},
   "source": [
    "#Range function with 1 parameter"
   ]
  },
  {
   "cell_type": "code",
   "execution_count": 1,
   "id": "7bac7b58-fa2e-4a5b-930c-16695f3bc26e",
   "metadata": {},
   "outputs": [
    {
     "name": "stdout",
     "output_type": "stream",
     "text": [
      "range(0, 10)\n"
     ]
    }
   ],
   "source": [
    "a=range(10)\n",
    "print(a)"
   ]
  },
  {
   "cell_type": "code",
   "execution_count": 3,
   "id": "eb796678-9240-4fb6-9ff6-86dc25cec1b5",
   "metadata": {},
   "outputs": [
    {
     "name": "stdout",
     "output_type": "stream",
     "text": [
      "[0, 1, 2, 3, 4, 5, 6, 7, 8, 9]\n"
     ]
    }
   ],
   "source": [
    "a=range(10)\n",
    "b=list(a)\n",
    "print(b)"
   ]
  },
  {
   "cell_type": "code",
   "execution_count": 4,
   "id": "477aaf73-9c05-4241-8f24-157ab792b2bf",
   "metadata": {},
   "outputs": [
    {
     "name": "stdout",
     "output_type": "stream",
     "text": [
      "[]\n"
     ]
    }
   ],
   "source": [
    "a=range(-10)\n",
    "b=list(a)\n",
    "print(b)"
   ]
  },
  {
   "cell_type": "markdown",
   "id": "5099da4a-08a7-4285-8257-0f66a97319f7",
   "metadata": {},
   "source": [
    "#Range function with 2 parameter"
   ]
  },
  {
   "cell_type": "code",
   "execution_count": 6,
   "id": "f7e4d6e3-02e3-433d-9d80-c07af3a65cc6",
   "metadata": {},
   "outputs": [
    {
     "name": "stdout",
     "output_type": "stream",
     "text": [
      "range(1, 10)\n"
     ]
    }
   ],
   "source": [
    "a=range(1,10)\n",
    "print(a)"
   ]
  },
  {
   "cell_type": "code",
   "execution_count": 7,
   "id": "705ebe50-9b2e-4a66-9e66-91d55712d372",
   "metadata": {},
   "outputs": [
    {
     "name": "stdout",
     "output_type": "stream",
     "text": [
      "[1, 2, 3, 4, 5, 6, 7, 8, 9]\n"
     ]
    }
   ],
   "source": [
    "a=range(1,10)\n",
    "b=list(a)\n",
    "print(b)"
   ]
  },
  {
   "cell_type": "code",
   "execution_count": 8,
   "id": "606c965c-e116-45e8-9a9d-ff5e8da423bf",
   "metadata": {},
   "outputs": [
    {
     "name": "stdout",
     "output_type": "stream",
     "text": [
      "[]\n"
     ]
    }
   ],
   "source": [
    "a=range(10,1)\n",
    "b=list(a)\n",
    "print(b)"
   ]
  },
  {
   "cell_type": "code",
   "execution_count": 9,
   "id": "f88347f4-69fc-4eaa-8a34-fcec3bc82472",
   "metadata": {},
   "outputs": [
    {
     "name": "stdout",
     "output_type": "stream",
     "text": [
      "[-10, -9, -8, -7, -6, -5, -4, -3, -2, -1, 0, 1, 2]\n"
     ]
    }
   ],
   "source": [
    "a=range(-10,3)\n",
    "b=list(a)\n",
    "print(b)"
   ]
  },
  {
   "cell_type": "code",
   "execution_count": 10,
   "id": "5073916c-f6be-45d0-9b61-88d29588055b",
   "metadata": {},
   "outputs": [
    {
     "name": "stdout",
     "output_type": "stream",
     "text": [
      "[-10, -9, -8, -7, -6, -5, -4]\n"
     ]
    }
   ],
   "source": [
    "a=range(-10,-3)\n",
    "b=list(a)\n",
    "print(b)"
   ]
  },
  {
   "cell_type": "code",
   "execution_count": 11,
   "id": "f7f38fd5-80a8-4321-b43c-eca36eee6af8",
   "metadata": {},
   "outputs": [
    {
     "name": "stdout",
     "output_type": "stream",
     "text": [
      "[]\n"
     ]
    }
   ],
   "source": [
    "a=range(-3,-10)\n",
    "b=list(a)\n",
    "print(b)"
   ]
  },
  {
   "cell_type": "code",
   "execution_count": 12,
   "id": "06ffe6ec-a872-45ed-8f14-8fe67a852278",
   "metadata": {},
   "outputs": [
    {
     "name": "stdout",
     "output_type": "stream",
     "text": [
      "[]\n"
     ]
    }
   ],
   "source": [
    "a=range(-3,-3)\n",
    "b=list(a)\n",
    "print(b)"
   ]
  },
  {
   "cell_type": "markdown",
   "id": "5c24bca6-94d3-4057-aee7-f131ab0847e4",
   "metadata": {},
   "source": [
    "# range function with 3 parameter"
   ]
  },
  {
   "cell_type": "code",
   "execution_count": 13,
   "id": "6d055379-23a8-4ea5-9608-7a22973a6411",
   "metadata": {},
   "outputs": [
    {
     "name": "stdout",
     "output_type": "stream",
     "text": [
      "[1, 3, 5, 7, 9]\n"
     ]
    }
   ],
   "source": [
    "a=range(1,10,2)\n",
    "b=list(a)\n",
    "print(b)"
   ]
  },
  {
   "cell_type": "code",
   "execution_count": 14,
   "id": "6374f28a-842f-44af-8400-89f2cdc88941",
   "metadata": {},
   "outputs": [
    {
     "name": "stdout",
     "output_type": "stream",
     "text": [
      "[7, 5, 3]\n"
     ]
    }
   ],
   "source": [
    "a=range(7,1,-2)\n",
    "b=list(a)\n",
    "print(b)"
   ]
  },
  {
   "cell_type": "code",
   "execution_count": 15,
   "id": "11ac316b-d749-4eaf-aadc-2eba9a6799b5",
   "metadata": {},
   "outputs": [
    {
     "name": "stdout",
     "output_type": "stream",
     "text": [
      "[5]\n"
     ]
    }
   ],
   "source": [
    "a=range(5,10,20)\n",
    "b=list(a)\n",
    "print(b)"
   ]
  },
  {
   "cell_type": "code",
   "execution_count": 16,
   "id": "32383031-3350-46ee-b0c0-bf83278eae8c",
   "metadata": {},
   "outputs": [
    {
     "name": "stdout",
     "output_type": "stream",
     "text": [
      "[2]\n"
     ]
    }
   ],
   "source": [
    "a=range(2,14,15)\n",
    "b=list(a)\n",
    "print(b)"
   ]
  },
  {
   "cell_type": "code",
   "execution_count": 17,
   "id": "a7cf56d2-ecf5-461d-86c9-7ec9620f73da",
   "metadata": {},
   "outputs": [
    {
     "ename": "ValueError",
     "evalue": "range() arg 3 must not be zero",
     "output_type": "error",
     "traceback": [
      "\u001b[0;31m---------------------------------------------------------------------------\u001b[0m",
      "\u001b[0;31mValueError\u001b[0m                                Traceback (most recent call last)",
      "Cell \u001b[0;32mIn [17], line 1\u001b[0m\n\u001b[0;32m----> 1\u001b[0m a\u001b[38;5;241m=\u001b[39m\u001b[38;5;28;43mrange\u001b[39;49m\u001b[43m(\u001b[49m\u001b[38;5;241;43m5\u001b[39;49m\u001b[43m,\u001b[49m\u001b[38;5;241;43m10\u001b[39;49m\u001b[43m,\u001b[49m\u001b[38;5;241;43m0\u001b[39;49m\u001b[43m)\u001b[49m\n\u001b[1;32m      2\u001b[0m b\u001b[38;5;241m=\u001b[39m\u001b[38;5;28mlist\u001b[39m(a)\n\u001b[1;32m      3\u001b[0m \u001b[38;5;28mprint\u001b[39m(b)\n",
      "\u001b[0;31mValueError\u001b[0m: range() arg 3 must not be zero"
     ]
    }
   ],
   "source": [
    "a=range(5,10,0)\n",
    "b=list(a)\n",
    "print(b)"
   ]
  },
  {
   "cell_type": "code",
   "execution_count": 18,
   "id": "5bd69992-33d2-4f9c-9390-965cd387b854",
   "metadata": {},
   "outputs": [
    {
     "name": "stdout",
     "output_type": "stream",
     "text": [
      "[2, 3, 4, 5, 6, 7, 8, 9, 10, 11]\n"
     ]
    }
   ],
   "source": [
    "a=range(2,12)\n",
    "b=list(a)\n",
    "print(b)"
   ]
  },
  {
   "cell_type": "code",
   "execution_count": 19,
   "id": "ca41cf7f-619e-44b0-8635-045ae7edb57a",
   "metadata": {},
   "outputs": [
    {
     "name": "stdout",
     "output_type": "stream",
     "text": [
      "[]\n"
     ]
    }
   ],
   "source": [
    "a=range(12,2)\n",
    "b=list(a)\n",
    "print(b)"
   ]
  },
  {
   "cell_type": "markdown",
   "id": "4941fdec-7c30-4b0c-90d8-bf6420e8f362",
   "metadata": {},
   "source": [
    "# using range with for loop"
   ]
  },
  {
   "cell_type": "code",
   "execution_count": 21,
   "id": "d4a6e3d1-2688-4a6a-bf28-b7a2b363b988",
   "metadata": {},
   "outputs": [
    {
     "name": "stdout",
     "output_type": "stream",
     "text": [
      "0 1 2 3 4 5 6 7 8 9 "
     ]
    }
   ],
   "source": [
    "for i in range(10):\n",
    "    print(i, end=' ')"
   ]
  },
  {
   "cell_type": "code",
   "execution_count": 22,
   "id": "a0c051f3-4eda-4d3a-a5cc-08dffb19535c",
   "metadata": {},
   "outputs": [
    {
     "name": "stdout",
     "output_type": "stream",
     "text": [
      "1 2 3 4 5 6 7 8 9 10 "
     ]
    }
   ],
   "source": [
    "for i in range(1,11):\n",
    "    print(i, end=' ')"
   ]
  },
  {
   "cell_type": "markdown",
   "id": "3de312bd-658a-434a-abd5-c6f1212038d4",
   "metadata": {},
   "source": [
    "#Write a program to accept an integer from the user and display the sum of all the numbers from 1 to that number."
   ]
  },
  {
   "cell_type": "code",
   "execution_count": 30,
   "id": "62eec017-dd4d-474f-831e-01a1bf6603b6",
   "metadata": {},
   "outputs": [
    {
     "name": "stdin",
     "output_type": "stream",
     "text": [
      "enter a number: 5\n"
     ]
    },
    {
     "name": "stdout",
     "output_type": "stream",
     "text": [
      "sum of nos from 1 to 5 is 15\n"
     ]
    }
   ],
   "source": [
    "num=int(input(\"enter a number:\"))\n",
    "sum=0\n",
    "for i in range(1,num+1):\n",
    "        sum=sum+i\n",
    "print(\"sum of nos from 1 to {} is {}\".format(num,sum))"
   ]
  },
  {
   "cell_type": "markdown",
   "id": "e08e066c-0e7d-4dfe-9ef4-7b726f6c425a",
   "metadata": {},
   "source": [
    "# Write a program to accept an integer from the user and calculate it’s factorial"
   ]
  },
  {
   "cell_type": "code",
   "execution_count": 37,
   "id": "bdeda041-0c1e-4320-895e-9a62baa29e15",
   "metadata": {},
   "outputs": [
    {
     "name": "stdin",
     "output_type": "stream",
     "text": [
      "enter a num: 5\n"
     ]
    },
    {
     "name": "stdout",
     "output_type": "stream",
     "text": [
      "120\n"
     ]
    }
   ],
   "source": [
    "num=int(input(\"enter a num:\"))\n",
    "fact=1\n",
    "for i in range(1,num+1):\n",
    "    fact=fact*i\n",
    "print(fact)"
   ]
  },
  {
   "cell_type": "code",
   "execution_count": 38,
   "id": "4c97e261-6ee2-401f-9a14-186441d5f77b",
   "metadata": {},
   "outputs": [
    {
     "name": "stdout",
     "output_type": "stream",
     "text": [
      "1 3 5 7 9 "
     ]
    }
   ],
   "source": [
    "for i in range(1,11,2):\n",
    "    print(i,end=' ')"
   ]
  },
  {
   "cell_type": "code",
   "execution_count": 39,
   "id": "6c65343d-4168-4583-b274-e8adeb84e6aa",
   "metadata": {},
   "outputs": [
    {
     "name": "stdout",
     "output_type": "stream",
     "text": [
      "100 90 80 70 60 50 40 30 20 10 "
     ]
    }
   ],
   "source": [
    "for i in range(100,0,-10):\n",
    "    print(i,end=' ')"
   ]
  },
  {
   "cell_type": "markdown",
   "id": "e6c94152-1736-4281-9bad-b48422286b48",
   "metadata": {},
   "source": [
    "#use for with else"
   ]
  },
  {
   "cell_type": "code",
   "execution_count": 40,
   "id": "e6429691-ccf1-476e-9cc7-c7762a3b8ea6",
   "metadata": {},
   "outputs": [
    {
     "name": "stdout",
     "output_type": "stream",
     "text": [
      "0 1 2 3 4 5 6 7 8 9 loop ends\n"
     ]
    }
   ],
   "source": [
    "for i in range(10):\n",
    "    print(i,end=' ')\n",
    "else:\n",
    "    print(\"loop ends\")"
   ]
  },
  {
   "cell_type": "code",
   "execution_count": 41,
   "id": "1376ef56-9a86-44a0-8a47-95e42308662d",
   "metadata": {},
   "outputs": [
    {
     "name": "stdout",
     "output_type": "stream",
     "text": [
      "1 2 3 4 5 "
     ]
    }
   ],
   "source": [
    "for i in range(1,10):\n",
    "    print(i, end=' ')\n",
    "    if i%5==0:\n",
    "        break\n",
    "else:\n",
    "    print(\"loop end\")\n",
    "    "
   ]
  },
  {
   "cell_type": "markdown",
   "id": "35111d08-ea9e-4497-a10f-398452d316f1",
   "metadata": {},
   "source": [
    "# using nested loops"
   ]
  },
  {
   "cell_type": "code",
   "execution_count": 42,
   "id": "b6fa7192-f385-4aec-b534-39659e8c417e",
   "metadata": {},
   "outputs": [
    {
     "name": "stdout",
     "output_type": "stream",
     "text": [
      "1\n",
      "2\n",
      "3\n",
      "a\n",
      "b\n",
      "c\n"
     ]
    }
   ],
   "source": [
    "num=[1,2,3]\n",
    "alpha=['a','b','c']\n",
    "for i in num:\n",
    "    print(i)\n",
    "for ch in alpha:\n",
    "    print(ch)"
   ]
  },
  {
   "cell_type": "markdown",
   "id": "ef627ed8-07d5-428d-8d4a-be70340c97e6",
   "metadata": {},
   "source": [
    "# WAP to print pattern:"
   ]
  },
  {
   "cell_type": "code",
   "execution_count": 50,
   "id": "86e54681-78fb-4276-b219-24cff24d86b7",
   "metadata": {},
   "outputs": [
    {
     "name": "stdout",
     "output_type": "stream",
     "text": [
      "***\n",
      "***\n",
      "***\n",
      "***\n"
     ]
    }
   ],
   "source": [
    "for i in range(1,5):\n",
    "    for j in range(1,4):\n",
    "        print('*',end='')\n",
    "    print()"
   ]
  },
  {
   "cell_type": "markdown",
   "id": "e7f09900-71c1-4869-91b0-9ef2ffbd0cae",
   "metadata": {},
   "source": [
    "# Can you write the same code using only single loop ?\n"
   ]
  },
  {
   "cell_type": "code",
   "execution_count": 51,
   "id": "72b6dc0b-f957-4155-a84c-0cba059d7555",
   "metadata": {},
   "outputs": [
    {
     "name": "stdout",
     "output_type": "stream",
     "text": [
      "***\n",
      "***\n",
      "***\n",
      "***\n"
     ]
    }
   ],
   "source": [
    "for i in range(1,5):\n",
    "    print(\"*\"*3)"
   ]
  },
  {
   "cell_type": "code",
   "execution_count": 52,
   "id": "f916a481-947f-4ac8-a06e-137f1d99d37b",
   "metadata": {},
   "outputs": [
    {
     "name": "stdout",
     "output_type": "stream",
     "text": [
      "* \n",
      "* * \n",
      "* * * \n",
      "* * * * \n"
     ]
    }
   ],
   "source": [
    "for i in range(1,5):\n",
    "    for j in range(1,i+1):\n",
    "        print('*',end=' ')\n",
    "    print()"
   ]
  },
  {
   "cell_type": "code",
   "execution_count": 56,
   "id": "c97f2f66-df37-47c0-b3d8-d077fa1b828b",
   "metadata": {},
   "outputs": [
    {
     "name": "stdout",
     "output_type": "stream",
     "text": [
      "* * * * \n",
      "* * * \n",
      "* * \n",
      "* \n"
     ]
    }
   ],
   "source": [
    "for i in range(4,0,-1):\n",
    "    for j in range(1,i+1):\n",
    "        print('*',end=' ')\n",
    "    print()"
   ]
  },
  {
   "cell_type": "markdown",
   "id": "47dc4e48-5bae-4977-9dc8-0c53773efb7c",
   "metadata": {},
   "source": [
    "#Write aprogram to accept an integer from the user and display all the numbers from 1 to that number. Repeat the process until the user enters 0."
   ]
  },
  {
   "cell_type": "code",
   "execution_count": 60,
   "id": "d19adcec-36b4-486d-b126-0375ad083138",
   "metadata": {},
   "outputs": [
    {
     "name": "stdin",
     "output_type": "stream",
     "text": [
      "enter a num: 3\n"
     ]
    },
    {
     "name": "stdout",
     "output_type": "stream",
     "text": [
      "1\n",
      "2\n",
      "3\n"
     ]
    },
    {
     "name": "stdin",
     "output_type": "stream",
     "text": [
      "enter a num: 4\n"
     ]
    },
    {
     "name": "stdout",
     "output_type": "stream",
     "text": [
      "1\n",
      "2\n",
      "3\n",
      "4\n"
     ]
    },
    {
     "name": "stdin",
     "output_type": "stream",
     "text": [
      "enter a num: 0\n"
     ]
    }
   ],
   "source": [
    "num=int(input(\"enter a num:\"))\n",
    "while num!=0:\n",
    "    for y in range(1,num+1):\n",
    "        print(y)\n",
    "        \n",
    "    num=int(input(\"enter a num:\"))"
   ]
  },
  {
   "cell_type": "code",
   "execution_count": null,
   "id": "53605026-bcc8-4f2d-9acd-c3ebe43ecf98",
   "metadata": {},
   "outputs": [],
   "source": []
  }
 ],
 "metadata": {
  "kernelspec": {
   "display_name": "Python 3 (ipykernel)",
   "language": "python",
   "name": "python3"
  },
  "language_info": {
   "codemirror_mode": {
    "name": "ipython",
    "version": 3
   },
   "file_extension": ".py",
   "mimetype": "text/x-python",
   "name": "python",
   "nbconvert_exporter": "python",
   "pygments_lexer": "ipython3",
   "version": "3.10.6"
  }
 },
 "nbformat": 4,
 "nbformat_minor": 5
}
