{
 "cells": [
  {
   "cell_type": "markdown",
   "id": "c4960078-f75d-438e-bc00-7330d054264e",
   "metadata": {},
   "source": [
    "# Tuple"
   ]
  },
  {
   "cell_type": "code",
   "execution_count": 1,
   "id": "10270164-4714-49f9-8807-7ddc6600a470",
   "metadata": {},
   "outputs": [],
   "source": [
    "mytuple=()"
   ]
  },
  {
   "cell_type": "code",
   "execution_count": 2,
   "id": "644e5c1e-f8a8-43f4-968a-c1090d75b854",
   "metadata": {},
   "outputs": [
    {
     "data": {
      "text/plain": [
       "()"
      ]
     },
     "execution_count": 2,
     "metadata": {},
     "output_type": "execute_result"
    }
   ],
   "source": [
    "mytuple"
   ]
  },
  {
   "cell_type": "code",
   "execution_count": 3,
   "id": "039c231f-0771-410a-b50b-55d03a424a67",
   "metadata": {},
   "outputs": [],
   "source": [
    "mytuple=(1,2,3,45,45,6,7)"
   ]
  },
  {
   "cell_type": "code",
   "execution_count": 4,
   "id": "484d5c58-9f3e-436b-b05b-1f6f662d4727",
   "metadata": {},
   "outputs": [
    {
     "data": {
      "text/plain": [
       "(1, 2, 3, 45, 45, 6, 7)"
      ]
     },
     "execution_count": 4,
     "metadata": {},
     "output_type": "execute_result"
    }
   ],
   "source": [
    "mytuple"
   ]
  },
  {
   "cell_type": "code",
   "execution_count": 5,
   "id": "b9f3504f-0711-4f5a-b5da-99147d15280a",
   "metadata": {},
   "outputs": [],
   "source": [
    "mytuple=(1,\"preeti\",10.7,True,2+3j)"
   ]
  },
  {
   "cell_type": "code",
   "execution_count": 6,
   "id": "406cda4d-0139-44ce-b699-0082b8fc0bc5",
   "metadata": {},
   "outputs": [
    {
     "data": {
      "text/plain": [
       "(1, 'preeti', 10.7, True, (2+3j))"
      ]
     },
     "execution_count": 6,
     "metadata": {},
     "output_type": "execute_result"
    }
   ],
   "source": [
    "mytuple"
   ]
  },
  {
   "cell_type": "code",
   "execution_count": 7,
   "id": "09445a99-59b3-42e5-9611-f6dba766b0a9",
   "metadata": {},
   "outputs": [
    {
     "data": {
      "text/plain": [
       "tuple"
      ]
     },
     "execution_count": 7,
     "metadata": {},
     "output_type": "execute_result"
    }
   ],
   "source": [
    "type(mytuple)"
   ]
  },
  {
   "cell_type": "code",
   "execution_count": 8,
   "id": "970c769f-9d9b-4b0b-99c7-3013b8f7b51e",
   "metadata": {},
   "outputs": [],
   "source": [
    "mytuple=(10)"
   ]
  },
  {
   "cell_type": "code",
   "execution_count": 9,
   "id": "65fe6782-7c92-4f3a-b1a8-0e3865d18978",
   "metadata": {},
   "outputs": [
    {
     "data": {
      "text/plain": [
       "10"
      ]
     },
     "execution_count": 9,
     "metadata": {},
     "output_type": "execute_result"
    }
   ],
   "source": [
    "mytuple"
   ]
  },
  {
   "cell_type": "code",
   "execution_count": 10,
   "id": "f2ff70a6-4b04-452c-b9fd-32282e662dda",
   "metadata": {},
   "outputs": [
    {
     "data": {
      "text/plain": [
       "int"
      ]
     },
     "execution_count": 10,
     "metadata": {},
     "output_type": "execute_result"
    }
   ],
   "source": [
    "type(mytuple)"
   ]
  },
  {
   "cell_type": "code",
   "execution_count": 11,
   "id": "525ae564-397b-4a77-92b0-5990a8aa0989",
   "metadata": {},
   "outputs": [],
   "source": [
    "mytuple2=(10,)"
   ]
  },
  {
   "cell_type": "code",
   "execution_count": 12,
   "id": "ddb84156-bfc9-4c98-94e0-2e357ad93d58",
   "metadata": {},
   "outputs": [
    {
     "data": {
      "text/plain": [
       "(10,)"
      ]
     },
     "execution_count": 12,
     "metadata": {},
     "output_type": "execute_result"
    }
   ],
   "source": [
    "mytuple2"
   ]
  },
  {
   "cell_type": "code",
   "execution_count": 13,
   "id": "a3c1737f-ed20-43e7-a3b5-248dd6eedbd1",
   "metadata": {},
   "outputs": [
    {
     "data": {
      "text/plain": [
       "tuple"
      ]
     },
     "execution_count": 13,
     "metadata": {},
     "output_type": "execute_result"
    }
   ],
   "source": [
    "type(mytuple2)"
   ]
  },
  {
   "cell_type": "code",
   "execution_count": 14,
   "id": "ebdf8ddd-b357-4066-a682-2fbf9adc28d0",
   "metadata": {},
   "outputs": [],
   "source": [
    "mytuple3=('preeti',)"
   ]
  },
  {
   "cell_type": "code",
   "execution_count": 15,
   "id": "5bc03399-42a7-4dda-b14c-f4f7937bc471",
   "metadata": {},
   "outputs": [
    {
     "data": {
      "text/plain": [
       "('preeti',)"
      ]
     },
     "execution_count": 15,
     "metadata": {},
     "output_type": "execute_result"
    }
   ],
   "source": [
    "mytuple3"
   ]
  },
  {
   "cell_type": "code",
   "execution_count": 16,
   "id": "ea33c865-fa4c-4a05-9780-d717b8bd02f9",
   "metadata": {},
   "outputs": [
    {
     "data": {
      "text/plain": [
       "tuple"
      ]
     },
     "execution_count": 16,
     "metadata": {},
     "output_type": "execute_result"
    }
   ],
   "source": [
    "type(mytuple3)"
   ]
  },
  {
   "cell_type": "markdown",
   "id": "a7302d52-2692-494c-8fc2-cda920225742",
   "metadata": {},
   "source": [
    "# concept of packing and unpacking"
   ]
  },
  {
   "cell_type": "code",
   "execution_count": 17,
   "id": "fb9854ea-b24c-40f6-aad4-1602a33d1578",
   "metadata": {},
   "outputs": [],
   "source": [
    "a=1,2,3,4"
   ]
  },
  {
   "cell_type": "code",
   "execution_count": 18,
   "id": "cbf4a668-7b0a-4e61-87c5-f1fa29ae6af3",
   "metadata": {},
   "outputs": [
    {
     "data": {
      "text/plain": [
       "(1, 2, 3, 4)"
      ]
     },
     "execution_count": 18,
     "metadata": {},
     "output_type": "execute_result"
    }
   ],
   "source": [
    "a"
   ]
  },
  {
   "cell_type": "code",
   "execution_count": 19,
   "id": "8ffba080-ab9e-4055-a1ce-faecc997dd15",
   "metadata": {},
   "outputs": [],
   "source": [
    "x,y,z,p=a"
   ]
  },
  {
   "cell_type": "code",
   "execution_count": 20,
   "id": "6b4fd8af-3ffc-4546-8d5d-cc62de7f2d0b",
   "metadata": {},
   "outputs": [
    {
     "data": {
      "text/plain": [
       "1"
      ]
     },
     "execution_count": 20,
     "metadata": {},
     "output_type": "execute_result"
    }
   ],
   "source": [
    "x"
   ]
  },
  {
   "cell_type": "code",
   "execution_count": 21,
   "id": "d2390c0e-3da8-437d-95eb-e5eb13ba8ace",
   "metadata": {},
   "outputs": [
    {
     "data": {
      "text/plain": [
       "2"
      ]
     },
     "execution_count": 21,
     "metadata": {},
     "output_type": "execute_result"
    }
   ],
   "source": [
    "y"
   ]
  },
  {
   "cell_type": "code",
   "execution_count": 22,
   "id": "8f056a26-0e5f-4c54-8e80-f0776b55580b",
   "metadata": {},
   "outputs": [
    {
     "data": {
      "text/plain": [
       "3"
      ]
     },
     "execution_count": 22,
     "metadata": {},
     "output_type": "execute_result"
    }
   ],
   "source": [
    "z"
   ]
  },
  {
   "cell_type": "code",
   "execution_count": 23,
   "id": "7c8bd3a3-c3b2-4f15-adc9-1c0b7f1ca3ee",
   "metadata": {},
   "outputs": [
    {
     "data": {
      "text/plain": [
       "4"
      ]
     },
     "execution_count": 23,
     "metadata": {},
     "output_type": "execute_result"
    }
   ],
   "source": [
    "p"
   ]
  },
  {
   "cell_type": "code",
   "execution_count": 24,
   "id": "e1ba9d2c-3530-49cf-8b06-ea15db2f3162",
   "metadata": {},
   "outputs": [],
   "source": [
    "a=[1,2,3,4,5]"
   ]
  },
  {
   "cell_type": "code",
   "execution_count": 25,
   "id": "527c497a-bb15-43e4-a750-2d084d0fef58",
   "metadata": {},
   "outputs": [
    {
     "ename": "ValueError",
     "evalue": "too many values to unpack (expected 4)",
     "output_type": "error",
     "traceback": [
      "\u001b[0;31m---------------------------------------------------------------------------\u001b[0m",
      "\u001b[0;31mValueError\u001b[0m                                Traceback (most recent call last)",
      "Cell \u001b[0;32mIn [25], line 1\u001b[0m\n\u001b[0;32m----> 1\u001b[0m x,y,z,p\u001b[38;5;241m=\u001b[39ma\n",
      "\u001b[0;31mValueError\u001b[0m: too many values to unpack (expected 4)"
     ]
    }
   ],
   "source": [
    "x,y,z,p=a"
   ]
  },
  {
   "cell_type": "code",
   "execution_count": null,
   "id": "5752b2a3-d3af-462b-923a-6e4dd362781b",
   "metadata": {},
   "outputs": [],
   "source": [
    "x,y,z,p,h=a"
   ]
  },
  {
   "cell_type": "code",
   "execution_count": null,
   "id": "137b449e-8287-4703-9e83-696b2772170e",
   "metadata": {},
   "outputs": [],
   "source": [
    "x"
   ]
  },
  {
   "cell_type": "code",
   "execution_count": null,
   "id": "f7ac2304-bbfd-45a2-b9f7-812c996bed12",
   "metadata": {},
   "outputs": [],
   "source": [
    "y"
   ]
  },
  {
   "cell_type": "code",
   "execution_count": null,
   "id": "d046a7d6-6a07-4254-bad7-1fff4e96027d",
   "metadata": {},
   "outputs": [],
   "source": [
    "z"
   ]
  },
  {
   "cell_type": "code",
   "execution_count": null,
   "id": "e78daea2-7d4c-48b0-b4fc-318d93ed28cb",
   "metadata": {},
   "outputs": [],
   "source": [
    "h"
   ]
  },
  {
   "cell_type": "code",
   "execution_count": null,
   "id": "2730ce56-91de-4fca-8474-8c91a767cf64",
   "metadata": {},
   "outputs": [],
   "source": [
    "p"
   ]
  },
  {
   "cell_type": "code",
   "execution_count": null,
   "id": "f219ad61-29b3-49bb-8340-08631bc2c31b",
   "metadata": {},
   "outputs": [],
   "source": [
    "mytuple=(1,2,43,54,657,67,4,46,567,6)"
   ]
  },
  {
   "cell_type": "code",
   "execution_count": null,
   "id": "13143521-0b6e-49fc-8d66-9e8f86ffd214",
   "metadata": {},
   "outputs": [],
   "source": [
    "print(mytuple)"
   ]
  },
  {
   "cell_type": "code",
   "execution_count": null,
   "id": "f156e9f7-cfb7-4a0b-a26f-a02dd94f6109",
   "metadata": {},
   "outputs": [],
   "source": [
    "mytuple[5]"
   ]
  },
  {
   "cell_type": "code",
   "execution_count": null,
   "id": "be55c005-bfe8-4fd2-9897-77338cfed6d1",
   "metadata": {},
   "outputs": [],
   "source": [
    "mytuple[2:5]"
   ]
  },
  {
   "cell_type": "code",
   "execution_count": null,
   "id": "659925a3-2629-440d-811b-365f83d6df62",
   "metadata": {},
   "outputs": [],
   "source": [
    "mytuple[-5]"
   ]
  },
  {
   "cell_type": "code",
   "execution_count": null,
   "id": "9bc7e06c-f20b-42d9-89f6-5fda06be6351",
   "metadata": {},
   "outputs": [],
   "source": [
    "mynums=(10,20,30,40,50)\n",
    "print(mynums[1:4])"
   ]
  },
  {
   "cell_type": "code",
   "execution_count": 2,
   "id": "5f5fdaf1-84f1-45b9-884e-f1c2fc7a2514",
   "metadata": {},
   "outputs": [
    {
     "name": "stdout",
     "output_type": "stream",
     "text": [
      "(10, 20, 30)\n"
     ]
    }
   ],
   "source": [
    "mynums=(10,20,30,40,50)\n",
    "print(mynums[ :-2])"
   ]
  },
  {
   "cell_type": "code",
   "execution_count": 29,
   "id": "f46508c1-689a-479b-a872-62ca63fed048",
   "metadata": {},
   "outputs": [
    {
     "name": "stdout",
     "output_type": "stream",
     "text": [
      "(50, 40, 30)\n"
     ]
    }
   ],
   "source": [
    "mynums=(10,20,30, 40,50)\n",
    "print(mynums[4:1:-1])"
   ]
  },
  {
   "cell_type": "code",
   "execution_count": null,
   "id": "f4449e0e-a3ed-45ba-bd6a-c1ad8b99b30c",
   "metadata": {},
   "outputs": [],
   "source": [
    "mytuple"
   ]
  },
  {
   "cell_type": "code",
   "execution_count": null,
   "id": "11218f47-64c4-43fc-b5d5-95a65c100734",
   "metadata": {},
   "outputs": [],
   "source": [
    "mytuple[3]"
   ]
  },
  {
   "cell_type": "code",
   "execution_count": null,
   "id": "897a5ffd-f054-4fd7-81bb-7454b8ffb028",
   "metadata": {},
   "outputs": [],
   "source": [
    "mytuple[3]=100"
   ]
  },
  {
   "cell_type": "code",
   "execution_count": null,
   "id": "44c3b3ca-d478-4e4e-b7ae-499127560cee",
   "metadata": {},
   "outputs": [],
   "source": [
    "mynums=([1,2],3,4,5,66,7)"
   ]
  },
  {
   "cell_type": "code",
   "execution_count": null,
   "id": "bf7d0907-8141-4310-a4d1-118bb3bc41e7",
   "metadata": {},
   "outputs": [],
   "source": [
    "mynums[0][1]=100"
   ]
  },
  {
   "cell_type": "code",
   "execution_count": null,
   "id": "b443b129-fedd-42b7-85a2-2dcf3ce49ede",
   "metadata": {},
   "outputs": [],
   "source": [
    "mynums"
   ]
  },
  {
   "cell_type": "code",
   "execution_count": null,
   "id": "af449178-8dc6-4f81-9a55-96aa7eee1cce",
   "metadata": {},
   "outputs": [],
   "source": [
    "mytuple=(100,200,300,400,500)"
   ]
  },
  {
   "cell_type": "code",
   "execution_count": null,
   "id": "f11c2243-bedc-4781-8fd8-167ae05643eb",
   "metadata": {},
   "outputs": [],
   "source": [
    "mytuple=(1,2,3,4,5)"
   ]
  },
  {
   "cell_type": "code",
   "execution_count": null,
   "id": "8b036acf-40b7-4d3c-a2b9-bd5ddb9ed862",
   "metadata": {},
   "outputs": [],
   "source": [
    "mytuple"
   ]
  },
  {
   "cell_type": "code",
   "execution_count": null,
   "id": "a3eb3d68-5041-4b20-9898-56bb799d5c5a",
   "metadata": {},
   "outputs": [],
   "source": [
    "del(mytuple[3])"
   ]
  },
  {
   "cell_type": "code",
   "execution_count": null,
   "id": "616f7149-c9c4-45a6-bb40-afe928ec76fc",
   "metadata": {},
   "outputs": [],
   "source": [
    "del(mytuple)"
   ]
  },
  {
   "cell_type": "code",
   "execution_count": null,
   "id": "90661234-812a-4f1c-8d55-5b20aea7858d",
   "metadata": {},
   "outputs": [],
   "source": [
    "mytuple"
   ]
  },
  {
   "cell_type": "markdown",
   "id": "af02e695-f52f-430c-9903-af978f4b094d",
   "metadata": {},
   "source": [
    "# function in tuple\n",
    "# len()\n",
    "\n",
    "# max()\n",
    "\n",
    "# min()\n",
    "\n",
    "# sum()\n",
    "\n",
    "# sorted()\n",
    "\n",
    "# any()\n",
    "\n",
    "# all()\n",
    "\n",
    "# tuple()"
   ]
  },
  {
   "cell_type": "code",
   "execution_count": 3,
   "id": "9a6fd503-a34f-4d7b-b310-d133ab202f83",
   "metadata": {},
   "outputs": [],
   "source": [
    "mytuple=(1,3,454,56,8,78,45,7,87)"
   ]
  },
  {
   "cell_type": "code",
   "execution_count": 4,
   "id": "bfd2b3b2-3aab-460d-ac22-5e6553109e1e",
   "metadata": {},
   "outputs": [
    {
     "data": {
      "text/plain": [
       "9"
      ]
     },
     "execution_count": 4,
     "metadata": {},
     "output_type": "execute_result"
    }
   ],
   "source": [
    "len(mytuple)"
   ]
  },
  {
   "cell_type": "code",
   "execution_count": 5,
   "id": "951c519b-a030-47b7-9b58-2af28066c415",
   "metadata": {},
   "outputs": [
    {
     "data": {
      "text/plain": [
       "454"
      ]
     },
     "execution_count": 5,
     "metadata": {},
     "output_type": "execute_result"
    }
   ],
   "source": [
    "max(mytuple)"
   ]
  },
  {
   "cell_type": "code",
   "execution_count": 6,
   "id": "3b5f4e64-800c-4c77-b94d-dde8d3b9cc5c",
   "metadata": {},
   "outputs": [
    {
     "data": {
      "text/plain": [
       "1"
      ]
     },
     "execution_count": 6,
     "metadata": {},
     "output_type": "execute_result"
    }
   ],
   "source": [
    "min(mytuple)"
   ]
  },
  {
   "cell_type": "code",
   "execution_count": 7,
   "id": "d11d435c-5b46-4317-a2fe-833b69b6e6fa",
   "metadata": {},
   "outputs": [
    {
     "data": {
      "text/plain": [
       "739"
      ]
     },
     "execution_count": 7,
     "metadata": {},
     "output_type": "execute_result"
    }
   ],
   "source": [
    "sum(mytuple)"
   ]
  },
  {
   "cell_type": "code",
   "execution_count": 8,
   "id": "9a245743-5632-497f-be1b-3ebf5786b285",
   "metadata": {},
   "outputs": [
    {
     "data": {
      "text/plain": [
       "True"
      ]
     },
     "execution_count": 8,
     "metadata": {},
     "output_type": "execute_result"
    }
   ],
   "source": [
    "any(mytuple)"
   ]
  },
  {
   "cell_type": "code",
   "execution_count": 9,
   "id": "33639656-cd61-47c5-b40d-bdac8968e624",
   "metadata": {},
   "outputs": [
    {
     "data": {
      "text/plain": [
       "True"
      ]
     },
     "execution_count": 9,
     "metadata": {},
     "output_type": "execute_result"
    }
   ],
   "source": [
    "all(mytuple)"
   ]
  },
  {
   "cell_type": "code",
   "execution_count": 10,
   "id": "ad1fc7cc-7df5-4563-8ac5-61579d4ca4fb",
   "metadata": {},
   "outputs": [
    {
     "data": {
      "text/plain": [
       "[1, 3, 7, 8, 45, 56, 78, 87, 454]"
      ]
     },
     "execution_count": 10,
     "metadata": {},
     "output_type": "execute_result"
    }
   ],
   "source": [
    "sorted(mytuple)"
   ]
  },
  {
   "cell_type": "code",
   "execution_count": 11,
   "id": "a3217589-9adc-4fd3-b91d-8150b6d9051d",
   "metadata": {},
   "outputs": [
    {
     "data": {
      "text/plain": [
       "[454, 87, 78, 56, 45, 8, 7, 3, 1]"
      ]
     },
     "execution_count": 11,
     "metadata": {},
     "output_type": "execute_result"
    }
   ],
   "source": [
    "sorted(mytuple,reverse=True)"
   ]
  },
  {
   "cell_type": "code",
   "execution_count": 12,
   "id": "7eca6952-10af-4d42-b2e6-d9e4fb28e29b",
   "metadata": {},
   "outputs": [
    {
     "data": {
      "text/plain": [
       "('p', 'r', 'e', 'e', 't', 'i')"
      ]
     },
     "execution_count": 12,
     "metadata": {},
     "output_type": "execute_result"
    }
   ],
   "source": [
    "tuple('preeti')"
   ]
  },
  {
   "cell_type": "code",
   "execution_count": 13,
   "id": "19997543-2cfc-451f-bf36-7a79041dff14",
   "metadata": {},
   "outputs": [
    {
     "data": {
      "text/plain": [
       "(1, 2, 3, 45, 6, 7, 4, 4)"
      ]
     },
     "execution_count": 13,
     "metadata": {},
     "output_type": "execute_result"
    }
   ],
   "source": [
    "tuple([1,2,3,45,6,7,4,4])\n"
   ]
  },
  {
   "cell_type": "code",
   "execution_count": null,
   "id": "ebaa6844-22d8-498c-8238-3a3f022ca827",
   "metadata": {},
   "outputs": [],
   "source": [
    "iterable: iterable is a object on top that we can iterate \n",
    "1 list\n",
    "2. tuple\n",
    "3. string\n",
    "4. set\n",
    "5. range"
   ]
  },
  {
   "cell_type": "code",
   "execution_count": null,
   "id": "78c2d323-0676-423d-9fba-6f5ce30d1050",
   "metadata": {},
   "outputs": [],
   "source": [
    "methods for tuple\n",
    "1. append()# it won't work\n",
    "2. extend()# it won't work\n",
    "3. insert()# it won't work\n",
    "4. count()#work\n",
    "5. index()#work\n",
    "6. clear()# it won't work\n",
    "7. pop()# it won't work\n",
    "8. remove()# it won't work\n",
    "8. sort() # it won't work\n",
    "9. reverse() # it won't work"
   ]
  },
  {
   "cell_type": "code",
   "execution_count": 14,
   "id": "672422ab-64c7-45a1-8dd8-3a5ac8d3431f",
   "metadata": {},
   "outputs": [],
   "source": [
    "mytuple=(1,2,3,4,5)"
   ]
  },
  {
   "cell_type": "code",
   "execution_count": 15,
   "id": "2aeedc92-b833-42c8-acd4-1d6d249305d7",
   "metadata": {},
   "outputs": [
    {
     "ename": "AttributeError",
     "evalue": "'tuple' object has no attribute 'append'",
     "output_type": "error",
     "traceback": [
      "\u001b[0;31m---------------------------------------------------------------------------\u001b[0m",
      "\u001b[0;31mAttributeError\u001b[0m                            Traceback (most recent call last)",
      "Cell \u001b[0;32mIn [15], line 1\u001b[0m\n\u001b[0;32m----> 1\u001b[0m \u001b[43mmytuple\u001b[49m\u001b[38;5;241;43m.\u001b[39;49m\u001b[43mappend\u001b[49m(\u001b[38;5;241m5\u001b[39m)\n",
      "\u001b[0;31mAttributeError\u001b[0m: 'tuple' object has no attribute 'append'"
     ]
    }
   ],
   "source": [
    "mytuple.append(5)"
   ]
  },
  {
   "cell_type": "code",
   "execution_count": 16,
   "id": "5c6f969d-9142-4955-8eb1-be3e495b8510",
   "metadata": {},
   "outputs": [
    {
     "ename": "AttributeError",
     "evalue": "'tuple' object has no attribute 'extend'",
     "output_type": "error",
     "traceback": [
      "\u001b[0;31m---------------------------------------------------------------------------\u001b[0m",
      "\u001b[0;31mAttributeError\u001b[0m                            Traceback (most recent call last)",
      "Cell \u001b[0;32mIn [16], line 1\u001b[0m\n\u001b[0;32m----> 1\u001b[0m \u001b[43mmytuple\u001b[49m\u001b[38;5;241;43m.\u001b[39;49m\u001b[43mextend\u001b[49m(\u001b[38;5;241m4\u001b[39m)\n",
      "\u001b[0;31mAttributeError\u001b[0m: 'tuple' object has no attribute 'extend'"
     ]
    }
   ],
   "source": [
    "mytuple.extend(4)"
   ]
  },
  {
   "cell_type": "code",
   "execution_count": 17,
   "id": "aa4d2dca-7399-4563-8179-034d4bfc9d5e",
   "metadata": {},
   "outputs": [
    {
     "data": {
      "text/plain": [
       "2"
      ]
     },
     "execution_count": 17,
     "metadata": {},
     "output_type": "execute_result"
    }
   ],
   "source": [
    "mytuple.index(3)"
   ]
  },
  {
   "cell_type": "code",
   "execution_count": 18,
   "id": "774099a0-b049-4686-835c-d762f1f84f06",
   "metadata": {},
   "outputs": [
    {
     "ename": "AttributeError",
     "evalue": "'tuple' object has no attribute 'insert'",
     "output_type": "error",
     "traceback": [
      "\u001b[0;31m---------------------------------------------------------------------------\u001b[0m",
      "\u001b[0;31mAttributeError\u001b[0m                            Traceback (most recent call last)",
      "Cell \u001b[0;32mIn [18], line 1\u001b[0m\n\u001b[0;32m----> 1\u001b[0m \u001b[43mmytuple\u001b[49m\u001b[38;5;241;43m.\u001b[39;49m\u001b[43minsert\u001b[49m(\u001b[38;5;241m2\u001b[39m,\u001b[38;5;124m'\u001b[39m\u001b[38;5;124m34\u001b[39m\u001b[38;5;124m'\u001b[39m)\n",
      "\u001b[0;31mAttributeError\u001b[0m: 'tuple' object has no attribute 'insert'"
     ]
    }
   ],
   "source": [
    "mytuple.insert(2,'34')"
   ]
  },
  {
   "cell_type": "code",
   "execution_count": 19,
   "id": "180571ed-e9ce-4ab7-91b2-4c8527bdf41b",
   "metadata": {},
   "outputs": [
    {
     "data": {
      "text/plain": [
       "1"
      ]
     },
     "execution_count": 19,
     "metadata": {},
     "output_type": "execute_result"
    }
   ],
   "source": [
    "mytuple.count(2)"
   ]
  },
  {
   "cell_type": "code",
   "execution_count": 20,
   "id": "305abe9f-662f-4a2b-a894-591f467ccff2",
   "metadata": {},
   "outputs": [
    {
     "ename": "AttributeError",
     "evalue": "'tuple' object has no attribute 'clear'",
     "output_type": "error",
     "traceback": [
      "\u001b[0;31m---------------------------------------------------------------------------\u001b[0m",
      "\u001b[0;31mAttributeError\u001b[0m                            Traceback (most recent call last)",
      "Cell \u001b[0;32mIn [20], line 1\u001b[0m\n\u001b[0;32m----> 1\u001b[0m \u001b[43mmytuple\u001b[49m\u001b[38;5;241;43m.\u001b[39;49m\u001b[43mclear\u001b[49m()\n",
      "\u001b[0;31mAttributeError\u001b[0m: 'tuple' object has no attribute 'clear'"
     ]
    }
   ],
   "source": [
    "mytuple.clear()"
   ]
  },
  {
   "cell_type": "code",
   "execution_count": 21,
   "id": "769a5649-55bb-4669-a817-2102e906c7ad",
   "metadata": {},
   "outputs": [
    {
     "ename": "AttributeError",
     "evalue": "'tuple' object has no attribute 'pop'",
     "output_type": "error",
     "traceback": [
      "\u001b[0;31m---------------------------------------------------------------------------\u001b[0m",
      "\u001b[0;31mAttributeError\u001b[0m                            Traceback (most recent call last)",
      "Cell \u001b[0;32mIn [21], line 1\u001b[0m\n\u001b[0;32m----> 1\u001b[0m \u001b[43mmytuple\u001b[49m\u001b[38;5;241;43m.\u001b[39;49m\u001b[43mpop\u001b[49m(\u001b[38;5;241m2\u001b[39m)\n",
      "\u001b[0;31mAttributeError\u001b[0m: 'tuple' object has no attribute 'pop'"
     ]
    }
   ],
   "source": [
    "mytuple.pop(2)"
   ]
  },
  {
   "cell_type": "code",
   "execution_count": 22,
   "id": "05565aa6-251d-4304-b7e7-1a0d473e94b7",
   "metadata": {},
   "outputs": [
    {
     "ename": "AttributeError",
     "evalue": "'tuple' object has no attribute 'remove'",
     "output_type": "error",
     "traceback": [
      "\u001b[0;31m---------------------------------------------------------------------------\u001b[0m",
      "\u001b[0;31mAttributeError\u001b[0m                            Traceback (most recent call last)",
      "Cell \u001b[0;32mIn [22], line 1\u001b[0m\n\u001b[0;32m----> 1\u001b[0m \u001b[43mmytuple\u001b[49m\u001b[38;5;241;43m.\u001b[39;49m\u001b[43mremove\u001b[49m(\u001b[38;5;241m1\u001b[39m)\n",
      "\u001b[0;31mAttributeError\u001b[0m: 'tuple' object has no attribute 'remove'"
     ]
    }
   ],
   "source": [
    "mytuple.remove(1)"
   ]
  },
  {
   "cell_type": "code",
   "execution_count": 23,
   "id": "9c9624fa-baa2-4ce2-bc48-458507a0a878",
   "metadata": {},
   "outputs": [
    {
     "ename": "AttributeError",
     "evalue": "'tuple' object has no attribute 'sort'",
     "output_type": "error",
     "traceback": [
      "\u001b[0;31m---------------------------------------------------------------------------\u001b[0m",
      "\u001b[0;31mAttributeError\u001b[0m                            Traceback (most recent call last)",
      "Cell \u001b[0;32mIn [23], line 1\u001b[0m\n\u001b[0;32m----> 1\u001b[0m \u001b[43mmytuple\u001b[49m\u001b[38;5;241;43m.\u001b[39;49m\u001b[43msort\u001b[49m()\n",
      "\u001b[0;31mAttributeError\u001b[0m: 'tuple' object has no attribute 'sort'"
     ]
    }
   ],
   "source": [
    "mytuple.sort()"
   ]
  },
  {
   "cell_type": "code",
   "execution_count": 24,
   "id": "042b5ec6-6711-48b2-a680-27f4eb68f305",
   "metadata": {},
   "outputs": [
    {
     "ename": "AttributeError",
     "evalue": "'tuple' object has no attribute 'reverse'",
     "output_type": "error",
     "traceback": [
      "\u001b[0;31m---------------------------------------------------------------------------\u001b[0m",
      "\u001b[0;31mAttributeError\u001b[0m                            Traceback (most recent call last)",
      "Cell \u001b[0;32mIn [24], line 1\u001b[0m\n\u001b[0;32m----> 1\u001b[0m \u001b[43mmytuple\u001b[49m\u001b[38;5;241;43m.\u001b[39;49m\u001b[43mreverse\u001b[49m()\n",
      "\u001b[0;31mAttributeError\u001b[0m: 'tuple' object has no attribute 'reverse'"
     ]
    }
   ],
   "source": [
    "mytuple.reverse()"
   ]
  },
  {
   "cell_type": "markdown",
   "id": "a22581a7-5771-4887-9f09-8030b84b0832",
   "metadata": {},
   "source": [
    "# member ship operator in and not in works with tuple"
   ]
  },
  {
   "cell_type": "code",
   "execution_count": 25,
   "id": "f5bfa711-0dfa-4c29-ae13-85bde29e2d04",
   "metadata": {},
   "outputs": [],
   "source": [
    "my_tuple=(\"a\",\"e\",\"i\",\"o\",\"u\")"
   ]
  },
  {
   "cell_type": "code",
   "execution_count": 26,
   "id": "36bb0d93-be3f-4aba-87bb-0713aea6c455",
   "metadata": {},
   "outputs": [
    {
     "data": {
      "text/plain": [
       "True"
      ]
     },
     "execution_count": 26,
     "metadata": {},
     "output_type": "execute_result"
    }
   ],
   "source": [
    "'a' in my_tuple"
   ]
  },
  {
   "cell_type": "code",
   "execution_count": 27,
   "id": "056a0388-57f4-4fde-b5ba-5057dc2b57ca",
   "metadata": {},
   "outputs": [
    {
     "data": {
      "text/plain": [
       "True"
      ]
     },
     "execution_count": 27,
     "metadata": {},
     "output_type": "execute_result"
    }
   ],
   "source": [
    "'p' not in my_tuple"
   ]
  },
  {
   "cell_type": "markdown",
   "id": "18ad13d3-bed5-4663-9858-31ea7cb7ffeb",
   "metadata": {},
   "source": [
    "# concatenation"
   ]
  },
  {
   "cell_type": "code",
   "execution_count": 28,
   "id": "c78d9e88-1505-4a97-9659-9b91a31c4fa0",
   "metadata": {},
   "outputs": [],
   "source": [
    "odd=(1,3,5)\n",
    "even=(2,4,6)"
   ]
  },
  {
   "cell_type": "code",
   "execution_count": 29,
   "id": "78343cd1-4bf1-4d10-bf6b-4ecd5fd483ab",
   "metadata": {},
   "outputs": [
    {
     "data": {
      "text/plain": [
       "139686430349056"
      ]
     },
     "execution_count": 29,
     "metadata": {},
     "output_type": "execute_result"
    }
   ],
   "source": [
    "id(odd)"
   ]
  },
  {
   "cell_type": "code",
   "execution_count": 30,
   "id": "83092d28-0c92-476d-8863-fe2370070c74",
   "metadata": {},
   "outputs": [
    {
     "data": {
      "text/plain": [
       "139686296885760"
      ]
     },
     "execution_count": 30,
     "metadata": {},
     "output_type": "execute_result"
    }
   ],
   "source": [
    "id(even)"
   ]
  },
  {
   "cell_type": "code",
   "execution_count": 31,
   "id": "1fd376da-8353-4c56-abcb-3367157aa6e9",
   "metadata": {},
   "outputs": [
    {
     "data": {
      "text/plain": [
       "139685883365216"
      ]
     },
     "execution_count": 31,
     "metadata": {},
     "output_type": "execute_result"
    }
   ],
   "source": [
    "id(odd+even)"
   ]
  },
  {
   "cell_type": "code",
   "execution_count": 32,
   "id": "bed28b68-0781-4e92-b4e5-b74ab954ac36",
   "metadata": {},
   "outputs": [],
   "source": [
    "all=odd+even"
   ]
  },
  {
   "cell_type": "code",
   "execution_count": 33,
   "id": "ae952338-b7ce-46af-a26e-733c3e7c15b2",
   "metadata": {},
   "outputs": [
    {
     "data": {
      "text/plain": [
       "(1, 3, 5, 2, 4, 6)"
      ]
     },
     "execution_count": 33,
     "metadata": {},
     "output_type": "execute_result"
    }
   ],
   "source": [
    "all"
   ]
  },
  {
   "cell_type": "markdown",
   "id": "6dc4c9cf-3b07-4dae-828b-647064d2b9a5",
   "metadata": {},
   "source": [
    "# multiplication of elt"
   ]
  },
  {
   "cell_type": "code",
   "execution_count": 34,
   "id": "be3f424c-efea-4ad8-96c8-c500e134898b",
   "metadata": {},
   "outputs": [],
   "source": [
    "a=(10,20,30)"
   ]
  },
  {
   "cell_type": "code",
   "execution_count": 35,
   "id": "2d0c14ad-e9b9-40f9-8e22-9e9c091db4b0",
   "metadata": {},
   "outputs": [
    {
     "data": {
      "text/plain": [
       "139686297076480"
      ]
     },
     "execution_count": 35,
     "metadata": {},
     "output_type": "execute_result"
    }
   ],
   "source": [
    "id(a)"
   ]
  },
  {
   "cell_type": "code",
   "execution_count": 36,
   "id": "ce02c902-17a5-4211-9643-b29c4121becc",
   "metadata": {},
   "outputs": [
    {
     "data": {
      "text/plain": [
       "139686296862976"
      ]
     },
     "execution_count": 36,
     "metadata": {},
     "output_type": "execute_result"
    }
   ],
   "source": [
    "id(a*2)"
   ]
  },
  {
   "cell_type": "markdown",
   "id": "bc93b79c-2f5e-4617-b7fc-1b4c8647f59e",
   "metadata": {},
   "source": [
    "# relational operators"
   ]
  },
  {
   "cell_type": "code",
   "execution_count": 37,
   "id": "1950563d-a97a-4b45-80ff-dac7c1d0a147",
   "metadata": {},
   "outputs": [],
   "source": [
    "a=(4,5,6)\n",
    "b=(4,5,6)"
   ]
  },
  {
   "cell_type": "code",
   "execution_count": 38,
   "id": "e8618256-d152-454f-a6c2-3f795198d503",
   "metadata": {},
   "outputs": [
    {
     "data": {
      "text/plain": [
       "False"
      ]
     },
     "execution_count": 38,
     "metadata": {},
     "output_type": "execute_result"
    }
   ],
   "source": [
    "a<b"
   ]
  },
  {
   "cell_type": "markdown",
   "id": "c274a9eb-b8dc-4dba-9688-4a373b8f31ac",
   "metadata": {},
   "source": [
    "# set\n",
    "1. we can not keep duplicate value\n",
    "2. we can not use subscript operator(we can not do indexing as well as slicing)\n",
    "3. set is unordered collection"
   ]
  },
  {
   "cell_type": "code",
   "execution_count": null,
   "id": "2a52cb0a-fa6f-4482-b127-044b7201cab8",
   "metadata": {},
   "outputs": [],
   "source": [
    "mylist=[1,2,3,4,5]#access element with index this is possible\n",
    "mytuple=(1,2,3,4,5)#access element with index this is possible\n",
    "myset={1,2,3,4,5}#we can not access element with index in set"
   ]
  },
  {
   "cell_type": "code",
   "execution_count": 39,
   "id": "2c69fca9-5bcd-43aa-89e7-808840046cef",
   "metadata": {},
   "outputs": [],
   "source": [
    "myset={1,2,3,4,56,4,3,67,56}"
   ]
  },
  {
   "cell_type": "code",
   "execution_count": 40,
   "id": "028103a1-866d-46df-b2c4-c8f1bf047823",
   "metadata": {},
   "outputs": [
    {
     "data": {
      "text/plain": [
       "{1, 2, 3, 4, 56, 67}"
      ]
     },
     "execution_count": 40,
     "metadata": {},
     "output_type": "execute_result"
    }
   ],
   "source": [
    "myset"
   ]
  },
  {
   "cell_type": "code",
   "execution_count": 41,
   "id": "5a4a6ea3-93f9-41d4-ac9c-b4d2a055b885",
   "metadata": {},
   "outputs": [
    {
     "ename": "TypeError",
     "evalue": "'set' object is not subscriptable",
     "output_type": "error",
     "traceback": [
      "\u001b[0;31m---------------------------------------------------------------------------\u001b[0m",
      "\u001b[0;31mTypeError\u001b[0m                                 Traceback (most recent call last)",
      "Cell \u001b[0;32mIn [41], line 1\u001b[0m\n\u001b[0;32m----> 1\u001b[0m \u001b[43mmyset\u001b[49m\u001b[43m[\u001b[49m\u001b[38;5;241;43m0\u001b[39;49m\u001b[43m]\u001b[49m\n",
      "\u001b[0;31mTypeError\u001b[0m: 'set' object is not subscriptable"
     ]
    }
   ],
   "source": [
    "myset[0]"
   ]
  },
  {
   "cell_type": "code",
   "execution_count": 42,
   "id": "488422de-ba87-4051-b9da-3226f54be8be",
   "metadata": {},
   "outputs": [],
   "source": [
    "myset={1,\"hello\",10.5}"
   ]
  },
  {
   "cell_type": "code",
   "execution_count": 43,
   "id": "cc6b5ef2-41ef-40ac-8474-ca3f5bb85bc1",
   "metadata": {},
   "outputs": [
    {
     "data": {
      "text/plain": [
       "{1, 10.5, 'hello'}"
      ]
     },
     "execution_count": 43,
     "metadata": {},
     "output_type": "execute_result"
    }
   ],
   "source": [
    "myset"
   ]
  },
  {
   "cell_type": "markdown",
   "id": "37c9ce35-7e9d-4e97-87a9-7daf3afba894",
   "metadata": {},
   "source": [
    "# i can pass any iterable to this set funciton set()"
   ]
  },
  {
   "cell_type": "code",
   "execution_count": 44,
   "id": "788b0b78-7480-4aaf-8e02-b534953824f5",
   "metadata": {},
   "outputs": [
    {
     "data": {
      "text/plain": [
       "{1, 2, 3, 4, 5, 6}"
      ]
     },
     "execution_count": 44,
     "metadata": {},
     "output_type": "execute_result"
    }
   ],
   "source": [
    "set([1,2,3,4,5,6])"
   ]
  },
  {
   "cell_type": "code",
   "execution_count": 45,
   "id": "a0f58d01-1514-447b-b1e4-e06827bf9d07",
   "metadata": {},
   "outputs": [
    {
     "data": {
      "text/plain": [
       "{1, 2, 3, 4, 5, 57}"
      ]
     },
     "execution_count": 45,
     "metadata": {},
     "output_type": "execute_result"
    }
   ],
   "source": [
    "set((1,2,3,4,5,3,4,57,3))"
   ]
  },
  {
   "cell_type": "markdown",
   "id": "25ee88c0-56ad-4bed-a172-a0112a25bdc5",
   "metadata": {},
   "source": [
    "# if i want to add something in set there is a function add()"
   ]
  },
  {
   "cell_type": "code",
   "execution_count": 46,
   "id": "39409b5c-f9b2-43df-bceb-f628b2132a57",
   "metadata": {},
   "outputs": [],
   "source": [
    "myset.add(10000)"
   ]
  },
  {
   "cell_type": "code",
   "execution_count": 47,
   "id": "cba95de7-7f64-42f5-994a-0b36e2b3ae04",
   "metadata": {},
   "outputs": [
    {
     "data": {
      "text/plain": [
       "{1, 10.5, 10000, 'hello'}"
      ]
     },
     "execution_count": 47,
     "metadata": {},
     "output_type": "execute_result"
    }
   ],
   "source": [
    "myset"
   ]
  },
  {
   "cell_type": "markdown",
   "id": "f23bac4a-6356-4384-8736-9c0b3950142b",
   "metadata": {},
   "source": [
    "# clear()"
   ]
  },
  {
   "cell_type": "code",
   "execution_count": 48,
   "id": "2a1d2d39-312d-461d-82c8-21a69771e4a2",
   "metadata": {},
   "outputs": [],
   "source": [
    "myset.clear()"
   ]
  },
  {
   "cell_type": "code",
   "execution_count": 49,
   "id": "3f1fbfc1-75d4-4138-b623-421ac4d28763",
   "metadata": {},
   "outputs": [
    {
     "data": {
      "text/plain": [
       "set()"
      ]
     },
     "execution_count": 49,
     "metadata": {},
     "output_type": "execute_result"
    }
   ],
   "source": [
    "myset"
   ]
  },
  {
   "cell_type": "markdown",
   "id": "984137d8-6bc2-41a0-97a2-c9cfb7a13b15",
   "metadata": {},
   "source": [
    "# pop()"
   ]
  },
  {
   "cell_type": "code",
   "execution_count": 50,
   "id": "8d2214b4-eefa-4693-a3dd-56b751f7764c",
   "metadata": {},
   "outputs": [],
   "source": [
    "myset={1, 10.5, 10000, 'hello'}\n"
   ]
  },
  {
   "cell_type": "code",
   "execution_count": 51,
   "id": "16e86c37-b1fd-4923-ad80-b632df56f69e",
   "metadata": {},
   "outputs": [
    {
     "data": {
      "text/plain": [
       "10000"
      ]
     },
     "execution_count": 51,
     "metadata": {},
     "output_type": "execute_result"
    }
   ],
   "source": [
    "myset.pop()"
   ]
  },
  {
   "cell_type": "markdown",
   "id": "e4a8c641-2d8e-4586-90c1-53234c1cb258",
   "metadata": {},
   "source": [
    "# This method is different from the discard() method, because the remove() method will raise an error if the specified item does not exist, and the discard() method will not."
   ]
  },
  {
   "cell_type": "code",
   "execution_count": 52,
   "id": "6a8af2c1-7066-4d71-b234-66c1a557a3a4",
   "metadata": {},
   "outputs": [
    {
     "name": "stdout",
     "output_type": "stream",
     "text": [
      "{'cherry', 'apple'}\n"
     ]
    }
   ],
   "source": [
    "fruits = {\"apple\", \"banana\", \"cherry\"}\n",
    "\n",
    "fruits.remove(\"banana\")\n",
    "\n",
    "print(fruits)"
   ]
  },
  {
   "cell_type": "code",
   "execution_count": 53,
   "id": "d3e5b175-92d6-489f-91ae-dbd1370d72c0",
   "metadata": {},
   "outputs": [
    {
     "data": {
      "text/plain": [
       "{'apple', 'cherry'}"
      ]
     },
     "execution_count": 53,
     "metadata": {},
     "output_type": "execute_result"
    }
   ],
   "source": [
    "fruits.discard(\"peru\")  # did not raised error\n",
    "fruits"
   ]
  },
  {
   "cell_type": "markdown",
   "id": "cd30eb6d-7b09-4e8f-a9cd-1fe35132ac39",
   "metadata": {},
   "source": [
    "# update()\n",
    "# The update() method updates the current set, by adding items from another set (or any other iterable).\n",
    "# If an item is present in both sets, only one appearance of this item will be present in the updated set.\n"
   ]
  },
  {
   "cell_type": "code",
   "execution_count": 54,
   "id": "24dd287e-5f72-4dc6-a7a2-cb07911d60c1",
   "metadata": {},
   "outputs": [
    {
     "name": "stdout",
     "output_type": "stream",
     "text": [
      "{'microsoft', 'cherry', 'google', 'apple', 'banana'}\n"
     ]
    }
   ],
   "source": [
    "x = {\"apple\", \"banana\", \"cherry\"}\n",
    "y = {\"google\", \"microsoft\", \"apple\"}\n",
    "\n",
    "x.update(y)\n",
    "\n",
    "print(x)"
   ]
  },
  {
   "cell_type": "code",
   "execution_count": null,
   "id": "eff627e8-c9c3-4d5e-8c0a-16ba49d97b83",
   "metadata": {},
   "outputs": [],
   "source": []
  },
  {
   "cell_type": "markdown",
   "id": "b342c999-2e01-4850-9e8b-26a44ea69c3d",
   "metadata": {},
   "source": [
    "# copy()"
   ]
  },
  {
   "cell_type": "code",
   "execution_count": 55,
   "id": "e08db171-0813-404a-be1b-521aad29832f",
   "metadata": {},
   "outputs": [],
   "source": [
    "myset={1,234,46,67,6,465,68,8}"
   ]
  },
  {
   "cell_type": "code",
   "execution_count": 56,
   "id": "2cac2abb-ec3a-4a54-a1ec-562566fb30c3",
   "metadata": {},
   "outputs": [
    {
     "data": {
      "text/plain": [
       "{1, 6, 8, 46, 67, 68, 234, 465}"
      ]
     },
     "execution_count": 56,
     "metadata": {},
     "output_type": "execute_result"
    }
   ],
   "source": [
    "myset.copy()"
   ]
  },
  {
   "cell_type": "code",
   "execution_count": 57,
   "id": "1ebf0fae-ad7a-41d1-be37-ec37f1829804",
   "metadata": {},
   "outputs": [
    {
     "data": {
      "text/plain": [
       "{1, 6, 8, 46, 67, 68, 234, 465}"
      ]
     },
     "execution_count": 57,
     "metadata": {},
     "output_type": "execute_result"
    }
   ],
   "source": [
    "myset"
   ]
  },
  {
   "cell_type": "markdown",
   "id": "34b1f73c-3712-4ba1-aa29-84b1229c83d6",
   "metadata": {},
   "source": [
    "# pop()"
   ]
  },
  {
   "cell_type": "code",
   "execution_count": 58,
   "id": "47e2ea57-1771-4e9d-8bcd-0236f0fe3f4a",
   "metadata": {},
   "outputs": [
    {
     "data": {
      "text/plain": [
       "1"
      ]
     },
     "execution_count": 58,
     "metadata": {},
     "output_type": "execute_result"
    }
   ],
   "source": [
    "myset.pop()"
   ]
  },
  {
   "cell_type": "code",
   "execution_count": 59,
   "id": "01578ab0-b0ef-4edb-b26d-fe35ae4eda60",
   "metadata": {},
   "outputs": [
    {
     "data": {
      "text/plain": [
       "{6, 8, 46, 67, 68, 234, 465}"
      ]
     },
     "execution_count": 59,
     "metadata": {},
     "output_type": "execute_result"
    }
   ],
   "source": [
    "myset"
   ]
  },
  {
   "cell_type": "code",
   "execution_count": 60,
   "id": "c61840f3-e308-4813-8206-d919317d16e9",
   "metadata": {},
   "outputs": [
    {
     "data": {
      "text/plain": [
       "67"
      ]
     },
     "execution_count": 60,
     "metadata": {},
     "output_type": "execute_result"
    }
   ],
   "source": [
    "myset.pop()"
   ]
  },
  {
   "cell_type": "code",
   "execution_count": 61,
   "id": "e57f4e03-4c78-4c4c-8179-28734325d991",
   "metadata": {},
   "outputs": [
    {
     "data": {
      "text/plain": [
       "{6, 8, 46, 68, 234, 465}"
      ]
     },
     "execution_count": 61,
     "metadata": {},
     "output_type": "execute_result"
    }
   ],
   "source": [
    "myset"
   ]
  },
  {
   "cell_type": "markdown",
   "id": "db08b0b0-28b9-4365-8156-6c0ed9db59d8",
   "metadata": {},
   "source": [
    "# remove()"
   ]
  },
  {
   "cell_type": "code",
   "execution_count": 63,
   "id": "8cadb3f4-fcf9-4930-87d2-25de81c9c30e",
   "metadata": {},
   "outputs": [],
   "source": [
    "myset.remove(8)"
   ]
  },
  {
   "cell_type": "code",
   "execution_count": 64,
   "id": "d9126784-1e18-48f4-b349-fd0080e7f548",
   "metadata": {},
   "outputs": [
    {
     "data": {
      "text/plain": [
       "{6, 46, 68, 234, 465}"
      ]
     },
     "execution_count": 64,
     "metadata": {},
     "output_type": "execute_result"
    }
   ],
   "source": [
    "myset"
   ]
  },
  {
   "cell_type": "markdown",
   "id": "7c83c7c8-d33f-434f-afda-4ee3f3d51853",
   "metadata": {},
   "source": [
    "# union()\n",
    "\n",
    "# Return a set that contains all items from both sets, duplicates are excluded"
   ]
  },
  {
   "cell_type": "code",
   "execution_count": 65,
   "id": "ec266657-a22d-4da9-a671-611e21da219d",
   "metadata": {},
   "outputs": [
    {
     "name": "stdout",
     "output_type": "stream",
     "text": [
      "{'microsoft', 'cherry', 'google', 'apple', 'banana'}\n"
     ]
    }
   ],
   "source": [
    "x = {\"apple\", \"banana\", \"cherry\"}\n",
    "y = {\"google\", \"microsoft\", \"apple\"}\n",
    "\n",
    "z = x.union(y)\n",
    "\n",
    "print(z)"
   ]
  },
  {
   "cell_type": "code",
   "execution_count": 66,
   "id": "63c95987-d1e9-4d31-8865-568452b42c45",
   "metadata": {},
   "outputs": [
    {
     "name": "stdout",
     "output_type": "stream",
     "text": [
      "{'a', 'd', 'c', 'b', 'e', 'f'}\n"
     ]
    }
   ],
   "source": [
    "x = {\"a\", \"b\", \"c\"}\n",
    "y = {\"f\", \"d\", \"a\"}\n",
    "z = {\"c\", \"d\", \"e\"}\n",
    "\n",
    "result = x.union(y, z)\n",
    "\n",
    "print(result)"
   ]
  },
  {
   "cell_type": "markdown",
   "id": "9c1e6766-520f-4821-98d4-874452cdd6f6",
   "metadata": {},
   "source": [
    "# difference()\n",
    "# Return a set that contains the items that only exist in set x, and not in set y"
   ]
  },
  {
   "cell_type": "code",
   "execution_count": 69,
   "id": "6ef354b4-fbe7-4623-82b2-2557d4f18ec7",
   "metadata": {},
   "outputs": [
    {
     "name": "stdout",
     "output_type": "stream",
     "text": [
      "{'cherry', 'banana'}\n"
     ]
    }
   ],
   "source": [
    "x = {\"apple\", \"banana\", \"cherry\"}\n",
    "y = {\"google\", \"microsoft\", \"apple\"}\n",
    "\n",
    "z = x.difference(y)\n",
    "\n",
    "print(z)"
   ]
  },
  {
   "cell_type": "markdown",
   "id": "6b5e13e3-7069-4dd0-b474-79df39241b2d",
   "metadata": {},
   "source": [
    "# difference_update()\n",
    "# The difference_update() method removes the items that exist in both sets.\n",
    "# The difference_update() method is different from the difference() method, because the difference() method returns a new set, without the unwanted items, and the difference_update() method removes the unwanted items from the original set.\n",
    "\n"
   ]
  },
  {
   "cell_type": "code",
   "execution_count": 70,
   "id": "c5b2e5dc-7c38-4473-964e-19e73033ea73",
   "metadata": {},
   "outputs": [
    {
     "name": "stdout",
     "output_type": "stream",
     "text": [
      "{'cherry', 'banana'}\n"
     ]
    }
   ],
   "source": [
    "x = {\"apple\", \"banana\", \"cherry\"}\n",
    "y = {\"google\", \"microsoft\", \"apple\"}\n",
    "\n",
    "x.difference_update(y)\n",
    "\n",
    "print(x)"
   ]
  },
  {
   "cell_type": "markdown",
   "id": "0d65794e-9b81-4008-b6c4-fbdff42e1500",
   "metadata": {},
   "source": [
    "# intersection()\n",
    "# Return a set that contains the items that exist in both set x, and set y"
   ]
  },
  {
   "cell_type": "code",
   "execution_count": 71,
   "id": "66262377-5751-4912-b33f-532ffe037ff5",
   "metadata": {},
   "outputs": [
    {
     "name": "stdout",
     "output_type": "stream",
     "text": [
      "{'apple'}\n"
     ]
    }
   ],
   "source": [
    "x = {\"apple\", \"banana\", \"cherry\"}\n",
    "y = {\"google\", \"microsoft\", \"apple\"}\n",
    "\n",
    "z = x.intersection(y)\n",
    "\n",
    "print(z)"
   ]
  },
  {
   "cell_type": "code",
   "execution_count": 72,
   "id": "354e1903-116c-4276-ba60-39f4e978a6e9",
   "metadata": {},
   "outputs": [
    {
     "name": "stdout",
     "output_type": "stream",
     "text": [
      "{'c'}\n"
     ]
    }
   ],
   "source": [
    "x = {\"a\", \"b\", \"c\"}\n",
    "y = {\"c\", \"d\", \"e\"}\n",
    "z = {\"f\", \"g\", \"c\"}\n",
    "\n",
    "result = x.intersection(y, z)\n",
    "\n",
    "print(result)"
   ]
  },
  {
   "cell_type": "markdown",
   "id": "dea185aa-b188-412c-a22e-db3e48f23d8f",
   "metadata": {},
   "source": [
    "# intersection_update()\n",
    "# Remove the items that is not present in both x and y\n",
    "\n",
    "# The intersection_update() method is different from the intersection() method, because the intersection() method returns a new set, without the unwanted items, and the intersection_update() method removes the unwanted items from the original set.\n"
   ]
  },
  {
   "cell_type": "code",
   "execution_count": 73,
   "id": "f53222b2-9c03-4773-8721-3a77451d9749",
   "metadata": {},
   "outputs": [
    {
     "name": "stdout",
     "output_type": "stream",
     "text": [
      "{'apple'}\n"
     ]
    }
   ],
   "source": [
    "x = {\"apple\", \"banana\", \"cherry\"}\n",
    "y = {\"google\", \"microsoft\", \"apple\"}\n",
    "\n",
    "x.intersection_update(y)\n",
    "\n",
    "print(x)"
   ]
  },
  {
   "cell_type": "markdown",
   "id": "2da64c8b-2ca7-4edf-9f7a-98df54451e25",
   "metadata": {},
   "source": [
    "# symmetric_difference()\n",
    "# Return a set that contains all items from both sets, except items that are present in both sets"
   ]
  },
  {
   "cell_type": "code",
   "execution_count": 74,
   "id": "546738f3-9eda-4d98-bf3b-87b428a4e990",
   "metadata": {},
   "outputs": [
    {
     "name": "stdout",
     "output_type": "stream",
     "text": [
      "{'cherry', 'google', 'banana', 'microsoft'}\n"
     ]
    }
   ],
   "source": [
    "x = {\"apple\", \"banana\", \"cherry\"}\n",
    "y = {\"google\", \"microsoft\", \"apple\"}\n",
    "\n",
    "z = x.symmetric_difference(y)\n",
    "\n",
    "print(z)"
   ]
  },
  {
   "cell_type": "markdown",
   "id": "17399a40-35cc-43ba-ad01-13a49a86ced7",
   "metadata": {},
   "source": [
    "# symmetric_difference_update()\n",
    "# Remove the items that are present in both sets, AND insert the items that is not present in both sets:"
   ]
  },
  {
   "cell_type": "code",
   "execution_count": 75,
   "id": "ece3bc0d-7adb-43a7-bed5-cf8b259728db",
   "metadata": {},
   "outputs": [
    {
     "name": "stdout",
     "output_type": "stream",
     "text": [
      "{'cherry', 'google', 'banana', 'microsoft'}\n"
     ]
    }
   ],
   "source": [
    "x = {\"apple\", \"banana\", \"cherry\"}\n",
    "y = {\"google\", \"microsoft\", \"apple\"}\n",
    "\n",
    "x.symmetric_difference_update(y)\n",
    "\n",
    "print(x)"
   ]
  },
  {
   "cell_type": "markdown",
   "id": "775b1b3c-ed86-4e5b-8138-8feafd09f940",
   "metadata": {},
   "source": [
    "# isdisjoint()\n",
    "# Return True if no items in set x is present in set y"
   ]
  },
  {
   "cell_type": "code",
   "execution_count": 76,
   "id": "340c47f7-ff78-43fa-bb7d-e289279b733a",
   "metadata": {},
   "outputs": [
    {
     "name": "stdout",
     "output_type": "stream",
     "text": [
      "True\n"
     ]
    }
   ],
   "source": [
    "x = {\"apple\", \"banana\", \"cherry\"}\n",
    "y = {\"google\", \"microsoft\", \"facebook\"}\n",
    "\n",
    "z = x.isdisjoint(y)\n",
    "\n",
    "print(z)"
   ]
  },
  {
   "cell_type": "code",
   "execution_count": 77,
   "id": "7b8505c5-fa56-48aa-8962-0649686031ac",
   "metadata": {},
   "outputs": [
    {
     "name": "stdout",
     "output_type": "stream",
     "text": [
      "False\n"
     ]
    }
   ],
   "source": [
    "x = {\"apple\", \"banana\", \"cherry\"}\n",
    "y = {\"google\", \"microsoft\", \"apple\"}\n",
    "\n",
    "z = x.isdisjoint(y)\n",
    "\n",
    "print(z)"
   ]
  },
  {
   "cell_type": "markdown",
   "id": "c00363e2-f27e-4b89-852c-84e7e66a14c4",
   "metadata": {},
   "source": [
    "# issubset()\n",
    "# Return True if all items in set x are present in set y"
   ]
  },
  {
   "cell_type": "code",
   "execution_count": 78,
   "id": "e18995ba-14d2-4a32-81df-14d2e59f81fa",
   "metadata": {},
   "outputs": [
    {
     "name": "stdout",
     "output_type": "stream",
     "text": [
      "True\n"
     ]
    }
   ],
   "source": [
    "x = {\"a\", \"b\", \"c\"}\n",
    "y = {\"f\", \"e\", \"d\", \"c\", \"b\", \"a\"}\n",
    "\n",
    "z = x.issubset(y)\n",
    "\n",
    "print(z)"
   ]
  },
  {
   "cell_type": "code",
   "execution_count": 79,
   "id": "1c3057b6-f9de-4332-90f7-9fcc5f512c20",
   "metadata": {},
   "outputs": [
    {
     "name": "stdout",
     "output_type": "stream",
     "text": [
      "False\n"
     ]
    }
   ],
   "source": [
    "x = {\"a\", \"b\", \"c\"}\n",
    "y = {\"f\", \"e\", \"d\", \"c\", \"b\"}\n",
    "\n",
    "z = x.issubset(y)\n",
    "\n",
    "print(z)"
   ]
  },
  {
   "cell_type": "markdown",
   "id": "d75e83a0-1360-438f-ab9e-41b24e16279b",
   "metadata": {},
   "source": [
    "# issuperset()\n",
    "# Return True if all items set y are present in set x"
   ]
  },
  {
   "cell_type": "code",
   "execution_count": 80,
   "id": "c80af814-4394-4253-8003-120929f96c8a",
   "metadata": {},
   "outputs": [
    {
     "name": "stdout",
     "output_type": "stream",
     "text": [
      "True\n"
     ]
    }
   ],
   "source": [
    "x = {\"f\", \"e\", \"d\", \"c\", \"b\", \"a\"}\n",
    "y = {\"a\", \"b\", \"c\"}\n",
    "\n",
    "z = x.issuperset(y)\n",
    "\n",
    "print(z)"
   ]
  },
  {
   "cell_type": "code",
   "execution_count": null,
   "id": "31492ca3-fd90-4340-9f95-11c49452c80c",
   "metadata": {},
   "outputs": [],
   "source": []
  }
 ],
 "metadata": {
  "kernelspec": {
   "display_name": "Python 3 (ipykernel)",
   "language": "python",
   "name": "python3"
  },
  "language_info": {
   "codemirror_mode": {
    "name": "ipython",
    "version": 3
   },
   "file_extension": ".py",
   "mimetype": "text/x-python",
   "name": "python",
   "nbconvert_exporter": "python",
   "pygments_lexer": "ipython3",
   "version": "3.10.6"
  }
 },
 "nbformat": 4,
 "nbformat_minor": 5
}
