{
 "cells": [
  {
   "cell_type": "markdown",
   "id": "d5a02bd7-4122-45a5-9807-5b0ae7a516e7",
   "metadata": {},
   "source": [
    "# List"
   ]
  },
  {
   "cell_type": "code",
   "execution_count": 1,
   "id": "8f0ce18a-78df-4664-b59f-5ea71e233993",
   "metadata": {},
   "outputs": [],
   "source": [
    "mylist=[]  #empty list"
   ]
  },
  {
   "cell_type": "code",
   "execution_count": 2,
   "id": "9d690eb0-f710-4c99-9130-3030ce2c9cc9",
   "metadata": {},
   "outputs": [
    {
     "data": {
      "text/plain": [
       "[]"
      ]
     },
     "execution_count": 2,
     "metadata": {},
     "output_type": "execute_result"
    }
   ],
   "source": [
    "mylist"
   ]
  },
  {
   "cell_type": "code",
   "execution_count": 3,
   "id": "5e00c3c1-0184-47bd-a792-9c88bacb7a6f",
   "metadata": {},
   "outputs": [
    {
     "data": {
      "text/plain": [
       "[1, 2, 3, 4, 5]"
      ]
     },
     "execution_count": 3,
     "metadata": {},
     "output_type": "execute_result"
    }
   ],
   "source": [
    "mylist=[1,2,3,4,5]   #homogenous list--similar datatypes\n",
    "mylist"
   ]
  },
  {
   "cell_type": "code",
   "execution_count": 4,
   "id": "06f51871-65c4-43e2-9c94-b4685dd0d7c3",
   "metadata": {},
   "outputs": [
    {
     "data": {
      "text/plain": [
       "[1, 'hello', 34.5]"
      ]
     },
     "execution_count": 4,
     "metadata": {},
     "output_type": "execute_result"
    }
   ],
   "source": [
    "mylist=[1,'hello',34.5]       #heterogenous list ---difft dtypes\n",
    "mylist "
   ]
  },
  {
   "cell_type": "code",
   "execution_count": 5,
   "id": "f2f10188-d8b9-4074-a34b-0fc6779c348c",
   "metadata": {},
   "outputs": [
    {
     "data": {
      "text/plain": [
       "[]"
      ]
     },
     "execution_count": 5,
     "metadata": {},
     "output_type": "execute_result"
    }
   ],
   "source": [
    "list() # is a function accepts collection of data"
   ]
  },
  {
   "cell_type": "code",
   "execution_count": 6,
   "id": "00d859e6-6ba4-47da-baa8-e966ab6868f5",
   "metadata": {},
   "outputs": [
    {
     "ename": "TypeError",
     "evalue": "'int' object is not iterable",
     "output_type": "error",
     "traceback": [
      "\u001b[0;31m---------------------------------------------------------------------------\u001b[0m",
      "\u001b[0;31mTypeError\u001b[0m                                 Traceback (most recent call last)",
      "Cell \u001b[0;32mIn [6], line 1\u001b[0m\n\u001b[0;32m----> 1\u001b[0m \u001b[38;5;28;43mlist\u001b[39;49m\u001b[43m(\u001b[49m\u001b[38;5;241;43m10\u001b[39;49m\u001b[43m)\u001b[49m\n",
      "\u001b[0;31mTypeError\u001b[0m: 'int' object is not iterable"
     ]
    }
   ],
   "source": [
    "#iterable\n",
    "list(10)"
   ]
  },
  {
   "cell_type": "code",
   "execution_count": 7,
   "id": "5500ce94-c669-4d4d-87dc-dea2b4806d37",
   "metadata": {},
   "outputs": [
    {
     "data": {
      "text/plain": [
       "['p', 'r', 'e', 'e', 't', 'i']"
      ]
     },
     "execution_count": 7,
     "metadata": {},
     "output_type": "execute_result"
    }
   ],
   "source": [
    "list('preeti')"
   ]
  },
  {
   "cell_type": "code",
   "execution_count": 8,
   "id": "702c1527-d852-4d8d-b46b-30cccd937967",
   "metadata": {},
   "outputs": [
    {
     "data": {
      "text/plain": [
       "[1, 2, 3]"
      ]
     },
     "execution_count": 8,
     "metadata": {},
     "output_type": "execute_result"
    }
   ],
   "source": [
    "list([1,2,3])"
   ]
  },
  {
   "cell_type": "code",
   "execution_count": 9,
   "id": "09c0a80c-fb59-4adc-aaad-95a79c3677aa",
   "metadata": {},
   "outputs": [
    {
     "data": {
      "text/plain": [
       "[1, 2, 3]"
      ]
     },
     "execution_count": 9,
     "metadata": {},
     "output_type": "execute_result"
    }
   ],
   "source": [
    "list((1,2,3))"
   ]
  },
  {
   "cell_type": "markdown",
   "id": "71eb084e-d9f5-4a9c-bd17-b5eebde4079f",
   "metadata": {},
   "source": [
    "# access elt of list\n",
    "\n"
   ]
  },
  {
   "cell_type": "code",
   "execution_count": 1,
   "id": "fe7d29d1-0b79-4292-a5a4-7d07ff0385e6",
   "metadata": {},
   "outputs": [
    {
     "data": {
      "text/plain": [
       "4"
      ]
     },
     "execution_count": 1,
     "metadata": {},
     "output_type": "execute_result"
    }
   ],
   "source": [
    "mylist=[1,2,3,4,5]\n",
    "mylist[3]"
   ]
  },
  {
   "cell_type": "code",
   "execution_count": 13,
   "id": "a9656dc7-b45b-44ec-9da7-4dd79a9235a2",
   "metadata": {},
   "outputs": [
    {
     "data": {
      "text/plain": [
       "5"
      ]
     },
     "execution_count": 13,
     "metadata": {},
     "output_type": "execute_result"
    }
   ],
   "source": [
    "mylist[-1]"
   ]
  },
  {
   "cell_type": "code",
   "execution_count": 15,
   "id": "91f9ed3a-7b65-440e-9602-2e0921bdfb07",
   "metadata": {},
   "outputs": [
    {
     "data": {
      "text/plain": [
       "[1, 2, 3, 4, 5]"
      ]
     },
     "execution_count": 15,
     "metadata": {},
     "output_type": "execute_result"
    }
   ],
   "source": [
    "mylist[:]"
   ]
  },
  {
   "cell_type": "code",
   "execution_count": 2,
   "id": "9d305f48-c3e1-4931-bfde-4410f0fd8c26",
   "metadata": {},
   "outputs": [
    {
     "data": {
      "text/plain": [
       "[2, 3]"
      ]
     },
     "execution_count": 2,
     "metadata": {},
     "output_type": "execute_result"
    }
   ],
   "source": [
    "mylist[1:3]"
   ]
  },
  {
   "cell_type": "code",
   "execution_count": 12,
   "id": "e40b8797-6dcf-4b2b-9d90-6c9c8c8fef10",
   "metadata": {},
   "outputs": [
    {
     "data": {
      "text/plain": [
       "[20, 30, 40]"
      ]
     },
     "execution_count": 12,
     "metadata": {},
     "output_type": "execute_result"
    }
   ],
   "source": [
    "mynum=[10,20,30,40,50]\n",
    "mynum[1:4]"
   ]
  },
  {
   "cell_type": "code",
   "execution_count": 13,
   "id": "648bc936-fdb8-4036-aea9-8ba910eed506",
   "metadata": {},
   "outputs": [
    {
     "data": {
      "text/plain": [
       "[40, 50]"
      ]
     },
     "execution_count": 13,
     "metadata": {},
     "output_type": "execute_result"
    }
   ],
   "source": [
    "mynum[3:5]"
   ]
  },
  {
   "cell_type": "code",
   "execution_count": 14,
   "id": "9f7e6664-b350-4ab8-820b-4ba2a7991f51",
   "metadata": {},
   "outputs": [
    {
     "data": {
      "text/plain": [
       "[]"
      ]
     },
     "execution_count": 14,
     "metadata": {},
     "output_type": "execute_result"
    }
   ],
   "source": [
    "mynum[2:2]"
   ]
  },
  {
   "cell_type": "code",
   "execution_count": 15,
   "id": "203b2b47-9c13-4263-a1fc-1aeb7684836f",
   "metadata": {},
   "outputs": [
    {
     "data": {
      "text/plain": [
       "[20, 30, 40, 50]"
      ]
     },
     "execution_count": 15,
     "metadata": {},
     "output_type": "execute_result"
    }
   ],
   "source": [
    "mynum[1:]"
   ]
  },
  {
   "cell_type": "code",
   "execution_count": 16,
   "id": "38c86dc6-4143-4cb0-acc8-f7c339fe1d16",
   "metadata": {},
   "outputs": [
    {
     "data": {
      "text/plain": [
       "[10, 20, 30]"
      ]
     },
     "execution_count": 16,
     "metadata": {},
     "output_type": "execute_result"
    }
   ],
   "source": [
    "mynum[:-2]"
   ]
  },
  {
   "cell_type": "markdown",
   "id": "583a51ed-2a1e-45c9-bb79-16be0cff5b2b",
   "metadata": {},
   "source": [
    "# Modying element in list\n"
   ]
  },
  {
   "cell_type": "code",
   "execution_count": 18,
   "id": "96d9c4cd-2457-4ff2-ada3-729b69d709e8",
   "metadata": {},
   "outputs": [],
   "source": [
    "sports=['cricket','hockey','football']\n",
    "sports[1]='Badminton'"
   ]
  },
  {
   "cell_type": "code",
   "execution_count": 20,
   "id": "c2ad3359-c8c4-4bcc-a828-f6dc860f4039",
   "metadata": {},
   "outputs": [
    {
     "data": {
      "text/plain": [
       "['cricket', 'Badminton', 'football']"
      ]
     },
     "execution_count": 20,
     "metadata": {},
     "output_type": "execute_result"
    }
   ],
   "source": [
    "sports"
   ]
  },
  {
   "cell_type": "markdown",
   "id": "6db52f48-0f6e-4526-af50-e1c45ca6a2e7",
   "metadata": {},
   "source": [
    "# slicing operator for multiple value"
   ]
  },
  {
   "cell_type": "code",
   "execution_count": 23,
   "id": "67275e12-9c8e-4511-a4ab-7097e5ef270e",
   "metadata": {},
   "outputs": [],
   "source": [
    "sports[1:3]=['basketball','tennis']"
   ]
  },
  {
   "cell_type": "code",
   "execution_count": 24,
   "id": "12be11f6-31b1-4e50-b4a9-14e3ccffdc83",
   "metadata": {},
   "outputs": [
    {
     "data": {
      "text/plain": [
       "['cricket', 'basketball', 'tennis']"
      ]
     },
     "execution_count": 24,
     "metadata": {},
     "output_type": "execute_result"
    }
   ],
   "source": [
    "sports"
   ]
  },
  {
   "cell_type": "code",
   "execution_count": 25,
   "id": "70a24e19-cb89-47e5-8932-2d62caa042df",
   "metadata": {},
   "outputs": [],
   "source": [
    "outdoorgames=['cricket', 'basketball', 'tennis']"
   ]
  },
  {
   "cell_type": "code",
   "execution_count": 26,
   "id": "c3f570f6-3178-40d9-8357-f508278ca87f",
   "metadata": {},
   "outputs": [],
   "source": [
    "indoorgames=['carrom','chess','ludo']"
   ]
  },
  {
   "cell_type": "code",
   "execution_count": 27,
   "id": "3a71c8b3-a313-454d-80f3-5afc5040620f",
   "metadata": {},
   "outputs": [
    {
     "data": {
      "text/plain": [
       "['cricket', 'basketball', 'tennis', 'carrom', 'chess', 'ludo']"
      ]
     },
     "execution_count": 27,
     "metadata": {},
     "output_type": "execute_result"
    }
   ],
   "source": [
    "#concatenate strings\n",
    "allsports=outdoorgames+indoorgames\n",
    "allsports"
   ]
  },
  {
   "cell_type": "code",
   "execution_count": 29,
   "id": "e38ff276-a7ef-4ba3-8629-6ffe42ef8137",
   "metadata": {},
   "outputs": [],
   "source": [
    "team=['preeti','rishi','roy']\n"
   ]
  },
  {
   "cell_type": "code",
   "execution_count": 30,
   "id": "fc75cd76-acc9-4242-bb31-5e58a5af28a8",
   "metadata": {},
   "outputs": [
    {
     "ename": "TypeError",
     "evalue": "can only concatenate list (not \"str\") to list",
     "output_type": "error",
     "traceback": [
      "\u001b[0;31m---------------------------------------------------------------------------\u001b[0m",
      "\u001b[0;31mTypeError\u001b[0m                                 Traceback (most recent call last)",
      "Cell \u001b[0;32mIn [30], line 1\u001b[0m\n\u001b[0;32m----> 1\u001b[0m \u001b[43mteam\u001b[49m\u001b[43m \u001b[49m\u001b[38;5;241;43m+\u001b[39;49m\u001b[38;5;124;43m'\u001b[39;49m\u001b[38;5;124;43msahil\u001b[39;49m\u001b[38;5;124;43m'\u001b[39;49m\n",
      "\u001b[0;31mTypeError\u001b[0m: can only concatenate list (not \"str\") to list"
     ]
    }
   ],
   "source": [
    "team +'sahil'"
   ]
  },
  {
   "cell_type": "code",
   "execution_count": 32,
   "id": "dc90f74a-fdf4-4657-885f-aa8357b52881",
   "metadata": {},
   "outputs": [
    {
     "data": {
      "text/plain": [
       "['preeti', 'rishi', 'roy', 's', 'a', 'h', 'i', 'l']"
      ]
     },
     "execution_count": 32,
     "metadata": {},
     "output_type": "execute_result"
    }
   ],
   "source": [
    "team + list('sahil')"
   ]
  },
  {
   "cell_type": "code",
   "execution_count": 33,
   "id": "d68175e0-05d2-46fd-94de-7bac5d26e266",
   "metadata": {},
   "outputs": [
    {
     "data": {
      "text/plain": [
       "['preeti', 'rishi', 'roy', 'sahil']"
      ]
     },
     "execution_count": 33,
     "metadata": {},
     "output_type": "execute_result"
    }
   ],
   "source": [
    "team +list(['sahil'])"
   ]
  },
  {
   "cell_type": "code",
   "execution_count": 36,
   "id": "b4ef3a5f-9847-4e8c-b878-9af934423fd9",
   "metadata": {},
   "outputs": [
    {
     "data": {
      "text/plain": [
       "['preeti', 'rishi', 'roy', 'sahil']"
      ]
     },
     "execution_count": 36,
     "metadata": {},
     "output_type": "execute_result"
    }
   ],
   "source": [
    "team1= team + list(['sahil'])\n",
    "team1"
   ]
  },
  {
   "cell_type": "code",
   "execution_count": 37,
   "id": "f5691518-a1fe-4e8a-a4ef-7ad64cc33f38",
   "metadata": {},
   "outputs": [
    {
     "data": {
      "text/plain": [
       "['preeti', 'rishi', 'roy', 'sahil', 'chiku']"
      ]
     },
     "execution_count": 37,
     "metadata": {},
     "output_type": "execute_result"
    }
   ],
   "source": [
    "team1 + ['chiku']"
   ]
  },
  {
   "cell_type": "code",
   "execution_count": 38,
   "id": "45ae0435-3bf5-453c-99a5-a5c7ef684e4f",
   "metadata": {},
   "outputs": [
    {
     "data": {
      "text/plain": [
       "['preeti', 'rishi', 'roy', 'sahil', 'preeti', 'rishi', 'roy', 'sahil']"
      ]
     },
     "execution_count": 38,
     "metadata": {},
     "output_type": "execute_result"
    }
   ],
   "source": [
    "team1*2"
   ]
  },
  {
   "cell_type": "markdown",
   "id": "7480bfc1-8bf8-411e-9d2c-0c14696144ad",
   "metadata": {},
   "source": [
    "# membership opertor in and not in "
   ]
  },
  {
   "cell_type": "code",
   "execution_count": 40,
   "id": "9b371c15-4d79-4ef3-be15-64839d6f7c7b",
   "metadata": {},
   "outputs": [
    {
     "data": {
      "text/plain": [
       "True"
      ]
     },
     "execution_count": 40,
     "metadata": {},
     "output_type": "execute_result"
    }
   ],
   "source": [
    "'preeti' in team"
   ]
  },
  {
   "cell_type": "code",
   "execution_count": 41,
   "id": "e21aa011-7101-44ec-ab7a-d218a397b487",
   "metadata": {},
   "outputs": [
    {
     "data": {
      "text/plain": [
       "False"
      ]
     },
     "execution_count": 41,
     "metadata": {},
     "output_type": "execute_result"
    }
   ],
   "source": [
    "'rohit' in team"
   ]
  },
  {
   "cell_type": "code",
   "execution_count": 42,
   "id": "2136789b-8912-41ad-ba3e-be66ea5bc359",
   "metadata": {},
   "outputs": [
    {
     "data": {
      "text/plain": [
       "False"
      ]
     },
     "execution_count": 42,
     "metadata": {},
     "output_type": "execute_result"
    }
   ],
   "source": [
    "'P' in 'preeti'"
   ]
  },
  {
   "cell_type": "markdown",
   "id": "ef2a03ab-a3c6-4e58-8014-88e2a375477b",
   "metadata": {},
   "source": [
    "# List Functions\n",
    "1. len()\n",
    "2. max()\n",
    "3. min()\n",
    "4. sum()\n",
    "5. sorted()\n",
    "6. any()\n",
    "7. all()\n",
    "8. list()"
   ]
  },
  {
   "cell_type": "markdown",
   "id": "8c050ea3-6338-4d81-a72b-a70e67ac8b67",
   "metadata": {},
   "source": [
    "# List Methods\n",
    "1. append()\n",
    "2. extend()\n",
    "3. insert()\n",
    "4. index()\n",
    "5. count()\n",
    "6. remove()\n",
    "7. pop()\n",
    "8. clear()\n",
    "9. reverse()\n",
    "10. sort()"
   ]
  },
  {
   "cell_type": "code",
   "execution_count": 3,
   "id": "5530acbe-7e1c-4f28-aa2f-754e2e345d64",
   "metadata": {},
   "outputs": [],
   "source": [
    "mynums=[1,2,3,4,5,6,67,8]"
   ]
  },
  {
   "cell_type": "code",
   "execution_count": 4,
   "id": "70952d0f-e9d0-4871-ab9c-4ac229e86f82",
   "metadata": {},
   "outputs": [
    {
     "data": {
      "text/plain": [
       "[1, 2, 3, 4, 5, 6, 67, 8]"
      ]
     },
     "execution_count": 4,
     "metadata": {},
     "output_type": "execute_result"
    }
   ],
   "source": [
    "mynums"
   ]
  },
  {
   "cell_type": "code",
   "execution_count": 106,
   "id": "b39a2cc0-470f-4597-bcda-645d0f2c1dc8",
   "metadata": {},
   "outputs": [
    {
     "data": {
      "text/plain": [
       "8"
      ]
     },
     "execution_count": 106,
     "metadata": {},
     "output_type": "execute_result"
    }
   ],
   "source": [
    "len(mynums)  # len() funtion gives length of list ie. no of elts in list"
   ]
  },
  {
   "cell_type": "code",
   "execution_count": 107,
   "id": "e8b88ecc-518e-4412-b5a7-1d15a30fe10b",
   "metadata": {},
   "outputs": [
    {
     "data": {
      "text/plain": [
       "67"
      ]
     },
     "execution_count": 107,
     "metadata": {},
     "output_type": "execute_result"
    }
   ],
   "source": [
    "max(mynums)"
   ]
  },
  {
   "cell_type": "code",
   "execution_count": 108,
   "id": "53496c76-ae43-4bb7-8407-575e805a817d",
   "metadata": {},
   "outputs": [
    {
     "data": {
      "text/plain": [
       "1"
      ]
     },
     "execution_count": 108,
     "metadata": {},
     "output_type": "execute_result"
    }
   ],
   "source": [
    "min(mynums)"
   ]
  },
  {
   "cell_type": "code",
   "execution_count": 5,
   "id": "932ed183-3e4a-475e-bf50-244c38a95cda",
   "metadata": {},
   "outputs": [
    {
     "data": {
      "text/plain": [
       "96"
      ]
     },
     "execution_count": 5,
     "metadata": {},
     "output_type": "execute_result"
    }
   ],
   "source": [
    "sum(mynums)"
   ]
  },
  {
   "cell_type": "markdown",
   "id": "614e3061-bc45-4ee5-b408-d8f5c6cb2fa0",
   "metadata": {},
   "source": [
    "# sorted()\n",
    "\n",
    " # The sorted() function allows you to display your list in a particular order, without affecting the actual order of the list. Temporary"
   ]
  },
  {
   "cell_type": "code",
   "execution_count": 45,
   "id": "5e452a31-4ad8-4461-85c7-1cf62e2b8a5a",
   "metadata": {},
   "outputs": [
    {
     "data": {
      "text/plain": [
       "[1, 2, 3, 4, 5, 6, 8, 67]"
      ]
     },
     "execution_count": 45,
     "metadata": {},
     "output_type": "execute_result"
    }
   ],
   "source": [
    "sorted(mynums)    #arrange num of elts in list in ascending order"
   ]
  },
  {
   "cell_type": "code",
   "execution_count": 46,
   "id": "fd20cb23-e655-4e16-8edd-7d73567388bb",
   "metadata": {},
   "outputs": [
    {
     "data": {
      "text/plain": [
       "[67, 8, 6, 5, 4, 3, 2, 1]"
      ]
     },
     "execution_count": 46,
     "metadata": {},
     "output_type": "execute_result"
    }
   ],
   "source": [
    "sorted(mynums,reverse=True) "
   ]
  },
  {
   "cell_type": "code",
   "execution_count": 223,
   "id": "c94c5043-9e1e-40c4-b981-54ac335e724c",
   "metadata": {},
   "outputs": [
    {
     "name": "stdout",
     "output_type": "stream",
     "text": [
      "['Andrew', 'Danny', 'Harsh']\n",
      "['Harsh', 'Andrew', 'Danny']\n"
     ]
    }
   ],
   "source": [
    "Students = ['Harsh', 'Andrew', 'Danny']\n",
    "print(sorted(Students))\n",
    "print(Students)"
   ]
  },
  {
   "cell_type": "markdown",
   "id": "689dfad9-c79b-404c-8bab-b44cdd9ba60f",
   "metadata": {},
   "source": [
    "# if all elts is true in list it will give true else false\n",
    " "
   ]
  },
  {
   "cell_type": "markdown",
   "id": "0d0fc44d-57ad-446b-adde-b2cc00c110bc",
   "metadata": {},
   "source": [
    "# 0, 0.0. False,0+0j this values will be false in python and rest of the value apart from this one will be true"
   ]
  },
  {
   "cell_type": "code",
   "execution_count": 47,
   "id": "d9456640-dfe3-4a3b-b43c-33ac1bb786d9",
   "metadata": {},
   "outputs": [],
   "source": [
    "mynums2=[0,1,2,3,4,45456,66,6]"
   ]
  },
  {
   "cell_type": "code",
   "execution_count": 48,
   "id": "a79fb5ab-f1e3-4680-9a8f-5fc572ce6e43",
   "metadata": {},
   "outputs": [
    {
     "data": {
      "text/plain": [
       "False"
      ]
     },
     "execution_count": 48,
     "metadata": {},
     "output_type": "execute_result"
    }
   ],
   "source": [
    "all(mynums2)  #if any 0 elt then false"
   ]
  },
  {
   "cell_type": "code",
   "execution_count": 58,
   "id": "4c2f845f-0781-4988-ada7-f2df85b0de34",
   "metadata": {},
   "outputs": [
    {
     "data": {
      "text/plain": [
       "True"
      ]
     },
     "execution_count": 58,
     "metadata": {},
     "output_type": "execute_result"
    }
   ],
   "source": [
    "any(mynums)    #if any 0 elt then also true for any()"
   ]
  },
  {
   "cell_type": "code",
   "execution_count": 51,
   "id": "ac3b2c28-ef8c-4d28-bbca-221ef36dbcca",
   "metadata": {},
   "outputs": [
    {
     "data": {
      "text/plain": [
       "True"
      ]
     },
     "execution_count": 51,
     "metadata": {},
     "output_type": "execute_result"
    }
   ],
   "source": [
    "any(mynums2)\n"
   ]
  },
  {
   "cell_type": "code",
   "execution_count": 59,
   "id": "d589684f-b7d6-4731-89a3-668fcd3ea2ee",
   "metadata": {},
   "outputs": [],
   "source": [
    "mynums3=[0,False,0.0,0+0j]"
   ]
  },
  {
   "cell_type": "code",
   "execution_count": 61,
   "id": "36b08263-790c-4e95-b614-b926152af5ca",
   "metadata": {},
   "outputs": [
    {
     "data": {
      "text/plain": [
       "False"
      ]
     },
     "execution_count": 61,
     "metadata": {},
     "output_type": "execute_result"
    }
   ],
   "source": [
    "any(mynums3)"
   ]
  },
  {
   "cell_type": "markdown",
   "id": "d4eb4977-553b-4c1e-93cf-1c6aa0ab4628",
   "metadata": {},
   "source": [
    "# List Methods"
   ]
  },
  {
   "cell_type": "code",
   "execution_count": 62,
   "id": "aa1200ea-8201-435a-a095-52ed34cdd434",
   "metadata": {},
   "outputs": [],
   "source": [
    "primes=[2,3,5,7,11]"
   ]
  },
  {
   "cell_type": "code",
   "execution_count": 63,
   "id": "2aefebf8-e6d3-4d59-b742-afbbfff601c0",
   "metadata": {},
   "outputs": [
    {
     "data": {
      "text/plain": [
       "5"
      ]
     },
     "execution_count": 63,
     "metadata": {},
     "output_type": "execute_result"
    }
   ],
   "source": [
    "len(primes)"
   ]
  },
  {
   "cell_type": "code",
   "execution_count": 64,
   "id": "8d988cb3-38fc-447d-9cc6-4cde05fb134e",
   "metadata": {},
   "outputs": [],
   "source": [
    "primes.append(13)"
   ]
  },
  {
   "cell_type": "code",
   "execution_count": 65,
   "id": "ddecd0e4-5f3c-45ce-98c8-f7020adfd231",
   "metadata": {},
   "outputs": [
    {
     "data": {
      "text/plain": [
       "[2, 3, 5, 7, 11, 13]"
      ]
     },
     "execution_count": 65,
     "metadata": {},
     "output_type": "execute_result"
    }
   ],
   "source": [
    "primes"
   ]
  },
  {
   "cell_type": "code",
   "execution_count": 79,
   "id": "32b538de-8566-4119-b1aa-4c3962aadfcf",
   "metadata": {},
   "outputs": [],
   "source": [
    "animal=['dog','cat','rabbit']"
   ]
  },
  {
   "cell_type": "code",
   "execution_count": 67,
   "id": "fa6fb42f-81f8-410a-b287-d5b3e98273d2",
   "metadata": {},
   "outputs": [],
   "source": [
    "animal.append('tiger')"
   ]
  },
  {
   "cell_type": "code",
   "execution_count": 68,
   "id": "d35248b5-e87d-4526-abfa-b1b2e95853ca",
   "metadata": {},
   "outputs": [
    {
     "data": {
      "text/plain": [
       "['dog', 'cat', 'rabbit', 'tiger']"
      ]
     },
     "execution_count": 68,
     "metadata": {},
     "output_type": "execute_result"
    }
   ],
   "source": [
    "animal"
   ]
  },
  {
   "cell_type": "code",
   "execution_count": 135,
   "id": "9f40666d-0edb-4753-b11f-0b01190982f8",
   "metadata": {},
   "outputs": [],
   "source": [
    "animal=['dog','cat','rabbit']"
   ]
  },
  {
   "cell_type": "code",
   "execution_count": 136,
   "id": "46814ef4-9335-4a11-963a-df8b36ac882d",
   "metadata": {},
   "outputs": [],
   "source": [
    "wild_animal=[\"lion\",\"fox\"]"
   ]
  },
  {
   "cell_type": "code",
   "execution_count": 137,
   "id": "e329cca5-486b-4db1-a3c3-1a211d39f988",
   "metadata": {},
   "outputs": [],
   "source": [
    "animal.append(wild_animal)"
   ]
  },
  {
   "cell_type": "code",
   "execution_count": 138,
   "id": "63c5f1da-9a35-413d-949e-2515b44fdfdd",
   "metadata": {},
   "outputs": [
    {
     "data": {
      "text/plain": [
       "['dog', 'cat', 'rabbit', ['lion', 'fox']]"
      ]
     },
     "execution_count": 138,
     "metadata": {},
     "output_type": "execute_result"
    }
   ],
   "source": [
    "animal"
   ]
  },
  {
   "cell_type": "code",
   "execution_count": 139,
   "id": "34744d20-4957-4d79-a845-c606a75d4df2",
   "metadata": {},
   "outputs": [],
   "source": [
    "animal.extend(wild_animal)"
   ]
  },
  {
   "cell_type": "code",
   "execution_count": 140,
   "id": "46807b36-402c-47c3-8d18-17fd00271442",
   "metadata": {},
   "outputs": [
    {
     "data": {
      "text/plain": [
       "['dog', 'cat', 'rabbit', ['lion', 'fox'], 'lion', 'fox']"
      ]
     },
     "execution_count": 140,
     "metadata": {},
     "output_type": "execute_result"
    }
   ],
   "source": [
    "animal"
   ]
  },
  {
   "cell_type": "code",
   "execution_count": 142,
   "id": "fd9c4366-393f-4adf-b262-f82bf44b2007",
   "metadata": {},
   "outputs": [
    {
     "data": {
      "text/plain": [
       "['lion', 'fox']"
      ]
     },
     "execution_count": 142,
     "metadata": {},
     "output_type": "execute_result"
    }
   ],
   "source": [
    "animal[3]"
   ]
  },
  {
   "cell_type": "code",
   "execution_count": 144,
   "id": "0d70f338-7098-4bb1-9cc8-9c8a20e55cd1",
   "metadata": {},
   "outputs": [
    {
     "data": {
      "text/plain": [
       "'lion'"
      ]
     },
     "execution_count": 144,
     "metadata": {},
     "output_type": "execute_result"
    }
   ],
   "source": [
    "animal[3][0]"
   ]
  },
  {
   "cell_type": "code",
   "execution_count": 145,
   "id": "b7df0c0c-99fb-446a-a169-97f306b89500",
   "metadata": {},
   "outputs": [
    {
     "data": {
      "text/plain": [
       "'i'"
      ]
     },
     "execution_count": 145,
     "metadata": {},
     "output_type": "execute_result"
    }
   ],
   "source": [
    "animal[3][0][1]"
   ]
  },
  {
   "cell_type": "code",
   "execution_count": 168,
   "id": "646348e9-967e-4474-8fbd-302194b88462",
   "metadata": {},
   "outputs": [],
   "source": [
    "mynums=[1,2,34,5,546,56,6576,767,76]"
   ]
  },
  {
   "cell_type": "code",
   "execution_count": 169,
   "id": "cba1c1c6-0a1a-40b2-9017-28bc34a9db5c",
   "metadata": {},
   "outputs": [],
   "source": [
    "mynums.append(1000)"
   ]
  },
  {
   "cell_type": "code",
   "execution_count": 170,
   "id": "c907e519-4103-4da6-81cd-8781010a4aee",
   "metadata": {},
   "outputs": [
    {
     "data": {
      "text/plain": [
       "[1, 2, 34, 5, 546, 56, 6576, 767, 76, 1000]"
      ]
     },
     "execution_count": 170,
     "metadata": {},
     "output_type": "execute_result"
    }
   ],
   "source": [
    "mynums"
   ]
  },
  {
   "cell_type": "code",
   "execution_count": 171,
   "id": "d007c4d4-b9a6-46e4-94f1-bb4ec412cc12",
   "metadata": {},
   "outputs": [],
   "source": [
    "mynums.extend('2000')"
   ]
  },
  {
   "cell_type": "code",
   "execution_count": 172,
   "id": "6797f80b-5b9c-4215-874c-db318a668cfb",
   "metadata": {},
   "outputs": [
    {
     "data": {
      "text/plain": [
       "[1, 2, 34, 5, 546, 56, 6576, 767, 76, 1000, '2', '0', '0', '0']"
      ]
     },
     "execution_count": 172,
     "metadata": {},
     "output_type": "execute_result"
    }
   ],
   "source": [
    "mynums"
   ]
  },
  {
   "cell_type": "code",
   "execution_count": 173,
   "id": "1c9e3e7f-3216-4bb5-8ea5-20931f5c03ca",
   "metadata": {},
   "outputs": [],
   "source": [
    "mynums.extend([2000])"
   ]
  },
  {
   "cell_type": "code",
   "execution_count": 174,
   "id": "ae711c4f-1a5d-49c2-bc2a-47c8a79fee73",
   "metadata": {},
   "outputs": [
    {
     "data": {
      "text/plain": [
       "[1, 2, 34, 5, 546, 56, 6576, 767, 76, 1000, '2', '0', '0', '0', 2000]"
      ]
     },
     "execution_count": 174,
     "metadata": {},
     "output_type": "execute_result"
    }
   ],
   "source": [
    "mynums"
   ]
  },
  {
   "cell_type": "markdown",
   "id": "627913a1-5e55-4fac-a3ba-6149b140e5ed",
   "metadata": {},
   "source": [
    "# modifying the list(it is going to overwrite)\n"
   ]
  },
  {
   "cell_type": "code",
   "execution_count": 177,
   "id": "83bdf684-9865-4aeb-9e94-f21060bd3f9b",
   "metadata": {},
   "outputs": [],
   "source": [
    "primes=[2,3,5,7,11]"
   ]
  },
  {
   "cell_type": "code",
   "execution_count": 178,
   "id": "013d55e8-22a4-4bee-9755-674c6eb39128",
   "metadata": {},
   "outputs": [
    {
     "data": {
      "text/plain": [
       "[2, 3, 5, 9, 11]"
      ]
     },
     "execution_count": 178,
     "metadata": {},
     "output_type": "execute_result"
    }
   ],
   "source": [
    "primes[3]=9\n",
    "primes"
   ]
  },
  {
   "cell_type": "markdown",
   "id": "29c24e32-832f-46de-9abd-a860e103bc7f",
   "metadata": {},
   "source": [
    "# insert(index,value)\n",
    "# not overwrite only insert at the given index"
   ]
  },
  {
   "cell_type": "code",
   "execution_count": 179,
   "id": "42b02fb1-2d33-4b09-baac-cd02ddb7c532",
   "metadata": {},
   "outputs": [],
   "source": [
    "primes.insert(3,1000)   #insert(index,values)"
   ]
  },
  {
   "cell_type": "code",
   "execution_count": 180,
   "id": "e9d7140e-cd31-4f3d-89a9-c91052e20fba",
   "metadata": {},
   "outputs": [
    {
     "data": {
      "text/plain": [
       "[2, 3, 5, 1000, 9, 11]"
      ]
     },
     "execution_count": 180,
     "metadata": {},
     "output_type": "execute_result"
    }
   ],
   "source": [
    "primes"
   ]
  },
  {
   "cell_type": "markdown",
   "id": "cdb8cb4f-4680-4e2f-8520-26cca4dc2565",
   "metadata": {},
   "source": [
    "# Count  -- no of times elt is present in list"
   ]
  },
  {
   "cell_type": "code",
   "execution_count": 184,
   "id": "8afea314-7e20-4585-aa28-e8be2e63d1f6",
   "metadata": {},
   "outputs": [
    {
     "data": {
      "text/plain": [
       "[1, 2, 34, 5, 546, 56, 6576, 767, 76, 1000, '2', '0', '0', '0', 2000]"
      ]
     },
     "execution_count": 184,
     "metadata": {},
     "output_type": "execute_result"
    }
   ],
   "source": [
    "mynums"
   ]
  },
  {
   "cell_type": "code",
   "execution_count": 185,
   "id": "f09f1d93-cd7f-473e-9ff8-ebf75f5f1016",
   "metadata": {},
   "outputs": [
    {
     "data": {
      "text/plain": [
       "1"
      ]
     },
     "execution_count": 185,
     "metadata": {},
     "output_type": "execute_result"
    }
   ],
   "source": [
    "mynums.count(\"2\") # \"2\" is a string in list ie,'2'"
   ]
  },
  {
   "cell_type": "markdown",
   "id": "895a35fd-19b3-443a-94d7-1c8a8eaf8f7a",
   "metadata": {},
   "source": [
    "# index"
   ]
  },
  {
   "cell_type": "code",
   "execution_count": 187,
   "id": "7d46bc91-a40f-42e3-999f-1c5ebebfbf2c",
   "metadata": {},
   "outputs": [
    {
     "data": {
      "text/plain": [
       "3"
      ]
     },
     "execution_count": 187,
     "metadata": {},
     "output_type": "execute_result"
    }
   ],
   "source": [
    "mynums.index(5)  # at what position 5 no. is present ie index of given elt"
   ]
  },
  {
   "cell_type": "code",
   "execution_count": 188,
   "id": "8fda7817-3092-407d-a870-c95efd30770f",
   "metadata": {},
   "outputs": [
    {
     "data": {
      "text/plain": [
       "14"
      ]
     },
     "execution_count": 188,
     "metadata": {},
     "output_type": "execute_result"
    }
   ],
   "source": [
    "mynums.index(2000)"
   ]
  },
  {
   "cell_type": "code",
   "execution_count": 190,
   "id": "2adb4c5c-87f8-4802-a692-95f02a05a215",
   "metadata": {},
   "outputs": [
    {
     "data": {
      "text/plain": [
       "14"
      ]
     },
     "execution_count": 190,
     "metadata": {},
     "output_type": "execute_result"
    }
   ],
   "source": [
    "len(mynums)-1"
   ]
  },
  {
   "cell_type": "markdown",
   "id": "2c19d82a-1d59-4867-badf-ef99c6e3d6d8",
   "metadata": {},
   "source": [
    "# remove() -- it searches and removes the first meeting elt"
   ]
  },
  {
   "cell_type": "code",
   "execution_count": 191,
   "id": "95d5fa81-ba76-4a9b-9d35-c1c991372a7e",
   "metadata": {},
   "outputs": [],
   "source": [
    "vowels=['a','e','i','o','u']"
   ]
  },
  {
   "cell_type": "code",
   "execution_count": 192,
   "id": "fbd1b93e-c76e-4f83-a2ac-953a4e5da99b",
   "metadata": {},
   "outputs": [],
   "source": [
    "vowels.remove('a') "
   ]
  },
  {
   "cell_type": "code",
   "execution_count": 193,
   "id": "baf56276-d2e9-40d9-a8a5-9cd924d62335",
   "metadata": {},
   "outputs": [
    {
     "data": {
      "text/plain": [
       "['e', 'i', 'o', 'u']"
      ]
     },
     "execution_count": 193,
     "metadata": {},
     "output_type": "execute_result"
    }
   ],
   "source": [
    "vowels"
   ]
  },
  {
   "cell_type": "code",
   "execution_count": 194,
   "id": "4b4a8a45-862f-4d78-a012-4ffce6b13a72",
   "metadata": {},
   "outputs": [],
   "source": [
    "vowels=['a','a','e','i','o','u']"
   ]
  },
  {
   "cell_type": "code",
   "execution_count": 195,
   "id": "f1bd026a-ee7f-43de-b3f0-8c07e2f6a150",
   "metadata": {},
   "outputs": [],
   "source": [
    "vowels.remove('a')"
   ]
  },
  {
   "cell_type": "code",
   "execution_count": 196,
   "id": "82be3078-3cb7-472b-83de-f16468b8941a",
   "metadata": {},
   "outputs": [
    {
     "data": {
      "text/plain": [
       "['a', 'e', 'i', 'o', 'u']"
      ]
     },
     "execution_count": 196,
     "metadata": {},
     "output_type": "execute_result"
    }
   ],
   "source": [
    "vowels"
   ]
  },
  {
   "cell_type": "markdown",
   "id": "7f44219d-b95b-4099-9d87-5ee3e20a074e",
   "metadata": {},
   "source": [
    "# pop"
   ]
  },
  {
   "cell_type": "markdown",
   "id": "6b3d9bb1-047e-47f8-b03c-994ff9881309",
   "metadata": {},
   "source": [
    "# removes and return an elt at given index\n",
    "\n",
    "# pop method takes index and remove it from the list and return that element"
   ]
  },
  {
   "cell_type": "code",
   "execution_count": 197,
   "id": "e9f60ce6-e096-430c-9676-f523763a7b41",
   "metadata": {},
   "outputs": [],
   "source": [
    "fruits=['apple','banana','orange']"
   ]
  },
  {
   "cell_type": "code",
   "execution_count": 198,
   "id": "be18e7f4-5345-4361-9c0e-3cd4014b642c",
   "metadata": {},
   "outputs": [
    {
     "data": {
      "text/plain": [
       "'banana'"
      ]
     },
     "execution_count": 198,
     "metadata": {},
     "output_type": "execute_result"
    }
   ],
   "source": [
    "fruits.pop(1)"
   ]
  },
  {
   "cell_type": "code",
   "execution_count": 199,
   "id": "d1d28e1d-b3f8-421d-901b-f02c451e1d75",
   "metadata": {},
   "outputs": [
    {
     "data": {
      "text/plain": [
       "['apple', 'orange']"
      ]
     },
     "execution_count": 199,
     "metadata": {},
     "output_type": "execute_result"
    }
   ],
   "source": [
    "fruits"
   ]
  },
  {
   "cell_type": "code",
   "execution_count": 200,
   "id": "ff66180e-0435-408d-b8ab-93bb9a6aa4b0",
   "metadata": {},
   "outputs": [
    {
     "ename": "IndexError",
     "evalue": "pop index out of range",
     "output_type": "error",
     "traceback": [
      "\u001b[0;31m---------------------------------------------------------------------------\u001b[0m",
      "\u001b[0;31mIndexError\u001b[0m                                Traceback (most recent call last)",
      "Cell \u001b[0;32mIn [200], line 1\u001b[0m\n\u001b[0;32m----> 1\u001b[0m \u001b[43mfruits\u001b[49m\u001b[38;5;241;43m.\u001b[39;49m\u001b[43mpop\u001b[49m\u001b[43m(\u001b[49m\u001b[38;5;241;43m2\u001b[39;49m\u001b[43m)\u001b[49m\n",
      "\u001b[0;31mIndexError\u001b[0m: pop index out of range"
     ]
    }
   ],
   "source": [
    "fruits.pop(2)"
   ]
  },
  {
   "cell_type": "code",
   "execution_count": 201,
   "id": "b247589e-f8d7-4f27-9d9d-3d030800ceeb",
   "metadata": {},
   "outputs": [],
   "source": [
    "fruits.clear()  # empty list "
   ]
  },
  {
   "cell_type": "code",
   "execution_count": 202,
   "id": "139b0c4b-15df-4e27-a6c7-ce85f40e3a89",
   "metadata": {},
   "outputs": [
    {
     "data": {
      "text/plain": [
       "[]"
      ]
     },
     "execution_count": 202,
     "metadata": {},
     "output_type": "execute_result"
    }
   ],
   "source": [
    "fruits"
   ]
  },
  {
   "cell_type": "markdown",
   "id": "1d89311d-d854-4e21-9d60-957f63938f15",
   "metadata": {},
   "source": [
    "# sort() method\n",
    "\n",
    "# it is going to sort in ascending as well as descending\n",
    "\n",
    "# One more important thing to remember here is that sort() method changes the order of the list permanently. If you want to change the order of the list temporarily, then you need to use sorted() function."
   ]
  },
  {
   "cell_type": "code",
   "execution_count": 203,
   "id": "89046a79-8a46-4c32-9368-da28c0411a6a",
   "metadata": {},
   "outputs": [],
   "source": [
    "mylist=[233,3456,346,576,76578,5678,5,34,6556,546]"
   ]
  },
  {
   "cell_type": "code",
   "execution_count": 204,
   "id": "89165c3c-ed5e-42e0-8c99-4c20e0a8d197",
   "metadata": {},
   "outputs": [],
   "source": [
    "mylist.sort()"
   ]
  },
  {
   "cell_type": "code",
   "execution_count": 205,
   "id": "be0ba11a-bdae-4de0-bdd9-89ac900c487e",
   "metadata": {},
   "outputs": [
    {
     "data": {
      "text/plain": [
       "[5, 34, 233, 346, 546, 576, 3456, 5678, 6556, 76578]"
      ]
     },
     "execution_count": 205,
     "metadata": {},
     "output_type": "execute_result"
    }
   ],
   "source": [
    "mylist"
   ]
  },
  {
   "cell_type": "code",
   "execution_count": 206,
   "id": "e49d36e7-536e-4a11-92d7-a0a4ab198d15",
   "metadata": {},
   "outputs": [],
   "source": [
    "mylist.sort(reverse=True)"
   ]
  },
  {
   "cell_type": "code",
   "execution_count": 207,
   "id": "6f336dd5-b865-42dd-9b73-6152224056f0",
   "metadata": {},
   "outputs": [
    {
     "data": {
      "text/plain": [
       "[76578, 6556, 5678, 3456, 576, 546, 346, 233, 34, 5]"
      ]
     },
     "execution_count": 207,
     "metadata": {},
     "output_type": "execute_result"
    }
   ],
   "source": [
    "mylist"
   ]
  },
  {
   "cell_type": "markdown",
   "id": "710a65c6-f6da-4afe-b8bd-69ba617b3f22",
   "metadata": {},
   "source": [
    "# reverse\n",
    "\n",
    "# it is going to reverse the element\n",
    "\n",
    "# reverse() method reverses the sequence of the list permanently. Hence in order to get back to the original sequence of the list apply the reverse() method again to the same list."
   ]
  },
  {
   "cell_type": "code",
   "execution_count": 222,
   "id": "bb8c75de-ebad-41d7-8d0f-5cc5e65a7ed6",
   "metadata": {},
   "outputs": [
    {
     "name": "stdout",
     "output_type": "stream",
     "text": [
      "['Danny', 'Andrew', 'Harsh']\n"
     ]
    }
   ],
   "source": [
    "Students = ['Harsh', 'Andrew', 'Danny']\n",
    "Students.reverse()\n",
    "print(Students)"
   ]
  },
  {
   "cell_type": "markdown",
   "id": "c1f10b4c-7006-495c-ae85-fbbc7642dd90",
   "metadata": {},
   "source": [
    "# Python Copy List\n",
    "# In order to copy a list, you can make a slice that includes the complete original list by omitting the first index and the second index ([:]). This, in turn, will tell Python to make a slice that starts at the first item and ends with the last item, by producing a copy of the entire list."
   ]
  },
  {
   "cell_type": "code",
   "execution_count": 225,
   "id": "66857255-0db1-4353-8a5e-cfa69f6d858c",
   "metadata": {},
   "outputs": [
    {
     "name": "stdout",
     "output_type": "stream",
     "text": [
      "My favorite foods are:\n",
      "['pizza', 'falafel', 'carrot cake']\n",
      "\n",
      "My friend's favorite foods are:\n",
      "['pizza', 'falafel', 'carrot cake']\n"
     ]
    }
   ],
   "source": [
    "my_foods = ['pizza', 'falafel', 'carrot cake']\n",
    "friend_foods = my_foods[:]\n",
    "print(\"My favorite foods are:\")\n",
    "print(my_foods)\n",
    "print(\"\\nMy friend's favorite foods are:\")\n",
    "print(friend_foods)"
   ]
  },
  {
   "cell_type": "markdown",
   "id": "03b2e57a-543f-4afc-a968-e498a7091d89",
   "metadata": {},
   "source": [
    "# Python Join List\n",
    "# Python join list means concatenating a list of strings to form a string. Sometimes it’s useful when you have to convert a list to string. For Example, convert a list to a comma separated string to save in a file."
   ]
  },
  {
   "cell_type": "code",
   "execution_count": 226,
   "id": "ccfb78a7-e3ab-45dd-a8dd-97c3282f5ef3",
   "metadata": {},
   "outputs": [
    {
     "name": "stdout",
     "output_type": "stream",
     "text": [
      "my favorite foods are: pizza,falafel,carrot cake\n"
     ]
    }
   ],
   "source": [
    "my_foods = ['pizza', 'falafel', 'carrot cake']\n",
    "my_foods_csv=\",\".join(my_foods)\n",
    "print(\"my favorite foods are:\",my_foods_csv)"
   ]
  },
  {
   "cell_type": "markdown",
   "id": "1600b327-d837-477f-9fc4-95679c936947",
   "metadata": {},
   "source": [
    "# Python Remove Duplicates from the List\n",
    "# you can remove the duplicate elements in the list by converting a list to a dictionary or by creating a new list and using for loop and if condition to append only the unique elements."
   ]
  },
  {
   "cell_type": "code",
   "execution_count": 237,
   "id": "7e9a9df4-8474-4417-99fa-17edb867cf75",
   "metadata": {},
   "outputs": [
    {
     "name": "stdout",
     "output_type": "stream",
     "text": [
      "[4, 5, 6]\n"
     ]
    }
   ],
   "source": [
    "mylist = [4, 5, 6, 5, 4]\n",
    "uniquelist=[]\n",
    "for  elem in mylist:\n",
    "    if elem not in uniquelist:\n",
    "        uniquelist.append(elem)\n",
    "print(uniquelist)"
   ]
  },
  {
   "cell_type": "code",
   "execution_count": null,
   "id": "d2a78433-03a6-4d69-a26a-ce44adf4cc75",
   "metadata": {},
   "outputs": [],
   "source": []
  },
  {
   "cell_type": "markdown",
   "id": "ff198d55-513d-42a9-9d76-5643f7fdff7d",
   "metadata": {},
   "source": [
    "# print all the elements with while as well as for loop\n"
   ]
  },
  {
   "cell_type": "code",
   "execution_count": 243,
   "id": "725eba87-e3bd-4469-a792-93ee7e359b35",
   "metadata": {},
   "outputs": [],
   "source": [
    "mynums=[45,65,765,75,523,5,547,67345,474,65,46]"
   ]
  },
  {
   "cell_type": "code",
   "execution_count": 245,
   "id": "1572d57d-7cb2-4840-bb13-5b8e59b60cbe",
   "metadata": {},
   "outputs": [
    {
     "name": "stdout",
     "output_type": "stream",
     "text": [
      "45\n",
      "65\n",
      "765\n",
      "75\n",
      "523\n",
      "5\n",
      "547\n",
      "67345\n",
      "474\n",
      "65\n",
      "46\n"
     ]
    }
   ],
   "source": [
    "i=0\n",
    "while i < len(mynums):\n",
    "    print(mynums[i])\n",
    "    i=i+1"
   ]
  },
  {
   "cell_type": "code",
   "execution_count": 246,
   "id": "d6f002da-dba2-4ddd-b5aa-a6d2d870873d",
   "metadata": {},
   "outputs": [
    {
     "name": "stdout",
     "output_type": "stream",
     "text": [
      "45\n",
      "65\n",
      "765\n",
      "75\n",
      "523\n",
      "5\n",
      "547\n",
      "67345\n",
      "474\n",
      "65\n",
      "46\n"
     ]
    }
   ],
   "source": [
    "for i in mynums:\n",
    "    print(i)\n",
    "    "
   ]
  },
  {
   "cell_type": "markdown",
   "id": "bb8b52cb-10aa-4401-a3b7-2a4b955dbbb4",
   "metadata": {},
   "source": [
    "# Write a program to accept five integers from the user , store them in a list . Display these integers and also display their sum"
   ]
  },
  {
   "cell_type": "code",
   "execution_count": 2,
   "id": "3fb58eb1-4c21-495d-9789-7999ec6a36d6",
   "metadata": {},
   "outputs": [
    {
     "name": "stdin",
     "output_type": "stream",
     "text": [
      "Enter nums: 5\n",
      " 3\n",
      " 4\n",
      " 67\n",
      " 45\n",
      " 23\n"
     ]
    },
    {
     "name": "stdout",
     "output_type": "stream",
     "text": [
      "List of elts: [3, 4, 67, 45, 23]\n",
      "Sum of elts: 142\n"
     ]
    }
   ],
   "source": [
    "list=[]\n",
    "tot=0\n",
    "nums=int(input(\"Enter nums:\"))\n",
    "\n",
    "for i in range(0,nums):\n",
    "    elt=int(input())\n",
    "    list.append(elt)\n",
    "    tot=tot + list[i]\n",
    "    \n",
    "print('List of elts:',list)\n",
    "print('Sum of elts:',tot)\n",
    "    "
   ]
  },
  {
   "cell_type": "code",
   "execution_count": 7,
   "id": "711f9084-faf0-4246-81da-9576348fe2e2",
   "metadata": {},
   "outputs": [
    {
     "name": "stdin",
     "output_type": "stream",
     "text": [
      "Enter nums: 3\n",
      " 2\n",
      " 4\n",
      " 5\n"
     ]
    },
    {
     "name": "stdout",
     "output_type": "stream",
     "text": [
      "List of elts: [2, 4, 5]\n",
      "Sum of elts: 11\n"
     ]
    }
   ],
   "source": [
    "list1=[]\n",
    "nums=int(input(\"Enter nums:\"))\n",
    "\n",
    "for i in range(0,nums):\n",
    "    elt=int(input())\n",
    "    list1.append(elt)\n",
    "    #tot=tot + list[i]\n",
    "    sum(list1)\n",
    "    \n",
    "print('List of elts:',list1)\n",
    "print('Sum of elts:',sum(list1))\n",
    "    "
   ]
  },
  {
   "cell_type": "markdown",
   "id": "11dee31c-8ec5-483f-ba3a-522b862947c4",
   "metadata": {},
   "source": [
    "# Write a program to accept 5 unique integers from the user. Make sure if the integer being entered is already present in the list your code displays the message “Item already present” and ask the user to reenter the integer."
   ]
  },
  {
   "cell_type": "code",
   "execution_count": 8,
   "id": "4655e59e-8df9-4269-a070-df9a2337e162",
   "metadata": {},
   "outputs": [
    {
     "name": "stdin",
     "output_type": "stream",
     "text": [
      "enter num 3\n",
      " 34\n",
      " 34\n"
     ]
    },
    {
     "name": "stdout",
     "output_type": "stream",
     "text": [
      "item already present, please reenter another num\n"
     ]
    },
    {
     "name": "stdin",
     "output_type": "stream",
     "text": [
      " 54\n"
     ]
    },
    {
     "name": "stdout",
     "output_type": "stream",
     "text": [
      "[34, 54]\n"
     ]
    }
   ],
   "source": [
    "list1=[]\n",
    "num=int(input('enter num'))\n",
    "for i in range(0,num):\n",
    "    num=int(input())\n",
    "    if num not in list1:\n",
    "        list1.append(num)\n",
    "    else:\n",
    "        print('item already present, please reenter another num')\n",
    "        \n",
    "print(list1)"
   ]
  },
  {
   "cell_type": "markdown",
   "id": "5c10ca78-e632-4973-89f8-d9413d3e3c2d",
   "metadata": {},
   "source": [
    "# Write a program to accept 2 lists from the user of 5 nos each . Assume each list will have unique nos Now find out how many items in these lists are common ."
   ]
  },
  {
   "cell_type": "code",
   "execution_count": 144,
   "id": "e3eccc4e-93d7-47a3-a4bd-02b921143c1a",
   "metadata": {},
   "outputs": [
    {
     "name": "stdin",
     "output_type": "stream",
     "text": [
      "enter nums of lst1: 1 2 3 4 5\n"
     ]
    },
    {
     "name": "stdout",
     "output_type": "stream",
     "text": [
      "['1', '2', '3', '4', '5']\n"
     ]
    },
    {
     "name": "stdin",
     "output_type": "stream",
     "text": [
      "enter nums of lst2: 6 7 8 9 10\n"
     ]
    },
    {
     "name": "stdout",
     "output_type": "stream",
     "text": [
      "['6', '7', '8', '9', '10']\n",
      "set()\n"
     ]
    }
   ],
   "source": [
    "lst1=input('enter nums of lst1:')\n",
    "list1=lst1.split()\n",
    "print(list1)\n",
    "lst2=input('enter nums of lst2:')\n",
    "list2=lst2.split()\n",
    "print(list2)\n",
    "final=set(list1) & set(list2)\n",
    "print(final)"
   ]
  },
  {
   "cell_type": "code",
   "execution_count": 158,
   "id": "6d58db14-4616-4931-ae92-b7a79dd7817d",
   "metadata": {},
   "outputs": [
    {
     "name": "stdin",
     "output_type": "stream",
     "text": [
      "enter nums of lst1: 1 2 3 4 5\n"
     ]
    },
    {
     "name": "stdout",
     "output_type": "stream",
     "text": [
      "['1', '2', '3', '4', '5']\n"
     ]
    },
    {
     "name": "stdin",
     "output_type": "stream",
     "text": [
      "enter nums of lst2: 6 7 8 9 10\n"
     ]
    },
    {
     "name": "stdout",
     "output_type": "stream",
     "text": [
      "['6', '7', '8', '9', '10']\n",
      "Elements in common: set()\n"
     ]
    }
   ],
   "source": [
    "lst1=input('enter nums of lst1:')\n",
    "list1=lst1.split()\n",
    "set1=set(list1)\n",
    "print(list1)\n",
    "lst2=input('enter nums of lst2:')\n",
    "list2=lst2.split()\n",
    "set2=set(list2)\n",
    "print(list2)\n",
    "result=set1.intersection(set2)\n",
    "print(\"Elements in common:\",result)"
   ]
  },
  {
   "cell_type": "markdown",
   "id": "bf4dafff-de3e-4898-93a1-8a74a924cb37",
   "metadata": {},
   "source": [
    "# Rewrite the previous code so that your code alos displays the items which are common in both the lists"
   ]
  },
  {
   "cell_type": "code",
   "execution_count": 159,
   "id": "b65ff72c-3e8a-4b59-bc8b-ed71a429c760",
   "metadata": {},
   "outputs": [
    {
     "name": "stdin",
     "output_type": "stream",
     "text": [
      "enter nums of lst1: 1 2 3 4 5\n"
     ]
    },
    {
     "name": "stdout",
     "output_type": "stream",
     "text": [
      "['1', '2', '3', '4', '5']\n"
     ]
    },
    {
     "name": "stdin",
     "output_type": "stream",
     "text": [
      "enter nums of lst2: 1 2 3 6 7\n"
     ]
    },
    {
     "name": "stdout",
     "output_type": "stream",
     "text": [
      "['1', '2', '3', '6', '7']\n",
      "{'1', '2', '3'}\n"
     ]
    }
   ],
   "source": [
    "lst1=input('enter nums of lst1:')\n",
    "list1=lst1.split()\n",
    "set1=set(list1)\n",
    "print(list1)\n",
    "lst2=input('enter nums of lst2:')\n",
    "list2=lst2.split()\n",
    "set2=set(list2)\n",
    "print(list2)\n",
    "result=set1.intersection(set2)\n",
    "print(result)"
   ]
  },
  {
   "cell_type": "code",
   "execution_count": 165,
   "id": "d168f734-05ea-4044-8eeb-44f1eca82941",
   "metadata": {},
   "outputs": [
    {
     "data": {
      "text/plain": [
       "[2, 4, 6, 'hello', 8, 10]"
      ]
     },
     "execution_count": 165,
     "metadata": {},
     "output_type": "execute_result"
    }
   ],
   "source": [
    "spam=[2, 4, 6, 8, 10]\n",
    "spam.insert(3,'hello')\n",
    "\n"
   ]
  },
  {
   "cell_type": "code",
   "execution_count": 166,
   "id": "8d544b5b-2c74-413e-969f-d5d3ca678809",
   "metadata": {},
   "outputs": [
    {
     "data": {
      "text/plain": [
       "'d'"
      ]
     },
     "execution_count": 166,
     "metadata": {},
     "output_type": "execute_result"
    }
   ],
   "source": [
    "spam=['a', 'b', 'c', 'd']\n",
    "spam[-1]"
   ]
  },
  {
   "cell_type": "code",
   "execution_count": 167,
   "id": "b10cc1d3-f6e9-4f13-bd45-416cf7d036d0",
   "metadata": {},
   "outputs": [
    {
     "data": {
      "text/plain": [
       "['a', 'b']"
      ]
     },
     "execution_count": 167,
     "metadata": {},
     "output_type": "execute_result"
    }
   ],
   "source": [
    "spam[:2]"
   ]
  },
  {
   "cell_type": "code",
   "execution_count": 168,
   "id": "b4960c6a-74b6-427b-b357-0f73cf1448fe",
   "metadata": {},
   "outputs": [
    {
     "data": {
      "text/plain": [
       "'d'"
      ]
     },
     "execution_count": 168,
     "metadata": {},
     "output_type": "execute_result"
    }
   ],
   "source": [
    "spam[int(int('3' * 2) / 11)]"
   ]
  },
  {
   "cell_type": "code",
   "execution_count": 180,
   "id": "bab16741-6a7b-4302-b1e8-93eb8c5f503c",
   "metadata": {},
   "outputs": [],
   "source": [
    "bacon=[3.14, 'cat', 11, 'cat' ,True]"
   ]
  },
  {
   "cell_type": "code",
   "execution_count": 181,
   "id": "c303f0e0-752b-4a0a-b7f8-14d34351d5a5",
   "metadata": {},
   "outputs": [
    {
     "data": {
      "text/plain": [
       "1"
      ]
     },
     "execution_count": 181,
     "metadata": {},
     "output_type": "execute_result"
    }
   ],
   "source": [
    "bacon.index('cat')"
   ]
  },
  {
   "cell_type": "code",
   "execution_count": 182,
   "id": "25314bb3-f6ff-4ff2-ba92-0e44bd9fccd1",
   "metadata": {},
   "outputs": [
    {
     "data": {
      "text/plain": [
       "[3.14, 'cat', 11, 'cat', True, 99]"
      ]
     },
     "execution_count": 182,
     "metadata": {},
     "output_type": "execute_result"
    }
   ],
   "source": [
    "bacon.append(99)\n",
    "bacon"
   ]
  },
  {
   "cell_type": "code",
   "execution_count": 183,
   "id": "a0882ca7-36ef-4e85-8bf5-b27a84bfb51f",
   "metadata": {},
   "outputs": [],
   "source": [
    "bacon.remove('cat')"
   ]
  },
  {
   "cell_type": "code",
   "execution_count": 184,
   "id": "46b2d631-2251-493f-8c51-7ae828fe6ca4",
   "metadata": {},
   "outputs": [
    {
     "data": {
      "text/plain": [
       "[3.14, 11, 'cat', True, 99]"
      ]
     },
     "execution_count": 184,
     "metadata": {},
     "output_type": "execute_result"
    }
   ],
   "source": [
    "bacon"
   ]
  },
  {
   "cell_type": "code",
   "execution_count": 185,
   "id": "02b20c6a-ec47-4c85-9f14-65904156693d",
   "metadata": {},
   "outputs": [
    {
     "name": "stdout",
     "output_type": "stream",
     "text": [
      "[1, 2, 3, 4, 5, 6]\n"
     ]
    }
   ],
   "source": [
    "list1=[1,2,3]\n",
    "list2=[4,5,6]\n",
    "res=list1 + list2\n",
    "print(res)"
   ]
  },
  {
   "cell_type": "code",
   "execution_count": 194,
   "id": "e27b1121-8f47-4689-88eb-29f95f560c6b",
   "metadata": {},
   "outputs": [
    {
     "data": {
      "text/plain": [
       "(42,)"
      ]
     },
     "execution_count": 194,
     "metadata": {},
     "output_type": "execute_result"
    }
   ],
   "source": [
    "(42,)"
   ]
  },
  {
   "cell_type": "code",
   "execution_count": 195,
   "id": "0606789b-b47d-4337-bae2-7c1528b4e83e",
   "metadata": {},
   "outputs": [
    {
     "data": {
      "text/plain": [
       "tuple"
      ]
     },
     "execution_count": 195,
     "metadata": {},
     "output_type": "execute_result"
    }
   ],
   "source": [
    "type((42,))"
   ]
  },
  {
   "cell_type": "code",
   "execution_count": 196,
   "id": "95aa2901-f95f-4f36-b6f2-55df5e5f3c3a",
   "metadata": {},
   "outputs": [
    {
     "data": {
      "text/plain": [
       "(1, 2, 3)"
      ]
     },
     "execution_count": 196,
     "metadata": {},
     "output_type": "execute_result"
    }
   ],
   "source": [
    "list=[1,2,3]\n",
    "tuple(list)"
   ]
  },
  {
   "cell_type": "markdown",
   "id": "44b0320d-ca7b-4793-bf22-230fe8ba326d",
   "metadata": {},
   "source": [
    "# 10-1-23 List Comprehension"
   ]
  },
  {
   "cell_type": "code",
   "execution_count": null,
   "id": "5a471275-23bc-4a73-ac64-701d7710c100",
   "metadata": {},
   "outputs": [],
   "source": [
    "list_comp=[X for x in iterable <test condition>]"
   ]
  },
  {
   "cell_type": "code",
   "execution_count": null,
   "id": "8032b0fe-95b3-42d1-bd55-0d8dc2f00009",
   "metadata": {},
   "outputs": [],
   "source": [
    "iterables:\n",
    "list\n",
    "tuple\n",
    "string\n",
    "set\n",
    "dict"
   ]
  },
  {
   "cell_type": "code",
   "execution_count": 8,
   "id": "18148ded-022b-4f7c-87ee-b91c5a84266c",
   "metadata": {},
   "outputs": [],
   "source": [
    "my_string='preeti motwani'"
   ]
  },
  {
   "cell_type": "code",
   "execution_count": 9,
   "id": "01128e75-e38a-465c-80e1-826d1790387a",
   "metadata": {},
   "outputs": [],
   "source": [
    "my_list=[]"
   ]
  },
  {
   "cell_type": "code",
   "execution_count": 10,
   "id": "8e6f00db-7bd2-472d-9bc7-7726d03fc67b",
   "metadata": {},
   "outputs": [],
   "source": [
    "for i in my_string:\n",
    "    my_list.append(i)\n",
    "    "
   ]
  },
  {
   "cell_type": "code",
   "execution_count": 11,
   "id": "7fe64dd0-2a97-4aeb-8365-9dd5548e0e20",
   "metadata": {},
   "outputs": [
    {
     "data": {
      "text/plain": [
       "['p', 'r', 'e', 'e', 't', 'i', ' ', 'm', 'o', 't', 'w', 'a', 'n', 'i']"
      ]
     },
     "execution_count": 11,
     "metadata": {},
     "output_type": "execute_result"
    }
   ],
   "source": [
    "my_list"
   ]
  },
  {
   "cell_type": "code",
   "execution_count": 12,
   "id": "54d7a13b-3a22-4981-8ab4-82f7549d4d27",
   "metadata": {},
   "outputs": [
    {
     "data": {
      "text/plain": [
       "['p', 'r', 'e', 'e', 't', 'i', ' ', 'm', 'o', 't', 'w', 'a', 'n', 'i']"
      ]
     },
     "execution_count": 12,
     "metadata": {},
     "output_type": "execute_result"
    }
   ],
   "source": [
    "[x for x in my_string]"
   ]
  },
  {
   "cell_type": "markdown",
   "id": "ff649c29-36eb-46ff-b49a-9fffdf34d4b3",
   "metadata": {
    "tags": []
   },
   "source": [
    "# WAP tp produce square of number and store in list and print the list\n",
    "1. using for loop\n",
    "2. using List comprehension"
   ]
  },
  {
   "cell_type": "code",
   "execution_count": 16,
   "id": "f6c58f74-b7c7-4e16-b063-e2dc0b267a2b",
   "metadata": {},
   "outputs": [
    {
     "name": "stdout",
     "output_type": "stream",
     "text": [
      "[1, 4, 9, 16, 25, 36, 49, 64, 81, 100]\n"
     ]
    }
   ],
   "source": [
    "sq_list=[]\n",
    "for x in range(1,11):\n",
    "    x=x**2\n",
    "    sq_list.append(x)\n",
    "print(sq_list)   \n"
   ]
  },
  {
   "cell_type": "code",
   "execution_count": 17,
   "id": "80406f9f-9012-49bb-b9f9-774fcd327814",
   "metadata": {},
   "outputs": [
    {
     "data": {
      "text/plain": [
       "[1, 4, 9, 16, 25, 36, 49, 64, 81, 100]"
      ]
     },
     "execution_count": 17,
     "metadata": {},
     "output_type": "execute_result"
    }
   ],
   "source": [
    "[x**2 for x in range(1,11)]"
   ]
  },
  {
   "cell_type": "markdown",
   "id": "541ceb66-581d-4565-a32b-07af48a6b1aa",
   "metadata": {},
   "source": [
    "# Adv of list comprehension :\n",
    "# To reduce time and space complexity , code complexity"
   ]
  },
  {
   "cell_type": "markdown",
   "id": "c9e49886-fcb2-4cdd-b94d-e461355b0aad",
   "metadata": {},
   "source": [
    "# WAP to accept a string from user and convert each letter of given string in uppercase,store it in a list and print the list"
   ]
  },
  {
   "cell_type": "code",
   "execution_count": 20,
   "id": "223f8033-4ff4-46e4-a7ef-c31da6a0af9b",
   "metadata": {},
   "outputs": [
    {
     "name": "stdin",
     "output_type": "stream",
     "text": [
      "Enter a string: preeti\n"
     ]
    },
    {
     "name": "stdout",
     "output_type": "stream",
     "text": [
      "['P', 'R', 'E', 'E', 'T', 'I']\n"
     ]
    }
   ],
   "source": [
    "str1=input('Enter a string:')\n",
    "list1=[]\n",
    "for i in str1:\n",
    "    list1.append(i.upper())\n",
    "print(str2)\n"
   ]
  },
  {
   "cell_type": "code",
   "execution_count": 21,
   "id": "2b10d2df-a00e-4141-b007-daf579eafecd",
   "metadata": {},
   "outputs": [
    {
     "name": "stdin",
     "output_type": "stream",
     "text": [
      "Enter a string: preeti\n"
     ]
    },
    {
     "data": {
      "text/plain": [
       "['P', 'R', 'E', 'E', 'T', 'I']"
      ]
     },
     "execution_count": 21,
     "metadata": {},
     "output_type": "execute_result"
    }
   ],
   "source": [
    "str1=input('Enter a string:')\n",
    "[i.upper() for i in str1]"
   ]
  },
  {
   "cell_type": "code",
   "execution_count": 22,
   "id": "334a3776-29cb-46e6-ad67-95a151097142",
   "metadata": {},
   "outputs": [
    {
     "data": {
      "text/plain": [
       "['preeti', 'motwani']"
      ]
     },
     "execution_count": 22,
     "metadata": {},
     "output_type": "execute_result"
    }
   ],
   "source": [
    "\"preeti motwani\".split()"
   ]
  },
  {
   "cell_type": "code",
   "execution_count": 23,
   "id": "b90fc8db-ee10-448d-90b4-ab252fb022df",
   "metadata": {},
   "outputs": [
    {
     "data": {
      "text/plain": [
       "['PREETI', 'MOTWANI']"
      ]
     },
     "execution_count": 23,
     "metadata": {},
     "output_type": "execute_result"
    }
   ],
   "source": [
    "[x.upper() for x in my_string.split()]"
   ]
  },
  {
   "cell_type": "markdown",
   "id": "18759a63-7154-478a-b90a-893d8b6bc9c5",
   "metadata": {},
   "source": [
    "# WAP to accept five integers from user and store them in a list. Display sum of elts and elt of list."
   ]
  },
  {
   "cell_type": "code",
   "execution_count": 9,
   "id": "e0f67261-ad4d-44b0-8fac-444e4439a823",
   "metadata": {},
   "outputs": [
    {
     "name": "stdin",
     "output_type": "stream",
     "text": [
      "enter 5 numbers: 1 2 3 4 5\n"
     ]
    },
    {
     "name": "stdout",
     "output_type": "stream",
     "text": [
      "[1, 2, 3, 4, 5]\n",
      "15\n"
     ]
    }
   ],
   "source": [
    "my_list1=[]\n",
    "nums=input('enter 5 numbers:')\n",
    "for x in nums.split():\n",
    "    my_list1.append(int(x))\n",
    "print(my_list1)\n",
    "print(sum(my_list1))"
   ]
  },
  {
   "cell_type": "markdown",
   "id": "ff278774-baad-4e4f-890d-1f2027cfa9d0",
   "metadata": {},
   "source": [
    "# WAP to produce square of only odd nums btwn 1 to 50 and store them in list and print list using for loop and list comprehension"
   ]
  },
  {
   "cell_type": "code",
   "execution_count": 37,
   "id": "25a206f0-6a79-4eaf-a989-79bba8973c3f",
   "metadata": {},
   "outputs": [
    {
     "name": "stdout",
     "output_type": "stream",
     "text": [
      "[1, 9, 25, 49, 81, 121, 169, 225, 289, 361, 441, 529, 625, 729, 841, 961, 1089, 1225, 1369, 1521, 1681, 1849, 2025, 2209, 2401]\n"
     ]
    }
   ],
   "source": [
    "list3=[]\n",
    "for i in range(1,51,2):\n",
    "    list3.append(i*i)\n",
    "print(list3)\n",
    "    "
   ]
  },
  {
   "cell_type": "code",
   "execution_count": 39,
   "id": "514a1dbe-2060-4fcb-ae27-d61518794392",
   "metadata": {},
   "outputs": [
    {
     "name": "stdout",
     "output_type": "stream",
     "text": [
      "[1, 9, 25, 49, 81, 121, 169, 225, 289, 361, 441, 529, 625, 729, 841, 961, 1089, 1225, 1369, 1521, 1681, 1849, 2025, 2209, 2401]\n"
     ]
    }
   ],
   "source": [
    "list4=[]\n",
    "[list4.append(i*i) for i in range(1,51,2)]\n",
    "print(list4)"
   ]
  },
  {
   "cell_type": "markdown",
   "id": "d0a348fd-de40-4c09-8a7f-740028106c6e",
   "metadata": {},
   "source": [
    "# Write a function to remove the vowel which accept the string as argument and return list with all vowels removed from string\n",
    "# using for loop and list comprehension"
   ]
  },
  {
   "cell_type": "code",
   "execution_count": 9,
   "id": "26762f27-9f26-4f37-acbb-e415b298d20f",
   "metadata": {},
   "outputs": [
    {
     "name": "stdout",
     "output_type": "stream",
     "text": [
      "My nm s Prt\n"
     ]
    }
   ],
   "source": [
    "import re\n",
    "def rem_vow(string):\n",
    "    return re.sub(\"['AEIOUaeiou']\", '',string)\n",
    "\n",
    "string = \"My name is Preeti\"\n",
    "print(rem_vow(string))\n"
   ]
  },
  {
   "cell_type": "code",
   "execution_count": 16,
   "id": "045bde17-4312-4c6d-8234-52636762ca0e",
   "metadata": {},
   "outputs": [
    {
     "name": "stdout",
     "output_type": "stream",
     "text": [
      "[['e', 'e', 'i', 'i', 'a', 'e']]\n"
     ]
    }
   ],
   "source": [
    "def rem_vowel(string):\n",
    "    list3=[]\n",
    "    vowels = ['a','e','i','o','u']\n",
    "    result = [letter for letter in string if letter.lower() in vowels]\n",
    "    #result = ''.join(result)\n",
    "    list3.append(result)\n",
    "    print(list3)\n",
    " \n",
    "\n",
    "string = \"preeti is my name\"\n",
    "rem_vowel(string)"
   ]
  },
  {
   "cell_type": "code",
   "execution_count": null,
   "id": "87f06e9e-1e54-4ef6-a836-72c1887c9fda",
   "metadata": {},
   "outputs": [],
   "source": [
    "list_comp=[X for x in iterable <test expression>]"
   ]
  },
  {
   "cell_type": "code",
   "execution_count": null,
   "id": "623e2378-4bcf-42cc-a2d1-1a45e6cc9910",
   "metadata": {},
   "outputs": [],
   "source": [
    "iterable:\n",
    "list\n",
    "tuple\n",
    "dict\n",
    "set\n",
    "string"
   ]
  },
  {
   "cell_type": "code",
   "execution_count": 31,
   "id": "9bc81519-312c-488f-b9f6-dce2c64ebae9",
   "metadata": {},
   "outputs": [],
   "source": [
    "my_str='preeti motwani'"
   ]
  },
  {
   "cell_type": "code",
   "execution_count": 35,
   "id": "3d25e183-cf0d-44d7-9573-505efa374e65",
   "metadata": {},
   "outputs": [],
   "source": [
    "my_list=[]"
   ]
  },
  {
   "cell_type": "code",
   "execution_count": 36,
   "id": "a81ad997-d164-459c-b25b-4fde1b22d3d5",
   "metadata": {},
   "outputs": [],
   "source": [
    "for i in my_str:\n",
    "    my_list.append(i)"
   ]
  },
  {
   "cell_type": "code",
   "execution_count": 37,
   "id": "700cc329-3ce9-4cea-ada1-12aec1699bdb",
   "metadata": {},
   "outputs": [
    {
     "data": {
      "text/plain": [
       "['p', 'r', 'e', 'e', 't', 'i', ' ', 'm', 'o', 't', 'w', 'a', 'n', 'i']"
      ]
     },
     "execution_count": 37,
     "metadata": {},
     "output_type": "execute_result"
    }
   ],
   "source": [
    "my_list"
   ]
  },
  {
   "cell_type": "code",
   "execution_count": 38,
   "id": "97c9add3-0af6-4290-9dc4-bc73fa64067d",
   "metadata": {},
   "outputs": [
    {
     "data": {
      "text/plain": [
       "['p', 'r', 'e', 'e', 't', 'i', ' ', 'm', 'o', 't', 'w', 'a', 'n', 'i']"
      ]
     },
     "execution_count": 38,
     "metadata": {},
     "output_type": "execute_result"
    }
   ],
   "source": [
    "[x for x in my_str]"
   ]
  },
  {
   "cell_type": "markdown",
   "id": "3923f3d6-61a8-4bc3-ad27-b7fda31dec5c",
   "metadata": {},
   "source": [
    "# wap to accept a string from user and convert each word of the given string into upper case store it in a list and print that list."
   ]
  },
  {
   "cell_type": "code",
   "execution_count": 44,
   "id": "d2a55424-1ae4-4eab-9164-37d8fdc99c17",
   "metadata": {
    "tags": []
   },
   "outputs": [
    {
     "name": "stdout",
     "output_type": "stream",
     "text": [
      "['T', 'R', 'A', 'V', 'E', 'L', ' ', 'T', 'H', 'E', ' ', 'W', 'O', 'R', 'L', 'D']\n"
     ]
    }
   ],
   "source": [
    "var='Travel the world'\n",
    "list=[]\n",
    "for i in var:\n",
    "    list.append(i.upper())\n",
    "print(list)"
   ]
  },
  {
   "cell_type": "code",
   "execution_count": 50,
   "id": "c215f94f-6622-4d0a-9c28-257e9c83ba60",
   "metadata": {},
   "outputs": [
    {
     "name": "stdin",
     "output_type": "stream",
     "text": [
      "enter the name Travel the world\n"
     ]
    },
    {
     "data": {
      "text/plain": [
       "['TRAVEL', 'THE', 'WORLD']"
      ]
     },
     "execution_count": 50,
     "metadata": {},
     "output_type": "execute_result"
    }
   ],
   "source": [
    "mystring=input(\"enter the name\")\n",
    "[x.upper() for x in mystring.split()]"
   ]
  },
  {
   "cell_type": "code",
   "execution_count": 51,
   "id": "5231aeb2-51e6-4dd1-8495-a2dba5369807",
   "metadata": {},
   "outputs": [
    {
     "name": "stdin",
     "output_type": "stream",
     "text": [
      "enter the name Travel the world\n"
     ]
    },
    {
     "data": {
      "text/plain": [
       "['T',\n",
       " 'R',\n",
       " 'A',\n",
       " 'V',\n",
       " 'E',\n",
       " 'L',\n",
       " ' ',\n",
       " 'T',\n",
       " 'H',\n",
       " 'E',\n",
       " ' ',\n",
       " 'W',\n",
       " 'O',\n",
       " 'R',\n",
       " 'L',\n",
       " 'D']"
      ]
     },
     "execution_count": 51,
     "metadata": {},
     "output_type": "execute_result"
    }
   ],
   "source": [
    "mystring=input(\"enter the name\")\n",
    "[x.upper() for x in mystring]"
   ]
  },
  {
   "cell_type": "code",
   "execution_count": 52,
   "id": "b270fc64-0444-45e9-8ed3-d9f1a0b30a6b",
   "metadata": {},
   "outputs": [
    {
     "data": {
      "text/plain": [
       "['preeti', 'motwani']"
      ]
     },
     "execution_count": 52,
     "metadata": {},
     "output_type": "execute_result"
    }
   ],
   "source": [
    "'preeti motwani'.split()"
   ]
  },
  {
   "cell_type": "code",
   "execution_count": 53,
   "id": "0e0ba1f5-224a-47cf-a0fd-946ec3e586c4",
   "metadata": {},
   "outputs": [
    {
     "data": {
      "text/plain": [
       "['1', '2', '3', '4', '5']"
      ]
     },
     "execution_count": 53,
     "metadata": {},
     "output_type": "execute_result"
    }
   ],
   "source": [
    "\"1-2-3-4-5\".split(\"-\")"
   ]
  },
  {
   "cell_type": "code",
   "execution_count": 56,
   "id": "2f8aeea1-fc66-4d9c-a6e0-8822651fc060",
   "metadata": {},
   "outputs": [
    {
     "name": "stdout",
     "output_type": "stream",
     "text": [
      "1\n",
      "9\n",
      "25\n",
      "49\n",
      "81\n",
      "121\n",
      "169\n",
      "225\n",
      "289\n",
      "361\n",
      "441\n",
      "529\n",
      "625\n",
      "729\n",
      "841\n",
      "961\n",
      "1089\n",
      "1225\n",
      "1369\n",
      "1521\n",
      "1681\n",
      "1849\n",
      "2025\n",
      "2209\n",
      "2401\n"
     ]
    }
   ],
   "source": [
    "list1to50  = range(1,51)\n",
    "\n",
    "for x in list1to50:\n",
    "    if x %2 != 0:\n",
    "        print(x**2)\n",
    "list1to50  = range(1,51)"
   ]
  },
  {
   "cell_type": "code",
   "execution_count": 57,
   "id": "84ac1cc7-ba66-4846-a9af-71f764468b0f",
   "metadata": {},
   "outputs": [
    {
     "data": {
      "text/plain": [
       "[1,\n",
       " 9,\n",
       " 25,\n",
       " 49,\n",
       " 81,\n",
       " 121,\n",
       " 169,\n",
       " 225,\n",
       " 289,\n",
       " 361,\n",
       " 441,\n",
       " 529,\n",
       " 625,\n",
       " 729,\n",
       " 841,\n",
       " 961,\n",
       " 1089,\n",
       " 1225,\n",
       " 1369,\n",
       " 1521,\n",
       " 1681,\n",
       " 1849,\n",
       " 2025,\n",
       " 2209,\n",
       " 2401]"
      ]
     },
     "execution_count": 57,
     "metadata": {},
     "output_type": "execute_result"
    }
   ],
   "source": [
    "[x**2 for x in list1to50 if x %2 != 0 ]"
   ]
  },
  {
   "cell_type": "code",
   "execution_count": null,
   "id": "5e2b1493-9d54-4323-a96e-b7de96ca8668",
   "metadata": {},
   "outputs": [],
   "source": [
    "itrabale: list,tuple,string,dict,set,range()\n",
    "\n",
    "[x for x in itrable <test_condition>]\n",
    "\n",
    "for reduce the code complexity\n",
    "for reduce the time and space complexity\n",
    "better use of this list comprehension with lambda function map function and filer function and reduce function"
   ]
  },
  {
   "cell_type": "code",
   "execution_count": null,
   "id": "a1b479a8-8139-481f-b8dd-a56fb12da36e",
   "metadata": {},
   "outputs": [],
   "source": []
  }
 ],
 "metadata": {
  "kernelspec": {
   "display_name": "Python 3 (ipykernel)",
   "language": "python",
   "name": "python3"
  },
  "language_info": {
   "codemirror_mode": {
    "name": "ipython",
    "version": 3
   },
   "file_extension": ".py",
   "mimetype": "text/x-python",
   "name": "python",
   "nbconvert_exporter": "python",
   "pygments_lexer": "ipython3",
   "version": "3.10.6"
  }
 },
 "nbformat": 4,
 "nbformat_minor": 5
}
