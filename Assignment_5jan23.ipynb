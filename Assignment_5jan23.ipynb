{
 "cells": [
  {
   "cell_type": "markdown",
   "id": "3387cef3-bf8e-4b43-abaf-a1c795aa138f",
   "metadata": {},
   "source": [
    "# Write a program to accept five integers from the user , store them in a list . Display these integers and also display their sum"
   ]
  },
  {
   "cell_type": "code",
   "execution_count": 3,
   "id": "ebe310eb-11a3-41a8-b6c4-865fed11a8d1",
   "metadata": {},
   "outputs": [
    {
     "name": "stdin",
     "output_type": "stream",
     "text": [
      "Enter nums: 5\n",
      " 1\n",
      " 2\n",
      " 3\n",
      " 6\n",
      " 8\n"
     ]
    },
    {
     "name": "stdout",
     "output_type": "stream",
     "text": [
      "List of elts: [1, 2, 3, 6, 8]\n",
      "Sum of elts: 20\n"
     ]
    }
   ],
   "source": [
    "list=[]\n",
    "tot=0\n",
    "nums=int(input(\"Enter nums:\"))\n",
    "\n",
    "for i in range(0,nums):\n",
    "    elt=int(input())\n",
    "    list.append(elt)\n",
    "    tot=tot + list[i]\n",
    "    \n",
    "print('List of elts:',list)\n",
    "print('Sum of elts:',tot)"
   ]
  },
  {
   "cell_type": "markdown",
   "id": "9e2e8b61-8bef-47cf-983d-80658d67abf2",
   "metadata": {},
   "source": [
    "# Write a program to accept 5 unique integers from the user. Make sure if the integer being entered is already present in the list your code displays the message “Item already present” and ask the user to reenter the integer."
   ]
  },
  {
   "cell_type": "code",
   "execution_count": 5,
   "id": "df1a9bc4-6883-4452-b5bc-a003614beb10",
   "metadata": {},
   "outputs": [
    {
     "name": "stdin",
     "output_type": "stream",
     "text": [
      "enter num 5\n",
      " 1\n",
      " 3\n",
      " 4\n",
      " 3\n"
     ]
    },
    {
     "name": "stdout",
     "output_type": "stream",
     "text": [
      "item already present, please reenter another num\n"
     ]
    },
    {
     "name": "stdin",
     "output_type": "stream",
     "text": [
      " 5\n"
     ]
    },
    {
     "name": "stdout",
     "output_type": "stream",
     "text": [
      "[1, 3, 4, 5]\n"
     ]
    }
   ],
   "source": [
    "list1=[]\n",
    "num=int(input('enter num'))\n",
    "for i in range(0,num):\n",
    "    num=int(input())\n",
    "    if num not in list1:\n",
    "        list1.append(num)\n",
    "    else:\n",
    "        print('item already present, please reenter another num')\n",
    "        \n",
    "print(list1)"
   ]
  },
  {
   "cell_type": "markdown",
   "id": "734d93ac-2c10-4d58-96f2-e45a3f5b2c6d",
   "metadata": {},
   "source": [
    "# Write a program to accept 2 lists from the user of 5 nos each . Assume each list will have unique nos Now find out how many items in these lists are common ."
   ]
  },
  {
   "cell_type": "code",
   "execution_count": 6,
   "id": "a4047cbe-825b-4873-894f-13bff031ecd2",
   "metadata": {},
   "outputs": [
    {
     "name": "stdin",
     "output_type": "stream",
     "text": [
      "enter nums of lst1: 1 2 3 4 5\n"
     ]
    },
    {
     "name": "stdout",
     "output_type": "stream",
     "text": [
      "['1', '2', '3', '4', '5']\n"
     ]
    },
    {
     "name": "stdin",
     "output_type": "stream",
     "text": [
      "enter nums of lst2: 6 7 8 9 10\n"
     ]
    },
    {
     "name": "stdout",
     "output_type": "stream",
     "text": [
      "['6', '7', '8', '9', '10']\n",
      "Elements in common: set()\n"
     ]
    }
   ],
   "source": [
    "lst1=input('enter nums of lst1:')\n",
    "list1=lst1.split()\n",
    "set1=set(list1)\n",
    "print(list1)\n",
    "lst2=input('enter nums of lst2:')\n",
    "list2=lst2.split()\n",
    "set2=set(list2)\n",
    "print(list2)\n",
    "result=set1.intersection(set2)\n",
    "print(\"Elements in common:\",result)"
   ]
  },
  {
   "cell_type": "markdown",
   "id": "de4f51a5-5da9-4331-a7dd-056bcfd5ef63",
   "metadata": {},
   "source": [
    "# Rewrite the previous code so that your code alos displays the items which are common in both the lists"
   ]
  },
  {
   "cell_type": "code",
   "execution_count": null,
   "id": "9dea370f-a4a3-4f44-945b-b559d2e81f2a",
   "metadata": {},
   "outputs": [],
   "source": [
    "lst1=input('enter nums of lst1:')\n",
    "list1=lst1.split()\n",
    "set1=set(list1)\n",
    "print(list1)\n",
    "lst2=input('enter nums of lst2:')\n",
    "list2=lst2.split()\n",
    "set2=set(list2)\n",
    "print(list2)\n",
    "result=set1.intersection(set2)\n",
    "print(result)"
   ]
  },
  {
   "cell_type": "code",
   "execution_count": null,
   "id": "9cd6a46e-35e5-4e45-bd78-742d0005a7a3",
   "metadata": {},
   "outputs": [],
   "source": []
  }
 ],
 "metadata": {
  "kernelspec": {
   "display_name": "Python 3 (ipykernel)",
   "language": "python",
   "name": "python3"
  },
  "language_info": {
   "codemirror_mode": {
    "name": "ipython",
    "version": 3
   },
   "file_extension": ".py",
   "mimetype": "text/x-python",
   "name": "python",
   "nbconvert_exporter": "python",
   "pygments_lexer": "ipython3",
   "version": "3.10.6"
  }
 },
 "nbformat": 4,
 "nbformat_minor": 5
}
